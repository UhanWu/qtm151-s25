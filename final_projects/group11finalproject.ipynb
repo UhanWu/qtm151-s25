{
 "cells": [
  {
   "cell_type": "markdown",
   "metadata": {},
   "source": [
    "# QTM 151 Final Project \n",
    "Rola Ke, Coco Zhang, Yuhan Wu"
   ]
  },
  {
   "cell_type": "code",
   "execution_count": 44,
   "metadata": {},
   "outputs": [],
   "source": [
    "import pandas as pd\n",
    "from sklearn.preprocessing import StandardScaler\n",
    "from sklearn.cluster import KMeans\n",
    "import matplotlib.pyplot as plt\n",
    "import plotly.graph_objects as go\n",
    "import plotly.express as px\n"
   ]
  },
  {
   "cell_type": "markdown",
   "metadata": {},
   "source": []
  },
  {
   "cell_type": "markdown",
   "metadata": {},
   "source": [
    "# Research Question 1\n",
    "\n",
    "Are improvements in empowerment rights (freedom of speech, assembly, political participation) occurring alongside improvements in physical integrity rights (protection from violence), or are there trade-offs between the two dimensions over time? Among all countries, which ones demonstrate the greatest overall gains or losses in human rights (combining empowerment and physical integrity)? Furthermore, is the world collectively moving toward better protection of human rights, or are global trends showing stagnation or backsliding?"
   ]
  },
  {
   "cell_type": "code",
   "execution_count": null,
   "metadata": {},
   "outputs": [
    {
     "data": {
      "application/vnd.plotly.v1+json": {
       "config": {
        "plotlyServerURL": "https://plot.ly"
       },
       "data": [
        {
         "hoverinfo": "text",
         "hovertext": [
          "American Samoa (2019)",
          "Australia (2017)",
          "Australia (2018)",
          "Australia (2019)",
          "Australia (2020)",
          "Australia (2021)",
          "Australia (2022)",
          "Australia (2023)",
          "Cook Islands (2018)",
          "Cook Islands (2019)",
          "Cook Islands (2020)",
          "Cook Islands (2021)",
          "Cook Islands (2022)",
          "FSM (2019)",
          "FSM (2020)",
          "French Polynesia (2019)",
          "French Polynesia (2020)",
          "French Polynesia (2021)",
          "Guam (2018)",
          "Guam (2019)",
          "Guam (2020)",
          "Kiribati (2019)",
          "Kiribati (2020)",
          "Kiribati (2021)",
          "Liberia (2017)",
          "Liberia (2018)",
          "Liberia (2023)",
          "Nepal (2017)",
          "Nepal (2022)",
          "Nepal (2023)",
          "New Caledonia (2018)",
          "New Caledonia (2019)",
          "New Caledonia (2020)",
          "New Caledonia (2021)",
          "New Caledonia (2022)",
          "New Zealand (2017)",
          "New Zealand (2018)",
          "New Zealand (2019)",
          "New Zealand (2020)",
          "New Zealand (2021)",
          "New Zealand (2022)",
          "New Zealand (2023)",
          "Niue (2018)",
          "Niue (2019)",
          "Niue (2020)",
          "Northern Mariana Islands (2019)",
          "Northern Mariana Islands (2020)",
          "PNG (2019)",
          "PNG (2020)",
          "Samoa (2018)",
          "Samoa (2019)",
          "Samoa (2020)",
          "Samoa (2021)",
          "Samoa (2022)",
          "South Korea (2017)",
          "South Korea (2018)",
          "South Korea (2019)",
          "South Korea (2020)",
          "South Korea (2021)",
          "South Korea (2022)",
          "South Korea (2023)",
          "Taiwan (2019)",
          "Taiwan (2020)",
          "Taiwan (2021)",
          "Taiwan (2022)",
          "Taiwan (2023)",
          "Tonga (2018)",
          "Tonga (2019)",
          "Tonga (2020)",
          "Tonga (2021)",
          "Tonga (2022)",
          "Tuvalu (2020)",
          "Tuvalu (2021)",
          "United Kingdom (2017)",
          "United Kingdom (2018)",
          "United Kingdom (2019)",
          "United Kingdom (2020)",
          "United Kingdom (2022)"
         ],
         "marker": {
          "color": "green",
          "opacity": 0.7,
          "size": 8
         },
         "mode": "markers",
         "name": "Free",
         "type": "scatter",
         "x": {
          "bdata": "z7uxoDAoHUBrTrkddQ8dQPn2rkFfuhxAYmEt40slG0AndiPinJ8dQAoS290DnB5AbbE2IQgrHUAkTRe9rsIeQCieDr/23x5AQj6NIDqVIEBGdHQB1LUgQGKVHMHX2SBAPzUDAdcuIUBxHk5gOrEgQD8Ucd8PfCJAqPaOv1kfIUCTHRuBeDEgQBlczgBydSBAYGsAgK1EIEAhfe5ftCYgQLxASYEFeBxASUSdXs4hHUCnhYGdUckfQAtCeR9Hgx9AmHGuvD/pF0B+jSRBuNobQLC47pwctBpA5GSHnc6iG0DGYuXhTgMdQPcF9MKdWx1A7X4V4Ls9IUDT5Bh/kY4gQOyKGeHtNSBAZPMn4I2LIEC8IvjfSkIgQFS0KKIV/h5Aebx/4rb0HkBCzvv/OKkfQPrinCLRbR9Avv0UIjsyHkDQcX8/RuodQLi97r50zB5ATtlEweeiIEDwh5//HowhQGlavR6nfyFA+VtMfWqeGkBPU3AdiKEdQEtYG2MnNBZAWcy+4fSkGED5Gt2cpX8dQCAWIMDYgSBA1u2invTIIEDIDK9/Mg0gQC2F9qBW5xxA6rEtA846HUDlyBS9na4fQCIH2z6aXCFA3BK54AySIECZUk3/SHsgQCHn/X+cSCBA6CLPPwtjH0BhYj3/h4kgQP0RhgFLxh9AvIwHADMYIEDnpnJ/miMgQPDbEOM1xx5AdbwT/et2G0APCYRCqeIbQNMQ+j7BQh9AUeLO4EpRH0AI6L6c2a4eQGXqZF9ohCBAGjj7Xp69IECVVcfgF9UcQIjjr3+NMh1AySE9oMcrHUAS/wtfuiweQKszCL1IGhxA",
          "dtype": "f8"
         },
         "y": {
          "bdata": "xYyVPa7SH0DANcGB2rEcQHs1myIbGxtAvO4IAr8hG0DW1wRiI4IaQBZek393TBtAG9O43AUXG0Als9VATnsZQP1VNmIc+h5APa5Xov1RHkAJ2R5iKGwdQPdMQF3ujR5AHRsmv+rFHEALJ2n+mBYgQKCHf30Z2R1AT7iynyBUGkDX6mEe6FcZQPgl0YGb+xtA533SP3cQH0Ajfmphu7geQN7lIr4T8xxAOvGLAcjnGkDi+OtfoyYbQEKCPYELbRtAb2GCvwQTIkCi6vyArHwYQDTgh9498xlADaX2ItomGEAJ1+39V5cYQA+cM6K0jxdA99xTg3r0G0CAt0CC4q8eQMiwL36/9R5AAPA+fboIHkDJ0j2hjTIbQMV7xJ4siyBAJxdjYB3/HkBx7Z8Cu90eQDvuSoG7Qh5Aw9kIH6WNHECQc1HjlE8eQMhx8QHLKx5Av7PiwFBgIED38vG/S9cgQGJsfIG0Mh9AwyD6/4K+HECPhCKCFn8YQEp/ij56vhpA9JcnIaKSGUCQjDCgck8aQGxNqQE5xxxArECIv4FcG0DHKxA9KeMXQHdWwV4XRCBAmquLgK9dHEDyzwziA2McQFb04h8RZhpAq+y7Ivi/GUDD70uiAwcdQNKpK5/loRxAWhU84BUkF0B3MGKfAEocQNXdhmI89BtAeFjywuf4G0DceYeA6EYcQCbxA6EG/RxAbB+X3TiuG0CB+K9ip9YdQEm5+xwfDR9Ad61zwjqsH0A8Jwf9lnoeQELAa+HDLh1AjvXDvlOPH0D44SAhym8dQF0F50KbehtAW2bH/JJTGkDl/jT/+YcXQMC9IUN9ERdA",
          "dtype": "f8"
         }
        },
        {
         "hoverinfo": "text",
         "hovertext": [
          "Angola (2017)",
          "Angola (2019)",
          "Angola (2020)",
          "Angola (2021)",
          "Angola (2022)",
          "Bangladesh (2021)",
          "Bangladesh (2022)",
          "Bangladesh (2023)",
          "Brazil (2017)",
          "Brazil (2018)",
          "Brazil (2019)",
          "Brazil (2020)",
          "Brazil (2021)",
          "Brazil (2022)",
          "Brazil (2023)",
          "China (2020)",
          "China (2021)",
          "China (2022)",
          "China (2023)",
          "DRC (2018)",
          "DRC (2019)",
          "DRC (2020)",
          "DRC (2022)",
          "DRC (2023)",
          "India (2020)",
          "India (2021)",
          "India (2022)",
          "India (2023)",
          "Kazakhstan (2019)",
          "Kazakhstan (2022)",
          "Mexico (2017)",
          "Mexico (2018)",
          "Mexico (2019)",
          "Mexico (2020)",
          "Mexico (2021)",
          "Mexico (2022)",
          "Mexico (2023)",
          "Mozambique (2017)",
          "Mozambique (2018)",
          "Mozambique (2019)",
          "Mozambique (2020)",
          "Mozambique (2021)",
          "Mozambique (2022)",
          "Mozambique (2023)",
          "Saudi Arabia (2017)",
          "Saudi Arabia (2018)",
          "Saudi Arabia (2019)",
          "Saudi Arabia (2020)",
          "Saudi Arabia (2021)",
          "Saudi Arabia (2022)",
          "Saudi Arabia (2023)",
          "Sri Lanka (2022)",
          "United States (2020)",
          "Venezuela (2017)",
          "Venezuela (2018)",
          "Venezuela (2019)",
          "Venezuela (2020)",
          "Venezuela (2021)",
          "Venezuela (2022)",
          "Venezuela (2023)",
          "Vietnam (2017)",
          "Vietnam (2018)",
          "Vietnam (2019)",
          "Vietnam (2020)",
          "Vietnam (2021)",
          "Vietnam (2022)",
          "Vietnam (2023)"
         ],
         "marker": {
          "color": "red",
          "opacity": 0.7,
          "size": 8
         },
         "mode": "markers",
         "name": "Less Free",
         "type": "scatter",
         "x": {
          "bdata": "TDIXXYObEUBZ8Ow8O/IRQCjuHdpsgQtAUwmqoWj5CEAgG5KktWMMQDRjdrsDMQZAvlTHhV5KC0AwJMxZRHkOQCHcruEz0wlA2XENfcH4CEDYSBKEK1AHQMHlsWZk0ApAMKGCwwuiD0BArO3caowPQBpk3B7OXQxAn16EhIP4BkDWkBOBRZkHQHgZtEbzVgZAejR62oYmBUC7VLZZBjYJQBC5z+Cl0hFAAxGYPb+WEUClbVdDPZASQBTSdTzBeQpA5cI3AxLTEEArW9pfLCoTQDWIxV7ewg9AKWof4WqzDkC6HjteN4sUQCBSwgJOvRJAOG0hI/tLAEDKQip7AQz9P798smK4OgNAfM0XIHZLCkA/9y9akdILQILnOX2YiApA85t4vernC0CONjOfGP4PQNur6kAx5RBAt8sjJHdtD0BNbQQ9L5ANQEnBroEITA9Ae4JpvYSnEEBS2QtgJVoRQDFi+rn8kgZA98lRgCg4BEAJDQ5AtPACQPfcU4N6NAVAmrZ/ZaU5C0Dxun7BbogQQGlEH+LV6A5Az++gfrxcFEDSHopdNo0RQIYFUr2QSQtAkYaun1ntBUC3eeOkMM8CQKh5IuOsAwRA+40bI346C0BfQ3Bcxv0NQK2sI/2s6AhA9hFTfULxEkD5y92da+YQQHIgf8QKkg1AO8jrwaSQFEDZzYx+NHwUQDbZ9cHoqBJAOOJ/4Us/EkA=",
          "dtype": "f8"
         },
         "y": {
          "bdata": "IexvZHniBUDTMxh+y+cQQPJVPD/WrQVAIiC6+3f4B0B9NOa/UUwHQGezj7pCNA1AIOIw4kxdC0BjKCfaVdgHQGV4RyEkfhZAZxfCIJ9eFUB3jOGgcw0TQEvrysIy+RNA4rd8f95PEkDDWVvC61wRQF110xwPtBtA/MFlunzQ+T/h+9EmPUL4P4g6YuOwCvo/36mAe56f/j//ENGegbcFQLDxT1+F6hRALpUS3Q7QFUDr92mB4kwSQMKxHUJLzRFA9MsW/y2XDUAFIEmkyEUPQIOdBxyuqgxAMlRqm4dICUBV/aWgNiUFQIDp/vudRwlA6C0e3nNQD0Ctz+aCRFQUQJhQweEFiRZAj17Dwv88FUB2K5UBsb4UQLJfHAGBsxVA8+SaApkNFUAbDBqfbq0RQMqTWt4LihBA7XGV3YKbDECJ5Tud0IASQKRmWUEdoBBA+oYdIV6qEUCu6vaj8vAOQDGhODbxpPA/m/OdqSEb9D81HrY+9qT2PzmkB/R48Pc/kPuxpDc3+T8J7Ys6KYL2PxYej3RhH/s/wW59/bXhDEBCRps+lmETQKNvd3u1yP0/El7M4DkFA0B5Ovzan1AEQOXmZV5YOAVAt3/AXryaBkDK4lndReMIQGJLj6Z6IgRAJ7bMM0BT8z/D2Qgfpd0AQF9NVCWAcQNAKPXAIhr4A0DmOjL74dwCQFtmx/ySswFAJKb6hKIPAkA=",
          "dtype": "f8"
         }
        },
        {
         "hoverinfo": "text",
         "hovertext": [
          "Angola (2018)",
          "Angola (2023)",
          "DRC (2021)",
          "Fiji (2017)",
          "Fiji (2018)",
          "Fiji (2019)",
          "Fiji (2020)",
          "Fiji (2021)",
          "Fiji (2022)",
          "Hong Kong (2019)",
          "Hong Kong (2020)",
          "Hong Kong (2021)",
          "Hong Kong (2022)",
          "Hong Kong (2023)",
          "Jordan (2017)",
          "Jordan (2018)",
          "Jordan (2019)",
          "Jordan (2020)",
          "Jordan (2021)",
          "Jordan (2022)",
          "Kazakhstan (2017)",
          "Kazakhstan (2018)",
          "Kazakhstan (2020)",
          "Kazakhstan (2021)",
          "Kazakhstan (2023)",
          "Kyrgyzstan (2017)",
          "Kyrgyzstan (2018)",
          "Kyrgyzstan (2019)",
          "Kyrgyzstan (2020)",
          "Kyrgyzstan (2021)",
          "Kyrgyzstan (2022)",
          "Kyrgyzstan (2023)",
          "Liberia (2019)",
          "Liberia (2020)",
          "Liberia (2021)",
          "Liberia (2022)",
          "Malaysia (2019)",
          "Malaysia (2020)",
          "Malaysia (2021)",
          "Malaysia (2022)",
          "Malaysia (2023)",
          "Maldives (2021)",
          "Maldives (2022)",
          "Maldives (2023)",
          "Nauru (2018)",
          "Nauru (2019)",
          "Nepal (2018)",
          "Nepal (2019)",
          "Nepal (2020)",
          "Nepal (2021)",
          "PNG (2018)",
          "PNG (2021)",
          "PNG (2022)",
          "PNG (2023)",
          "Singapore (2022)",
          "Singapore (2023)",
          "Solomon Islands (2020)",
          "Solomon Islands (2021)",
          "Sri Lanka (2023)",
          "Thailand (2021)",
          "Thailand (2022)",
          "Thailand (2023)",
          "United Kingdom (2021)",
          "United Kingdom (2023)",
          "United States (2017)",
          "United States (2018)",
          "United States (2019)",
          "United States (2021)",
          "United States (2022)",
          "United States (2023)",
          "Vanuatu (2022)"
         ],
         "marker": {
          "color": "orange",
          "opacity": 0.7,
          "size": 8
         },
         "mode": "markers",
         "name": "Partially Free",
         "type": "scatter",
         "x": {
          "bdata": "trNUg9V9FEB38SMjDLAZQJvZ+F0iIBNAepVrwNZDGkC+dbRgmPocQP+jgP6MHB5ATblnAuoSHUDfdZGdEpscQGv/uR47lhxAwy6KHvj4GkApyd9i6gMbQBQ8KqM2DhtAUlTsHo8/GkBA8J09PCgZQJjxAGCGOBlA4qar4Fz4GUA44E59eyIZQF3Ed2LWUxhA0ebd/Za9GkDwUX+9wtIcQPWB5J1DaRhAEqBL3ToEGEDE4RY9AbYVQCzwFd169RVAMKdffZedGUCHhzB+Gk8cQH+HokCfUBxAAe8uYX4IHUAruprhq4IaQGqme53UbxpAcUStH1EnGkA+LfXielIXQH0WlR6XWhdAtinDXWKhFkCOm3UhsYgYQN+b8FwpZRhAKcnfYuojGkDJ8I5CSBwbQOl53FyhrBtAcRC+QcUaG0D+8zRgkDwXQENIzKJm5hxAa524HK/QG0DnNuFemb8ZQDozC/7IjhtAOkPMgA7eG0APYJFfPwQbQFxlt+BWIxlA2ry737L0GUAZWY2AZbAdQNCaH39psRVAMD+BwX9EGECwZq4d1gUXQJGOvL21/RZAGwwan27tHECZEw+DVC0dQEXaxp+orB5A6bI9HwqjIUAyOEpencMVQF5c9F8xnBVAxjGSPUJFF0BOZOYCl+caQLUhtT8GyRxAr29xnvtUHEDRn+wcueQSQAY4c/7cLhJAJgwUwrSJE0DVzcXf9iQUQAFGPH4U2hRAldIzvcQAFECOZEXDGBcfQA==",
          "dtype": "f8"
         },
         "y": {
          "bdata": "0egOYmdSEkCuiiYGN/gMQMZ4gx4ghhNAm9HqP8Y3CUCa6sn8o38PQNzDueHS7A9AiOBu/4BNEUC1N/jCZOoSQN+NYD60ehFA4HSBgdYyDkCtwmaACxIEQNT2CmanigFAGi2swDW8A0BWb8PeekMBQL/TZMbbCg1AL5wQ3y5wDUB53Wy98LQLQPpSifxELwpAs2cqH917EEB/j7Be+7ATQFlTk7///+8/GWXsOgq2A0AgAIKDB+cHQFxrOeFvJQtAJqd2hqn9C0BHNZE+UsESQE0eBT71jhZAWC/Q/7yKE0BnSHB+HlYTQAypR78iXBRAW7gHfNmhDkDfOe9anQcIQDk2TH7VExBADLSWXYspEEBh2tw95SUUQDSGOUGbZBdAYS5OIfywFkC1yqcicC8OQJVPReD+WhBAMaMO4U6IEUAuEiQASRoTQLMgOT7/6hJAPVelPtrhEkAoC19f6woSQO32tB4ZLhJAS1Bo/j3NEEBVX6eiwhIVQGMUugFVshNAFkbE3tVMFEAcNKrCVcwVQP9Mc+H2ghlAH3tiQnHkF0De+CTBZa8WQI739CIkzBhAhXtl3qpbEEA5z33e+cIQQBiWP98W7ANAlIm2vqPJEECDuLyD6fUKQNd080NbdA1AzCrHvypSEEDA4U+ew14TQPff77z5OhZAalzugnf4FUD4ja89s+wUQMt1CT1ROBdAJ0pCIm0LF0Bn4aHeQlUWQEwJdx1ghBdAfPn436W3FkCsmtZcJGMPQA==",
          "dtype": "f8"
         }
        }
       ],
       "layout": {
        "annotations": [
         {
          "arrowcolor": "gray",
          "arrowhead": 4,
          "arrowsize": 1,
          "arrowwidth": 1.5,
          "ax": 4.4018683,
          "axref": "x",
          "ay": 2.7355831,
          "ayref": "y",
          "opacity": 0.5,
          "showarrow": true,
          "x": 5.1228848,
          "xref": "x",
          "y": 4.5804725,
          "yref": "y"
         },
         {
          "arrowcolor": "gray",
          "arrowhead": 4,
          "arrowsize": 1,
          "arrowwidth": 1.5,
          "ax": 5.1228848,
          "axref": "x",
          "ay": 4.5804725,
          "ayref": "y",
          "opacity": 0.5,
          "showarrow": true,
          "x": 4.4865541,
          "xref": "x",
          "y": 4.2263622,
          "yref": "y"
         },
         {
          "arrowcolor": "gray",
          "arrowhead": 4,
          "arrowsize": 1,
          "arrowwidth": 1.5,
          "ax": 4.4865541,
          "axref": "x",
          "ay": 4.2263622,
          "ayref": "y",
          "opacity": 0.5,
          "showarrow": true,
          "x": 3.4381959,
          "xref": "x",
          "y": 2.7098813,
          "yref": "y"
         },
         {
          "arrowcolor": "gray",
          "arrowhead": 4,
          "arrowsize": 1,
          "arrowwidth": 1.5,
          "ax": 3.4381959,
          "axref": "x",
          "ay": 2.7098813,
          "ayref": "y",
          "opacity": 0.5,
          "showarrow": true,
          "x": 3.1217816,
          "xref": "x",
          "y": 2.9963226,
          "yref": "y"
         },
         {
          "arrowcolor": "gray",
          "arrowhead": 4,
          "arrowsize": 1,
          "arrowwidth": 1.5,
          "ax": 3.1217816,
          "axref": "x",
          "ay": 2.9963226,
          "ayref": "y",
          "opacity": 0.5,
          "showarrow": true,
          "x": 3.5486863,
          "xref": "x",
          "y": 2.9122653,
          "yref": "y"
         },
         {
          "arrowcolor": "gray",
          "arrowhead": 4,
          "arrowsize": 1,
          "arrowwidth": 1.5,
          "ax": 3.5486863,
          "axref": "x",
          "ay": 2.9122653,
          "ayref": "y",
          "opacity": 0.5,
          "showarrow": true,
          "x": 6.4219213,
          "xref": "x",
          "y": 3.6211987,
          "yref": "y"
         },
         {
          "arrowcolor": "gray",
          "arrowhead": 4,
          "arrowsize": 1,
          "arrowwidth": 1.5,
          "ax": 7.2650952,
          "axref": "x",
          "ay": 7.1736851,
          "ayref": "y",
          "opacity": 0.5,
          "showarrow": true,
          "x": 7.182004,
          "xref": "x",
          "y": 6.7764707,
          "yref": "y"
         },
         {
          "arrowcolor": "gray",
          "arrowhead": 4,
          "arrowsize": 1,
          "arrowwidth": 1.5,
          "ax": 7.182004,
          "axref": "x",
          "ay": 6.7764707,
          "ayref": "y",
          "opacity": 0.5,
          "showarrow": true,
          "x": 6.7864223,
          "xref": "x",
          "y": 6.7829552,
          "yref": "y"
         },
         {
          "arrowcolor": "gray",
          "arrowhead": 4,
          "arrowsize": 1,
          "arrowwidth": 1.5,
          "ax": 6.7864223,
          "axref": "x",
          "ay": 6.7829552,
          "ayref": "y",
          "opacity": 0.5,
          "showarrow": true,
          "x": 7.4058719,
          "xref": "x",
          "y": 6.6270881,
          "yref": "y"
         },
         {
          "arrowcolor": "gray",
          "arrowhead": 4,
          "arrowsize": 1,
          "arrowwidth": 1.5,
          "ax": 7.4058719,
          "axref": "x",
          "ay": 6.6270881,
          "ayref": "y",
          "opacity": 0.5,
          "showarrow": true,
          "x": 7.6523585,
          "xref": "x",
          "y": 6.8246746,
          "yref": "y"
         },
         {
          "arrowcolor": "gray",
          "arrowhead": 4,
          "arrowsize": 1,
          "arrowwidth": 1.5,
          "ax": 7.6523585,
          "axref": "x",
          "ay": 6.8246746,
          "ayref": "y",
          "opacity": 0.5,
          "showarrow": true,
          "x": 7.2920232,
          "xref": "x",
          "y": 6.7724833,
          "yref": "y"
         },
         {
          "arrowcolor": "gray",
          "arrowhead": 4,
          "arrowsize": 1,
          "arrowwidth": 1.5,
          "ax": 7.2920232,
          "axref": "x",
          "ay": 6.7724833,
          "ayref": "y",
          "opacity": 0.5,
          "showarrow": true,
          "x": 7.6901197,
          "xref": "x",
          "y": 6.3704157,
          "yref": "y"
         },
         {
          "arrowcolor": "gray",
          "arrowhead": 4,
          "arrowsize": 1,
          "arrowwidth": 1.5,
          "ax": 2.7739329,
          "axref": "x",
          "ay": 3.6505179,
          "ayref": "y",
          "opacity": 0.5,
          "showarrow": true,
          "x": 3.4113131,
          "xref": "x",
          "y": 3.4205568,
          "yref": "y"
         },
         {
          "arrowcolor": "gray",
          "arrowhead": 4,
          "arrowsize": 1,
          "arrowwidth": 1.5,
          "ax": 3.4113131,
          "axref": "x",
          "ay": 3.4205568,
          "ayref": "y",
          "opacity": 0.5,
          "showarrow": true,
          "x": 3.8092124,
          "xref": "x",
          "y": 2.9806325,
          "yref": "y"
         },
         {
          "arrowcolor": "gray",
          "arrowhead": 4,
          "arrowsize": 1,
          "arrowwidth": 1.5,
          "ax": 3.2281263,
          "axref": "x",
          "ay": 5.6231847,
          "ayref": "y",
          "opacity": 0.5,
          "showarrow": true,
          "x": 3.1214628,
          "xref": "x",
          "y": 5.3424039,
          "yref": "y"
         },
         {
          "arrowcolor": "gray",
          "arrowhead": 4,
          "arrowsize": 1,
          "arrowwidth": 1.5,
          "ax": 3.1214628,
          "axref": "x",
          "ay": 5.3424039,
          "ayref": "y",
          "opacity": 0.5,
          "showarrow": true,
          "x": 2.9141455,
          "xref": "x",
          "y": 4.7631364,
          "yref": "y"
         },
         {
          "arrowcolor": "gray",
          "arrowhead": 4,
          "arrowsize": 1,
          "arrowwidth": 1.5,
          "ax": 2.9141455,
          "axref": "x",
          "ay": 4.7631364,
          "ayref": "y",
          "opacity": 0.5,
          "showarrow": true,
          "x": 3.351754,
          "xref": "x",
          "y": 4.9933577,
          "yref": "y"
         },
         {
          "arrowcolor": "gray",
          "arrowhead": 4,
          "arrowsize": 1,
          "arrowwidth": 1.5,
          "ax": 3.351754,
          "axref": "x",
          "ay": 4.9933577,
          "ayref": "y",
          "opacity": 0.5,
          "showarrow": true,
          "x": 3.954124,
          "xref": "x",
          "y": 4.5779972,
          "yref": "y"
         },
         {
          "arrowcolor": "gray",
          "arrowhead": 4,
          "arrowsize": 1,
          "arrowwidth": 1.5,
          "ax": 3.954124,
          "axref": "x",
          "ay": 4.5779972,
          "ayref": "y",
          "opacity": 0.5,
          "showarrow": true,
          "x": 3.9435632,
          "xref": "x",
          "y": 4.3407431,
          "yref": "y"
         },
         {
          "arrowcolor": "gray",
          "arrowhead": 4,
          "arrowsize": 1,
          "arrowwidth": 1.5,
          "ax": 3.9435632,
          "axref": "x",
          "ay": 4.3407431,
          "ayref": "y",
          "opacity": 0.5,
          "showarrow": true,
          "x": 3.5458033,
          "xref": "x",
          "y": 6.9258389,
          "yref": "y"
         },
         {
          "arrowcolor": "gray",
          "arrowhead": 4,
          "arrowsize": 1,
          "arrowwidth": 1.5,
          "ax": 2.8713446,
          "axref": "x",
          "ay": 1.6134002,
          "ayref": "y",
          "opacity": 0.5,
          "showarrow": true,
          "x": 2.9498396,
          "xref": "x",
          "y": 1.5161716,
          "yref": "y"
         },
         {
          "arrowcolor": "gray",
          "arrowhead": 4,
          "arrowsize": 1,
          "arrowwidth": 1.5,
          "ax": 2.9498396,
          "axref": "x",
          "ay": 1.5161716,
          "ayref": "y",
          "opacity": 0.5,
          "showarrow": true,
          "x": 2.7924562,
          "xref": "x",
          "y": 1.6276101,
          "yref": "y"
         },
         {
          "arrowcolor": "gray",
          "arrowhead": 4,
          "arrowsize": 1,
          "arrowwidth": 1.5,
          "ax": 2.7924562,
          "axref": "x",
          "ay": 1.6276101,
          "ayref": "y",
          "opacity": 0.5,
          "showarrow": true,
          "x": 2.6438119,
          "xref": "x",
          "y": 1.9139695,
          "yref": "y"
         },
         {
          "arrowcolor": "gray",
          "arrowhead": 4,
          "arrowsize": 1,
          "arrowwidth": 1.5,
          "ax": 7.7187147,
          "axref": "x",
          "ay": 7.7442489,
          "ayref": "y",
          "opacity": 0.5,
          "showarrow": true,
          "x": 8.2914591,
          "xref": "x",
          "y": 7.5800691,
          "yref": "y"
         },
         {
          "arrowcolor": "gray",
          "arrowhead": 4,
          "arrowsize": 1,
          "arrowwidth": 1.5,
          "ax": 8.2914591,
          "axref": "x",
          "ay": 7.5800691,
          "ayref": "y",
          "opacity": 0.5,
          "showarrow": true,
          "x": 8.3551331,
          "xref": "x",
          "y": 7.3556228,
          "yref": "y"
         },
         {
          "arrowcolor": "gray",
          "arrowhead": 4,
          "arrowsize": 1,
          "arrowwidth": 1.5,
          "ax": 8.3551331,
          "axref": "x",
          "ay": 7.3556228,
          "ayref": "y",
          "opacity": 0.5,
          "showarrow": true,
          "x": 8.4254742,
          "xref": "x",
          "y": 7.6386046,
          "yref": "y"
         },
         {
          "arrowcolor": "gray",
          "arrowhead": 4,
          "arrowsize": 1,
          "arrowwidth": 1.5,
          "ax": 8.4254742,
          "axref": "x",
          "ay": 7.6386046,
          "ayref": "y",
          "opacity": 0.5,
          "showarrow": true,
          "x": 8.5914841,
          "xref": "x",
          "y": 7.1932783,
          "yref": "y"
         },
         {
          "arrowcolor": "gray",
          "arrowhead": 4,
          "arrowsize": 1,
          "arrowwidth": 1.5,
          "ax": 3.1513793,
          "axref": "x",
          "ay": 2.7146027,
          "ayref": "y",
          "opacity": 0.5,
          "showarrow": true,
          "x": 4.4557109,
          "xref": "x",
          "y": 5.2290244,
          "yref": "y"
         },
         {
          "arrowcolor": "gray",
          "arrowhead": 4,
          "arrowsize": 1,
          "arrowwidth": 1.5,
          "ax": 4.4557109,
          "axref": "x",
          "ay": 5.2290244,
          "ayref": "y",
          "opacity": 0.5,
          "showarrow": true,
          "x": 4.3972139,
          "xref": "x",
          "y": 5.4531817,
          "yref": "y"
         },
         {
          "arrowcolor": "gray",
          "arrowhead": 4,
          "arrowsize": 1,
          "arrowwidth": 1.5,
          "ax": 4.3972139,
          "axref": "x",
          "ay": 5.4531817,
          "ayref": "y",
          "opacity": 0.5,
          "showarrow": true,
          "x": 4.7813811,
          "xref": "x",
          "y": 4.8809819,
          "yref": "y"
         },
         {
          "arrowcolor": "gray",
          "arrowhead": 4,
          "arrowsize": 1,
          "arrowwidth": 1.5,
          "ax": 4.7813811,
          "axref": "x",
          "ay": 4.8809819,
          "ayref": "y",
          "opacity": 0.5,
          "showarrow": true,
          "x": 4.6408587,
          "xref": "x",
          "y": 4.5750828,
          "yref": "y"
         },
         {
          "arrowcolor": "gray",
          "arrowhead": 4,
          "arrowsize": 1,
          "arrowwidth": 1.5,
          "ax": 4.6408587,
          "axref": "x",
          "ay": 4.5750828,
          "ayref": "y",
          "opacity": 0.5,
          "showarrow": true,
          "x": 3.3094506,
          "xref": "x",
          "y": 4.4504824,
          "yref": "y"
         },
         {
          "arrowcolor": "gray",
          "arrowhead": 4,
          "arrowsize": 1,
          "arrowwidth": 1.5,
          "ax": 8.3461485,
          "axref": "x",
          "ay": 8.044136,
          "ayref": "y",
          "opacity": 0.5,
          "showarrow": true,
          "x": 9.2423086,
          "xref": "x",
          "y": 7.4620113,
          "yref": "y"
         },
         {
          "arrowcolor": "gray",
          "arrowhead": 4,
          "arrowsize": 1,
          "arrowwidth": 1.5,
          "ax": 6.5662489,
          "axref": "x",
          "ay": 3.1522336,
          "ayref": "y",
          "opacity": 0.5,
          "showarrow": true,
          "x": 7.2447219,
          "xref": "x",
          "y": 3.9373245,
          "yref": "y"
         },
         {
          "arrowcolor": "gray",
          "arrowhead": 4,
          "arrowsize": 1,
          "arrowwidth": 1.5,
          "ax": 7.2447219,
          "axref": "x",
          "ay": 3.9373245,
          "ayref": "y",
          "opacity": 0.5,
          "showarrow": true,
          "x": 7.5278816,
          "xref": "x",
          "y": 3.9906366,
          "yref": "y"
         },
         {
          "arrowcolor": "gray",
          "arrowhead": 4,
          "arrowsize": 1,
          "arrowwidth": 1.5,
          "ax": 7.5278816,
          "axref": "x",
          "ay": 3.9906366,
          "ayref": "y",
          "opacity": 0.5,
          "showarrow": true,
          "x": 7.2684708,
          "xref": "x",
          "y": 4.3256874,
          "yref": "y"
         },
         {
          "arrowcolor": "gray",
          "arrowhead": 4,
          "arrowsize": 1,
          "arrowwidth": 1.5,
          "ax": 7.2684708,
          "axref": "x",
          "ay": 4.3256874,
          "ayref": "y",
          "opacity": 0.5,
          "showarrow": true,
          "x": 7.1514382,
          "xref": "x",
          "y": 4.7289,
          "yref": "y"
         },
         {
          "arrowcolor": "gray",
          "arrowhead": 4,
          "arrowsize": 1,
          "arrowwidth": 1.5,
          "ax": 7.1514382,
          "axref": "x",
          "ay": 4.7289,
          "ayref": "y",
          "opacity": 0.5,
          "showarrow": true,
          "x": 7.1467099,
          "xref": "x",
          "y": 4.3698282,
          "yref": "y"
         },
         {
          "arrowcolor": "gray",
          "arrowhead": 4,
          "arrowsize": 1,
          "arrowwidth": 1.5,
          "ax": 8.5612316,
          "axref": "x",
          "ay": 6.5821557,
          "ayref": "y",
          "opacity": 0.5,
          "showarrow": true,
          "x": 8.0966225,
          "xref": "x",
          "y": 6.3358464,
          "yref": "y"
         },
         {
          "arrowcolor": "gray",
          "arrowhead": 4,
          "arrowsize": 1,
          "arrowwidth": 1.5,
          "ax": 8.0966225,
          "axref": "x",
          "ay": 6.3358464,
          "ayref": "y",
          "opacity": 0.5,
          "showarrow": true,
          "x": 8.2293854,
          "xref": "x",
          "y": 6.9957104,
          "yref": "y"
         },
         {
          "arrowcolor": "gray",
          "arrowhead": 4,
          "arrowsize": 1,
          "arrowwidth": 1.5,
          "ax": 8.1341362,
          "axref": "x",
          "ay": 7.7660799,
          "ayref": "y",
          "opacity": 0.5,
          "showarrow": true,
          "x": 8.0755949,
          "xref": "x",
          "y": 7.6804023,
          "yref": "y"
         },
         {
          "arrowcolor": "gray",
          "arrowhead": 4,
          "arrowsize": 1,
          "arrowwidth": 1.5,
          "ax": 8.0755949,
          "axref": "x",
          "ay": 7.6804023,
          "ayref": "y",
          "opacity": 0.5,
          "showarrow": true,
          "x": 7.1172085,
          "xref": "x",
          "y": 7.23738,
          "yref": "y"
         },
         {
          "arrowcolor": "gray",
          "arrowhead": 4,
          "arrowsize": 1,
          "arrowwidth": 1.5,
          "ax": 6.743134,
          "axref": "x",
          "ay": 3.7748232,
          "ayref": "y",
          "opacity": 0.5,
          "showarrow": true,
          "x": 6.7538238,
          "xref": "x",
          "y": 2.508811,
          "yref": "y"
         },
         {
          "arrowcolor": "gray",
          "arrowhead": 4,
          "arrowsize": 1,
          "arrowwidth": 1.5,
          "ax": 6.7538238,
          "axref": "x",
          "ay": 2.508811,
          "ayref": "y",
          "opacity": 0.5,
          "showarrow": true,
          "x": 6.7638803,
          "xref": "x",
          "y": 2.1927021,
          "yref": "y"
         },
         {
          "arrowcolor": "gray",
          "arrowhead": 4,
          "arrowsize": 1,
          "arrowwidth": 1.5,
          "ax": 6.7638803,
          "axref": "x",
          "ay": 2.1927021,
          "ayref": "y",
          "opacity": 0.5,
          "showarrow": true,
          "x": 6.5620694,
          "xref": "x",
          "y": 2.4668994,
          "yref": "y"
         },
         {
          "arrowcolor": "gray",
          "arrowhead": 4,
          "arrowsize": 1,
          "arrowwidth": 1.5,
          "ax": 6.5620694,
          "axref": "x",
          "ay": 2.4668994,
          "ayref": "y",
          "opacity": 0.5,
          "showarrow": true,
          "x": 6.2892923,
          "xref": "x",
          "y": 2.1579492,
          "yref": "y"
         },
         {
          "arrowcolor": "gray",
          "arrowhead": 4,
          "arrowsize": 1,
          "arrowwidth": 1.5,
          "ax": 4.2061234,
          "axref": "x",
          "ay": 3.6988182,
          "ayref": "y",
          "opacity": 0.5,
          "showarrow": true,
          "x": 4.7911849,
          "xref": "x",
          "y": 3.9090741,
          "yref": "y"
         },
         {
          "arrowcolor": "gray",
          "arrowhead": 4,
          "arrowsize": 1,
          "arrowwidth": 1.5,
          "ax": 4.7911849,
          "axref": "x",
          "ay": 3.9090741,
          "ayref": "y",
          "opacity": 0.5,
          "showarrow": true,
          "x": 3.9701507,
          "xref": "x",
          "y": 3.5833399,
          "yref": "y"
         },
         {
          "arrowcolor": "gray",
          "arrowhead": 4,
          "arrowsize": 1,
          "arrowwidth": 1.5,
          "ax": 3.9701507,
          "axref": "x",
          "ay": 3.5833399,
          "ayref": "y",
          "opacity": 0.5,
          "showarrow": true,
          "x": 3.8376062,
          "xref": "x",
          "y": 3.1604149,
          "yref": "y"
         },
         {
          "arrowcolor": "gray",
          "arrowhead": 4,
          "arrowsize": 1,
          "arrowwidth": 1.5,
          "ax": 6.3052001,
          "axref": "x",
          "ay": 3.630302,
          "ayref": "y",
          "opacity": 0.5,
          "showarrow": true,
          "x": 6.4925418,
          "xref": "x",
          "y": 3.6797769,
          "yref": "y"
         },
         {
          "arrowcolor": "gray",
          "arrowhead": 4,
          "arrowsize": 1,
          "arrowwidth": 1.5,
          "ax": 6.4925418,
          "axref": "x",
          "ay": 3.6797769,
          "ayref": "y",
          "opacity": 0.5,
          "showarrow": true,
          "x": 6.2836742,
          "xref": "x",
          "y": 3.4633498,
          "yref": "y"
         },
         {
          "arrowcolor": "gray",
          "arrowhead": 4,
          "arrowsize": 1,
          "arrowwidth": 1.5,
          "ax": 6.2836742,
          "axref": "x",
          "ay": 3.4633498,
          "ayref": "y",
          "opacity": 0.5,
          "showarrow": true,
          "x": 6.0818725,
          "xref": "x",
          "y": 3.2730808,
          "yref": "y"
         },
         {
          "arrowcolor": "gray",
          "arrowhead": 4,
          "arrowsize": 1,
          "arrowwidth": 1.5,
          "ax": 6.0818725,
          "axref": "x",
          "ay": 3.2730808,
          "ayref": "y",
          "opacity": 0.5,
          "showarrow": true,
          "x": 6.6851463,
          "xref": "x",
          "y": 4.1209607,
          "yref": "y"
         },
         {
          "arrowcolor": "gray",
          "arrowhead": 4,
          "arrowsize": 1,
          "arrowwidth": 1.5,
          "ax": 6.6851463,
          "axref": "x",
          "ay": 4.1209607,
          "ayref": "y",
          "opacity": 0.5,
          "showarrow": true,
          "x": 7.205821,
          "xref": "x",
          "y": 4.9228339,
          "yref": "y"
         },
         {
          "arrowcolor": "gray",
          "arrowhead": 4,
          "arrowsize": 1,
          "arrowwidth": 1.5,
          "ax": 6.102797,
          "axref": "x",
          "ay": 0.99999988,
          "ayref": "y",
          "opacity": 0.5,
          "showarrow": true,
          "x": 6.0041308,
          "xref": "x",
          "y": 2.4638867,
          "yref": "y"
         },
         {
          "arrowcolor": "gray",
          "arrowhead": 4,
          "arrowsize": 1,
          "arrowwidth": 1.5,
          "ax": 6.0041308,
          "axref": "x",
          "ay": 2.4638867,
          "ayref": "y",
          "opacity": 0.5,
          "showarrow": true,
          "x": 5.1359534,
          "xref": "x",
          "y": 2.6431706,
          "yref": "y"
         },
         {
          "arrowcolor": "gray",
          "arrowhead": 4,
          "arrowsize": 1,
          "arrowwidth": 1.5,
          "ax": 5.1359534,
          "axref": "x",
          "ay": 2.6431706,
          "ayref": "y",
          "opacity": 0.5,
          "showarrow": true,
          "x": 5.4277391,
          "xref": "x",
          "y": 2.9878073,
          "yref": "y"
         },
         {
          "arrowcolor": "gray",
          "arrowhead": 4,
          "arrowsize": 1,
          "arrowwidth": 1.5,
          "ax": 5.4277391,
          "axref": "x",
          "ay": 2.9878073,
          "ayref": "y",
          "opacity": 0.5,
          "showarrow": true,
          "x": 5.4897265,
          "xref": "x",
          "y": 3.3932798,
          "yref": "y"
         },
         {
          "arrowcolor": "gray",
          "arrowhead": 4,
          "arrowsize": 1,
          "arrowwidth": 1.5,
          "ax": 5.4897265,
          "axref": "x",
          "ay": 3.3932798,
          "ayref": "y",
          "opacity": 0.5,
          "showarrow": true,
          "x": 4.6848679,
          "xref": "x",
          "y": 3.1599693,
          "yref": "y"
         },
         {
          "arrowcolor": "gray",
          "arrowhead": 4,
          "arrowsize": 1,
          "arrowwidth": 1.5,
          "ax": 4.6848679,
          "axref": "x",
          "ay": 3.1599693,
          "ayref": "y",
          "opacity": 0.5,
          "showarrow": true,
          "x": 6.4038982,
          "xref": "x",
          "y": 3.4988585,
          "yref": "y"
         },
         {
          "arrowcolor": "gray",
          "arrowhead": 4,
          "arrowsize": 1,
          "arrowwidth": 1.5,
          "ax": 7.2830138,
          "axref": "x",
          "ay": 6.7263489,
          "ayref": "y",
          "opacity": 0.5,
          "showarrow": true,
          "x": 7.9466004,
          "xref": "x",
          "y": 6.7877326,
          "yref": "y"
         },
         {
          "arrowcolor": "gray",
          "arrowhead": 4,
          "arrowsize": 1,
          "arrowwidth": 1.5,
          "ax": 7.9466004,
          "axref": "x",
          "ay": 6.7877326,
          "ayref": "y",
          "opacity": 0.5,
          "showarrow": true,
          "x": 7.878201,
          "xref": "x",
          "y": 6.8564892,
          "yref": "y"
         },
         {
          "arrowcolor": "gray",
          "arrowhead": 4,
          "arrowsize": 1,
          "arrowwidth": 1.5,
          "ax": 7.0772495,
          "axref": "x",
          "ay": 4.6887903,
          "ayref": "y",
          "opacity": 0.5,
          "showarrow": true,
          "x": 7.0787325,
          "xref": "x",
          "y": 5.6396074,
          "yref": "y"
         },
         {
          "arrowcolor": "gray",
          "arrowhead": 4,
          "arrowsize": 1,
          "arrowwidth": 1.5,
          "ax": 7.0787325,
          "axref": "x",
          "ay": 5.6396074,
          "ayref": "y",
          "opacity": 0.5,
          "showarrow": true,
          "x": 7.2582946,
          "xref": "x",
          "y": 4.8854866,
          "yref": "y"
         },
         {
          "arrowcolor": "gray",
          "arrowhead": 4,
          "arrowsize": 1,
          "arrowwidth": 1.5,
          "ax": 7.2582946,
          "axref": "x",
          "ay": 4.8854866,
          "ayref": "y",
          "opacity": 0.5,
          "showarrow": true,
          "x": 6.6276088,
          "xref": "x",
          "y": 4.8341007,
          "yref": "y"
         },
         {
          "arrowcolor": "gray",
          "arrowhead": 4,
          "arrowsize": 1,
          "arrowwidth": 1.5,
          "ax": 6.6276088,
          "axref": "x",
          "ay": 4.8341007,
          "ayref": "y",
          "opacity": 0.5,
          "showarrow": true,
          "x": 6.6092095,
          "xref": "x",
          "y": 5.0899763,
          "yref": "y"
         },
         {
          "arrowcolor": "gray",
          "arrowhead": 4,
          "arrowsize": 1,
          "arrowwidth": 1.5,
          "ax": 6.6092095,
          "axref": "x",
          "ay": 5.0899763,
          "ayref": "y",
          "opacity": 0.5,
          "showarrow": true,
          "x": 6.5383954,
          "xref": "x",
          "y": 3.8290281,
          "yref": "y"
         },
         {
          "arrowcolor": "gray",
          "arrowhead": 4,
          "arrowsize": 1,
          "arrowwidth": 1.5,
          "ax": 6.5383954,
          "axref": "x",
          "ay": 3.8290281,
          "ayref": "y",
          "opacity": 0.5,
          "showarrow": true,
          "x": 5.8305469,
          "xref": "x",
          "y": 3.0037181,
          "yref": "y"
         },
         {
          "arrowcolor": "gray",
          "arrowhead": 4,
          "arrowsize": 1,
          "arrowwidth": 1.5,
          "ax": 5.9777822,
          "axref": "x",
          "ay": 9.0371456,
          "ayref": "y",
          "opacity": 0.5,
          "showarrow": true,
          "x": 6.9635935,
          "xref": "x",
          "y": 6.1217518,
          "yref": "y"
         },
         {
          "arrowcolor": "gray",
          "arrowhead": 4,
          "arrowsize": 1,
          "arrowwidth": 1.5,
          "ax": 6.9635935,
          "axref": "x",
          "ay": 6.1217518,
          "ayref": "y",
          "opacity": 0.5,
          "showarrow": true,
          "x": 5.8384671,
          "xref": "x",
          "y": 4.0193691,
          "yref": "y"
         },
         {
          "arrowcolor": "gray",
          "arrowhead": 4,
          "arrowsize": 1,
          "arrowwidth": 1.5,
          "ax": 5.8384671,
          "axref": "x",
          "ay": 4.0193691,
          "ayref": "y",
          "opacity": 0.5,
          "showarrow": true,
          "x": 5.6576018,
          "xref": "x",
          "y": 4.0405707,
          "yref": "y"
         },
         {
          "arrowcolor": "gray",
          "arrowhead": 4,
          "arrowsize": 1,
          "arrowwidth": 1.5,
          "ax": 5.6576018,
          "axref": "x",
          "ay": 4.0405707,
          "ayref": "y",
          "opacity": 0.5,
          "showarrow": true,
          "x": 6.1334882,
          "xref": "x",
          "y": 5.0370073,
          "yref": "y"
         },
         {
          "arrowcolor": "gray",
          "arrowhead": 4,
          "arrowsize": 1,
          "arrowwidth": 1.5,
          "ax": 6.1334882,
          "axref": "x",
          "ay": 5.0370073,
          "ayref": "y",
          "opacity": 0.5,
          "showarrow": true,
          "x": 6.0987906,
          "xref": "x",
          "y": 5.8482485,
          "yref": "y"
         },
         {
          "arrowcolor": "gray",
          "arrowhead": 4,
          "arrowsize": 1,
          "arrowwidth": 1.5,
          "ax": 6.0987906,
          "axref": "x",
          "ay": 5.8482485,
          "ayref": "y",
          "opacity": 0.5,
          "showarrow": true,
          "x": 6.6758904,
          "xref": "x",
          "y": 6.4875407,
          "yref": "y"
         },
         {
          "arrowcolor": "gray",
          "arrowhead": 4,
          "arrowsize": 1,
          "arrowwidth": 1.5,
          "ax": 6.5350738,
          "axref": "x",
          "ay": 5.6728368,
          "ayref": "y",
          "opacity": 0.5,
          "showarrow": true,
          "x": 6.7776194,
          "xref": "x",
          "y": 3.7731631,
          "yref": "y"
         },
         {
          "arrowcolor": "gray",
          "arrowhead": 4,
          "arrowsize": 1,
          "arrowwidth": 1.5,
          "ax": 6.7776194,
          "axref": "x",
          "ay": 3.7731631,
          "ayref": "y",
          "opacity": 0.5,
          "showarrow": true,
          "x": 6.9185843,
          "xref": "x",
          "y": 4.0888629,
          "yref": "y"
         },
         {
          "arrowcolor": "gray",
          "arrowhead": 4,
          "arrowsize": 1,
          "arrowwidth": 1.5,
          "ax": 6.9185843,
          "axref": "x",
          "ay": 4.0888629,
          "ayref": "y",
          "opacity": 0.5,
          "showarrow": true,
          "x": 6.7761431,
          "xref": "x",
          "y": 4.3831134,
          "yref": "y"
         },
         {
          "arrowcolor": "gray",
          "arrowhead": 4,
          "arrowsize": 1,
          "arrowwidth": 1.5,
          "ax": 6.7761431,
          "axref": "x",
          "ay": 4.3831134,
          "ayref": "y",
          "opacity": 0.5,
          "showarrow": true,
          "x": 5.8091445,
          "xref": "x",
          "y": 4.7756691,
          "yref": "y"
         },
         {
          "arrowcolor": "gray",
          "arrowhead": 4,
          "arrowsize": 1,
          "arrowwidth": 1.5,
          "ax": 7.2250009,
          "axref": "x",
          "ay": 4.7294893,
          "ayref": "y",
          "opacity": 0.5,
          "showarrow": true,
          "x": 6.953793,
          "xref": "x",
          "y": 4.7205591,
          "yref": "y"
         },
         {
          "arrowcolor": "gray",
          "arrowhead": 4,
          "arrowsize": 1,
          "arrowwidth": 1.5,
          "ax": 6.953793,
          "axref": "x",
          "ay": 4.7205591,
          "ayref": "y",
          "opacity": 0.5,
          "showarrow": true,
          "x": 6.4371085,
          "xref": "x",
          "y": 4.5106635,
          "yref": "y"
         },
         {
          "arrowcolor": "gray",
          "arrowhead": 4,
          "arrowsize": 1,
          "arrowwidth": 1.5,
          "ax": 2.0371001,
          "axref": "x",
          "ay": 3.9142835,
          "ayref": "y",
          "opacity": 0.5,
          "showarrow": true,
          "x": 1.8154311,
          "xref": "x",
          "y": 5.0822926,
          "yref": "y"
         },
         {
          "arrowcolor": "gray",
          "arrowhead": 4,
          "arrowsize": 1,
          "arrowwidth": 1.5,
          "ax": 1.8154311,
          "axref": "x",
          "ay": 5.0822926,
          "ayref": "y",
          "opacity": 0.5,
          "showarrow": true,
          "x": 2.403672,
          "xref": "x",
          "y": 5.6338115,
          "yref": "y"
         },
         {
          "arrowcolor": "gray",
          "arrowhead": 4,
          "arrowsize": 1,
          "arrowwidth": 1.5,
          "ax": 2.403672,
          "axref": "x",
          "ay": 5.6338115,
          "ayref": "y",
          "opacity": 0.5,
          "showarrow": true,
          "x": 3.2868464,
          "xref": "x",
          "y": 5.3095694,
          "yref": "y"
         },
         {
          "arrowcolor": "gray",
          "arrowhead": 4,
          "arrowsize": 1,
          "arrowwidth": 1.5,
          "ax": 3.2868464,
          "axref": "x",
          "ay": 5.3095694,
          "ayref": "y",
          "opacity": 0.5,
          "showarrow": true,
          "x": 3.4778163,
          "xref": "x",
          "y": 5.1862221,
          "yref": "y"
         },
         {
          "arrowcolor": "gray",
          "arrowhead": 4,
          "arrowsize": 1,
          "arrowwidth": 1.5,
          "ax": 3.4778163,
          "axref": "x",
          "ay": 5.1862221,
          "ayref": "y",
          "opacity": 0.5,
          "showarrow": true,
          "x": 3.3166971,
          "xref": "x",
          "y": 5.4252968,
          "yref": "y"
         },
         {
          "arrowcolor": "gray",
          "arrowhead": 4,
          "arrowsize": 1,
          "arrowwidth": 1.5,
          "ax": 3.3166971,
          "axref": "x",
          "ay": 5.4252968,
          "ayref": "y",
          "opacity": 0.5,
          "showarrow": true,
          "x": 3.4882407,
          "xref": "x",
          "y": 5.263279,
          "yref": "y"
         },
         {
          "arrowcolor": "gray",
          "arrowhead": 4,
          "arrowsize": 1,
          "arrowwidth": 1.5,
          "ax": 3.9990704,
          "axref": "x",
          "ay": 4.4193673,
          "ayref": "y",
          "opacity": 0.5,
          "showarrow": true,
          "x": 4.2238207,
          "xref": "x",
          "y": 4.1348109,
          "yref": "y"
         },
         {
          "arrowcolor": "gray",
          "arrowhead": 4,
          "arrowsize": 1,
          "arrowwidth": 1.5,
          "ax": 4.2238207,
          "axref": "x",
          "ay": 4.1348109,
          "ayref": "y",
          "opacity": 0.5,
          "showarrow": true,
          "x": 3.9284499,
          "xref": "x",
          "y": 3.5759332,
          "yref": "y"
         },
         {
          "arrowcolor": "gray",
          "arrowhead": 4,
          "arrowsize": 1,
          "arrowwidth": 1.5,
          "ax": 3.9284499,
          "axref": "x",
          "ay": 3.5759332,
          "ayref": "y",
          "opacity": 0.5,
          "showarrow": true,
          "x": 3.6954026,
          "xref": "x",
          "y": 4.6257958,
          "yref": "y"
         },
         {
          "arrowcolor": "gray",
          "arrowhead": 4,
          "arrowsize": 1,
          "arrowwidth": 1.5,
          "ax": 3.6954026,
          "axref": "x",
          "ay": 4.6257958,
          "ayref": "y",
          "opacity": 0.5,
          "showarrow": true,
          "x": 3.9121256,
          "xref": "x",
          "y": 4.1563616,
          "yref": "y"
         },
         {
          "arrowcolor": "gray",
          "arrowhead": 4,
          "arrowsize": 1,
          "arrowwidth": 1.5,
          "ax": 3.9121256,
          "axref": "x",
          "ay": 4.1563616,
          "ayref": "y",
          "opacity": 0.5,
          "showarrow": true,
          "x": 4.1635923,
          "xref": "x",
          "y": 4.4163747,
          "yref": "y"
         },
         {
          "arrowcolor": "gray",
          "arrowhead": 4,
          "arrowsize": 1,
          "arrowwidth": 1.5,
          "ax": 4.1635923,
          "axref": "x",
          "ay": 4.4163747,
          "ayref": "y",
          "opacity": 0.5,
          "showarrow": true,
          "x": 4.3380332,
          "xref": "x",
          "y": 3.8676503,
          "yref": "y"
         },
         {
          "arrowcolor": "gray",
          "arrowhead": 4,
          "arrowsize": 1,
          "arrowwidth": 1.5,
          "ax": 6.8894386,
          "axref": "x",
          "ay": 4.5450177,
          "ayref": "y",
          "opacity": 0.5,
          "showarrow": true,
          "x": 6.9668522,
          "xref": "x",
          "y": 4.2004318,
          "yref": "y"
         },
         {
          "arrowcolor": "gray",
          "arrowhead": 4,
          "arrowsize": 1,
          "arrowwidth": 1.5,
          "ax": 6.9089913,
          "axref": "x",
          "ay": 6.0379415,
          "ayref": "y",
          "opacity": 0.5,
          "showarrow": true,
          "x": 6.754148,
          "xref": "x",
          "y": 5.2683206,
          "yref": "y"
         },
         {
          "arrowcolor": "gray",
          "arrowhead": 4,
          "arrowsize": 1,
          "arrowwidth": 1.5,
          "ax": 6.754148,
          "axref": "x",
          "ay": 5.2683206,
          "ayref": "y",
          "opacity": 0.5,
          "showarrow": true,
          "x": 6.2845111,
          "xref": "x",
          "y": 4.9241524,
          "yref": "y"
         },
         {
          "arrowcolor": "gray",
          "arrowhead": 4,
          "arrowsize": 1,
          "arrowwidth": 1.5,
          "ax": 6.2845111,
          "axref": "x",
          "ay": 4.9241524,
          "ayref": "y",
          "opacity": 0.5,
          "showarrow": true,
          "x": 6.4889636,
          "xref": "x",
          "y": 5.0750346,
          "yref": "y"
         },
         {
          "arrowcolor": "gray",
          "arrowhead": 4,
          "arrowsize": 1,
          "arrowwidth": 1.5,
          "ax": 6.4889636,
          "axref": "x",
          "ay": 5.0750346,
          "ayref": "y",
          "opacity": 0.5,
          "showarrow": true,
          "x": 7.4222622,
          "xref": "x",
          "y": 5.4495459,
          "yref": "y"
         },
         {
          "arrowcolor": "gray",
          "arrowhead": 4,
          "arrowsize": 1,
          "arrowwidth": 1.5,
          "ax": 7.4222622,
          "axref": "x",
          "ay": 5.4495459,
          "ayref": "y",
          "opacity": 0.5,
          "showarrow": true,
          "x": 7.2532306,
          "xref": "x",
          "y": 6.1477966,
          "yref": "y"
         },
         {
          "arrowcolor": "gray",
          "arrowhead": 4,
          "arrowsize": 1,
          "arrowwidth": 1.5,
          "ax": 7.2532306,
          "axref": "x",
          "ay": 6.1477966,
          "ayref": "y",
          "opacity": 0.5,
          "showarrow": true,
          "x": 7.339469,
          "xref": "x",
          "y": 5.8903375,
          "yref": "y"
         },
         {
          "arrowcolor": "gray",
          "arrowhead": 4,
          "arrowsize": 1,
          "arrowwidth": 1.5,
          "ax": 8.620574,
          "axref": "x",
          "ay": 6.9887486,
          "ayref": "y",
          "opacity": 0.5,
          "showarrow": true,
          "x": 8.2784538,
          "xref": "x",
          "y": 7.6717625,
          "yref": "y"
         },
         {
          "arrowcolor": "gray",
          "arrowhead": 4,
          "arrowsize": 1,
          "arrowwidth": 1.5,
          "ax": 8.2784538,
          "axref": "x",
          "ay": 7.6717625,
          "ayref": "y",
          "opacity": 0.5,
          "showarrow": true,
          "x": 8.1053305,
          "xref": "x",
          "y": 7.7399883,
          "yref": "y"
         },
         {
          "arrowcolor": "gray",
          "arrowhead": 4,
          "arrowsize": 1,
          "arrowwidth": 1.5,
          "ax": 8.1053305,
          "axref": "x",
          "ay": 7.7399883,
          "ayref": "y",
          "opacity": 0.5,
          "showarrow": true,
          "x": 8.2725668,
          "xref": "x",
          "y": 7.5085239,
          "yref": "y"
         },
         {
          "arrowcolor": "gray",
          "arrowhead": 4,
          "arrowsize": 1,
          "arrowwidth": 1.5,
          "ax": 8.2725668,
          "axref": "x",
          "ay": 7.5085239,
          "ayref": "y",
          "opacity": 0.5,
          "showarrow": true,
          "x": 8.1294775,
          "xref": "x",
          "y": 6.7993684,
          "yref": "y"
         },
         {
          "arrowcolor": "gray",
          "arrowhead": 4,
          "arrowsize": 1,
          "arrowwidth": 1.5,
          "ax": 7.7481294,
          "axref": "x",
          "ay": 8.2718248,
          "ayref": "y",
          "opacity": 0.5,
          "showarrow": true,
          "x": 7.7389789,
          "xref": "x",
          "y": 7.7491355,
          "yref": "y"
         },
         {
          "arrowcolor": "gray",
          "arrowhead": 4,
          "arrowsize": 1,
          "arrowwidth": 1.5,
          "ax": 7.7389789,
          "axref": "x",
          "ay": 7.7491355,
          "ayref": "y",
          "opacity": 0.5,
          "showarrow": true,
          "x": 7.9152565,
          "xref": "x",
          "y": 7.7165337,
          "yref": "y"
         },
         {
          "arrowcolor": "gray",
          "arrowhead": 4,
          "arrowsize": 1,
          "arrowwidth": 1.5,
          "ax": 7.9152565,
          "axref": "x",
          "ay": 7.7165337,
          "ayref": "y",
          "opacity": 0.5,
          "showarrow": true,
          "x": 7.8572431,
          "xref": "x",
          "y": 7.5651684,
          "yref": "y"
         },
         {
          "arrowcolor": "gray",
          "arrowhead": 4,
          "arrowsize": 1,
          "arrowwidth": 1.5,
          "ax": 7.8572431,
          "axref": "x",
          "ay": 7.5651684,
          "ayref": "y",
          "opacity": 0.5,
          "showarrow": true,
          "x": 7.5490537,
          "xref": "x",
          "y": 7.1383252,
          "yref": "y"
         },
         {
          "arrowcolor": "gray",
          "arrowhead": 4,
          "arrowsize": 1,
          "arrowwidth": 1.5,
          "ax": 7.5490537,
          "axref": "x",
          "ay": 7.1383252,
          "ayref": "y",
          "opacity": 0.5,
          "showarrow": true,
          "x": 7.4787836,
          "xref": "x",
          "y": 7.5777164,
          "yref": "y"
         },
         {
          "arrowcolor": "gray",
          "arrowhead": 4,
          "arrowsize": 1,
          "arrowwidth": 1.5,
          "ax": 7.4787836,
          "axref": "x",
          "ay": 7.5777164,
          "ayref": "y",
          "opacity": 0.5,
          "showarrow": true,
          "x": 7.6996641,
          "xref": "x",
          "y": 7.5427666,
          "yref": "y"
         },
         {
          "arrowcolor": "gray",
          "arrowhead": 4,
          "arrowsize": 1,
          "arrowwidth": 1.5,
          "ax": 8.3181744,
          "axref": "x",
          "ay": 8.1881161,
          "ayref": "y",
          "opacity": 0.5,
          "showarrow": true,
          "x": 8.773674,
          "xref": "x",
          "y": 8.4204998,
          "yref": "y"
         },
         {
          "arrowcolor": "gray",
          "arrowhead": 4,
          "arrowsize": 1,
          "arrowwidth": 1.5,
          "ax": 8.773674,
          "axref": "x",
          "ay": 8.4204998,
          "ayref": "y",
          "opacity": 0.5,
          "showarrow": true,
          "x": 8.7493219,
          "xref": "x",
          "y": 7.7995167,
          "yref": "y"
         },
         {
          "arrowcolor": "gray",
          "arrowhead": 4,
          "arrowsize": 1,
          "arrowwidth": 1.5,
          "ax": 6.6547031,
          "axref": "x",
          "ay": 7.1860466,
          "ayref": "y",
          "opacity": 0.5,
          "showarrow": true,
          "x": 7.4077458,
          "xref": "x",
          "y": 6.1241093,
          "yref": "y"
         },
         {
          "arrowcolor": "gray",
          "arrowhead": 4,
          "arrowsize": 1,
          "arrowwidth": 1.5,
          "ax": 5.423254,
          "axref": "x",
          "ay": 6.3778949,
          "ayref": "y",
          "opacity": 0.5,
          "showarrow": true,
          "x": 5.5509315,
          "xref": "x",
          "y": 6.6860132,
          "yref": "y"
         },
         {
          "arrowcolor": "gray",
          "arrowhead": 4,
          "arrowsize": 1,
          "arrowwidth": 1.5,
          "ax": 5.5509315,
          "axref": "x",
          "ay": 6.6860132,
          "ayref": "y",
          "opacity": 0.5,
          "showarrow": true,
          "x": 6.1610904,
          "xref": "x",
          "y": 6.3931966,
          "yref": "y"
         },
         {
          "arrowcolor": "gray",
          "arrowhead": 4,
          "arrowsize": 1,
          "arrowwidth": 1.5,
          "ax": 6.1610904,
          "axref": "x",
          "ay": 6.3931966,
          "ayref": "y",
          "opacity": 0.5,
          "showarrow": true,
          "x": 6.0668936,
          "xref": "x",
          "y": 5.9730883,
          "yref": "y"
         },
         {
          "arrowcolor": "gray",
          "arrowhead": 4,
          "arrowsize": 1,
          "arrowwidth": 1.5,
          "ax": 6.0668936,
          "axref": "x",
          "ay": 5.9730883,
          "ayref": "y",
          "opacity": 0.5,
          "showarrow": true,
          "x": 5.7556996,
          "xref": "x",
          "y": 5.6712866,
          "yref": "y"
         },
         {
          "arrowcolor": "gray",
          "arrowhead": 4,
          "arrowsize": 1,
          "arrowwidth": 1.5,
          "ax": 5.7556996,
          "axref": "x",
          "ay": 5.6712866,
          "ayref": "y",
          "opacity": 0.5,
          "showarrow": true,
          "x": 5.7477636,
          "xref": "x",
          "y": 6.1993566,
          "yref": "y"
         },
         {
          "arrowcolor": "gray",
          "arrowhead": 4,
          "arrowsize": 1,
          "arrowwidth": 1.5,
          "ax": 7.3746552,
          "axref": "x",
          "ay": 6.5775857,
          "ayref": "y",
          "opacity": 0.5,
          "showarrow": true,
          "x": 8.2536068,
          "xref": "x",
          "y": 7.1945534,
          "yref": "y"
         },
         {
          "arrowcolor": "gray",
          "arrowhead": 4,
          "arrowsize": 1,
          "arrowwidth": 1.5,
          "ax": 8.2536068,
          "axref": "x",
          "ay": 7.1945534,
          "ayref": "y",
          "opacity": 0.5,
          "showarrow": true,
          "x": 8.3924913,
          "xref": "x",
          "y": 6.8403387,
          "yref": "y"
         },
         {
          "arrowcolor": "gray",
          "arrowhead": 4,
          "arrowsize": 1,
          "arrowwidth": 1.5,
          "ax": 8.3924913,
          "axref": "x",
          "ay": 6.8403387,
          "ayref": "y",
          "opacity": 0.5,
          "showarrow": true,
          "x": 8.0257759,
          "xref": "x",
          "y": 5.971837,
          "yref": "y"
         },
         {
          "arrowcolor": "gray",
          "arrowhead": 4,
          "arrowsize": 1,
          "arrowwidth": 1.5,
          "ax": 8.0257759,
          "axref": "x",
          "ay": 5.971837,
          "ayref": "y",
          "opacity": 0.5,
          "showarrow": true,
          "x": 7.2259164,
          "xref": "x",
          "y": 8.1329908,
          "yref": "y"
         },
         {
          "arrowcolor": "gray",
          "arrowhead": 4,
          "arrowsize": 1,
          "arrowwidth": 1.5,
          "ax": 2.8217711,
          "axref": "x",
          "ay": 1.0402691,
          "ayref": "y",
          "opacity": 0.5,
          "showarrow": true,
          "x": 2.527421,
          "xref": "x",
          "y": 1.2566239,
          "yref": "y"
         },
         {
          "arrowcolor": "gray",
          "arrowhead": 4,
          "arrowsize": 1,
          "arrowwidth": 1.5,
          "ax": 2.527421,
          "axref": "x",
          "ay": 1.2566239,
          "ayref": "y",
          "opacity": 0.5,
          "showarrow": true,
          "x": 2.3675313,
          "xref": "x",
          "y": 1.4152739,
          "yref": "y"
         },
         {
          "arrowcolor": "gray",
          "arrowhead": 4,
          "arrowsize": 1,
          "arrowwidth": 1.5,
          "ax": 2.3675313,
          "axref": "x",
          "ay": 1.4152739,
          "ayref": "y",
          "opacity": 0.5,
          "showarrow": true,
          "x": 2.6506243,
          "xref": "x",
          "y": 1.4962091,
          "yref": "y"
         },
         {
          "arrowcolor": "gray",
          "arrowhead": 4,
          "arrowsize": 1,
          "arrowwidth": 1.5,
          "ax": 2.6506243,
          "axref": "x",
          "ay": 1.4962091,
          "ayref": "y",
          "opacity": 0.5,
          "showarrow": true,
          "x": 3.4031475,
          "xref": "x",
          "y": 1.5759808,
          "yref": "y"
         },
         {
          "arrowcolor": "gray",
          "arrowhead": 4,
          "arrowsize": 1,
          "arrowwidth": 1.5,
          "ax": 3.4031475,
          "axref": "x",
          "ay": 1.5759808,
          "ayref": "y",
          "opacity": 0.5,
          "showarrow": true,
          "x": 4.133235,
          "xref": "x",
          "y": 1.4067776,
          "yref": "y"
         },
         {
          "arrowcolor": "gray",
          "arrowhead": 4,
          "arrowsize": 1,
          "arrowwidth": 1.5,
          "ax": 4.133235,
          "axref": "x",
          "ay": 1.4067776,
          "ayref": "y",
          "opacity": 0.5,
          "showarrow": true,
          "x": 3.8636892,
          "xref": "x",
          "y": 1.6951613,
          "yref": "y"
         },
         {
          "arrowcolor": "gray",
          "arrowhead": 4,
          "arrowsize": 1,
          "arrowwidth": 1.5,
          "ax": 7.2318673,
          "axref": "x",
          "ay": 4.089519,
          "ayref": "y",
          "opacity": 0.5,
          "showarrow": true,
          "x": 7.2942677,
          "xref": "x",
          "y": 4.1904063,
          "yref": "y"
         },
         {
          "arrowcolor": "gray",
          "arrowhead": 4,
          "arrowsize": 1,
          "arrowwidth": 1.5,
          "ax": 7.668612,
          "axref": "x",
          "ay": 2.490278,
          "ayref": "y",
          "opacity": 0.5,
          "showarrow": true,
          "x": 8.8184366,
          "xref": "x",
          "y": 4.1969137,
          "yref": "y"
         },
         {
          "arrowcolor": "gray",
          "arrowhead": 4,
          "arrowsize": 1,
          "arrowwidth": 1.5,
          "ax": 7.3074265,
          "axref": "x",
          "ay": 7.0914898,
          "ayref": "y",
          "opacity": 0.5,
          "showarrow": true,
          "x": 7.9205236,
          "xref": "x",
          "y": 7.0966945,
          "yref": "y"
         },
         {
          "arrowcolor": "gray",
          "arrowhead": 4,
          "arrowsize": 1,
          "arrowwidth": 1.5,
          "ax": 7.9205236,
          "axref": "x",
          "ay": 7.0966945,
          "ayref": "y",
          "opacity": 0.5,
          "showarrow": true,
          "x": 8.6808643,
          "xref": "x",
          "y": 6.5996747,
          "yref": "y"
         },
         {
          "arrowcolor": "gray",
          "arrowhead": 4,
          "arrowsize": 1,
          "arrowwidth": 1.5,
          "ax": 8.6808643,
          "axref": "x",
          "ay": 6.5996747,
          "ayref": "y",
          "opacity": 0.5,
          "showarrow": true,
          "x": 8.2852545,
          "xref": "x",
          "y": 6.43747,
          "yref": "y"
         },
         {
          "arrowcolor": "gray",
          "arrowhead": 4,
          "arrowsize": 1,
          "arrowwidth": 1.5,
          "ax": 8.2852545,
          "axref": "x",
          "ay": 6.43747,
          "ayref": "y",
          "opacity": 0.5,
          "showarrow": true,
          "x": 8.2407913,
          "xref": "x",
          "y": 7.2568498,
          "yref": "y"
         },
         {
          "arrowcolor": "gray",
          "arrowhead": 4,
          "arrowsize": 1,
          "arrowwidth": 1.5,
          "ax": 8.2407913,
          "axref": "x",
          "ay": 7.2568498,
          "ayref": "y",
          "opacity": 0.5,
          "showarrow": true,
          "x": 8.141819,
          "xref": "x",
          "y": 7.1581025,
          "yref": "y"
         },
         {
          "arrowcolor": "gray",
          "arrowhead": 4,
          "arrowsize": 1,
          "arrowwidth": 1.5,
          "ax": 8.141819,
          "axref": "x",
          "ay": 7.1581025,
          "ayref": "y",
          "opacity": 0.5,
          "showarrow": true,
          "x": 7.8467226,
          "xref": "x",
          "y": 5.7852397,
          "yref": "y"
         },
         {
          "arrowcolor": "gray",
          "arrowhead": 4,
          "arrowsize": 1,
          "arrowwidth": 1.5,
          "ax": 5.0905628,
          "axref": "x",
          "ay": 3.6102104,
          "ayref": "y",
          "opacity": 0.5,
          "showarrow": true,
          "x": 5.44103,
          "xref": "x",
          "y": 3.3700743,
          "yref": "y"
         },
         {
          "arrowcolor": "gray",
          "arrowhead": 4,
          "arrowsize": 1,
          "arrowwidth": 1.5,
          "ax": 8.2686157,
          "axref": "x",
          "ay": 7.072268,
          "ayref": "y",
          "opacity": 0.5,
          "showarrow": true,
          "x": 7.9436455,
          "xref": "x",
          "y": 6.9885116,
          "yref": "y"
         },
         {
          "arrowcolor": "gray",
          "arrowhead": 4,
          "arrowsize": 1,
          "arrowwidth": 1.5,
          "ax": 7.9436455,
          "axref": "x",
          "ay": 6.9885116,
          "ayref": "y",
          "opacity": 0.5,
          "showarrow": true,
          "x": 8.0472641,
          "xref": "x",
          "y": 6.9930716,
          "yref": "y"
         },
         {
          "arrowcolor": "gray",
          "arrowhead": 4,
          "arrowsize": 1,
          "arrowwidth": 1.5,
          "ax": 8.0472641,
          "axref": "x",
          "ay": 6.9930716,
          "ayref": "y",
          "opacity": 0.5,
          "showarrow": true,
          "x": 8.0695381,
          "xref": "x",
          "y": 7.0692463,
          "yref": "y"
         },
         {
          "arrowcolor": "gray",
          "arrowhead": 4,
          "arrowsize": 1,
          "arrowwidth": 1.5,
          "ax": 8.0695381,
          "axref": "x",
          "ay": 7.0692463,
          "ayref": "y",
          "opacity": 0.5,
          "showarrow": true,
          "x": 7.6945415,
          "xref": "x",
          "y": 7.2470956,
          "yref": "y"
         },
         {
          "arrowcolor": "gray",
          "arrowhead": 4,
          "arrowsize": 1,
          "arrowwidth": 1.5,
          "ax": 5.4025321,
          "axref": "x",
          "ay": 3.6818147,
          "ayref": "y",
          "opacity": 0.5,
          "showarrow": true,
          "x": 5.8176355,
          "xref": "x",
          "y": 4.0802412,
          "yref": "y"
         },
         {
          "arrowcolor": "gray",
          "arrowhead": 4,
          "arrowsize": 1,
          "arrowwidth": 1.5,
          "ax": 5.8176355,
          "axref": "x",
          "ay": 4.0802412,
          "ayref": "y",
          "opacity": 0.5,
          "showarrow": true,
          "x": 6.726162,
          "xref": "x",
          "y": 4.8425431,
          "yref": "y"
         },
         {
          "arrowcolor": "gray",
          "arrowhead": 4,
          "arrowsize": 1,
          "arrowwidth": 1.5,
          "ax": 6.8661346,
          "axref": "x",
          "ay": 6.9201388,
          "ayref": "y",
          "opacity": 0.5,
          "showarrow": true,
          "x": 6.9713488,
          "xref": "x",
          "y": 7.4596229,
          "yref": "y"
         },
         {
          "arrowcolor": "gray",
          "arrowhead": 4,
          "arrowsize": 1,
          "arrowwidth": 1.5,
          "ax": 6.9713488,
          "axref": "x",
          "ay": 7.4596229,
          "ayref": "y",
          "opacity": 0.5,
          "showarrow": true,
          "x": 7.8151903,
          "xref": "x",
          "y": 7.762814,
          "yref": "y"
         },
         {
          "arrowcolor": "gray",
          "arrowhead": 4,
          "arrowsize": 1,
          "arrowwidth": 1.5,
          "ax": 7.8151903,
          "axref": "x",
          "ay": 7.762814,
          "ayref": "y",
          "opacity": 0.5,
          "showarrow": true,
          "x": 7.8293872,
          "xref": "x",
          "y": 7.9181929,
          "yref": "y"
         },
         {
          "arrowcolor": "gray",
          "arrowhead": 4,
          "arrowsize": 1,
          "arrowwidth": 1.5,
          "ax": 7.8293872,
          "axref": "x",
          "ay": 7.9181929,
          "ayref": "y",
          "opacity": 0.5,
          "showarrow": true,
          "x": 7.670752,
          "xref": "x",
          "y": 7.6197166,
          "yref": "y"
         },
         {
          "arrowcolor": "gray",
          "arrowhead": 4,
          "arrowsize": 1,
          "arrowwidth": 1.5,
          "ax": 8.2586088,
          "axref": "x",
          "ay": 7.2956691,
          "ayref": "y",
          "opacity": 0.5,
          "showarrow": true,
          "x": 8.3703489,
          "xref": "x",
          "y": 7.8899679,
          "yref": "y"
         },
         {
          "arrowcolor": "gray",
          "arrowhead": 4,
          "arrowsize": 1,
          "arrowwidth": 1.5,
          "ax": 7.2080989,
          "axref": "x",
          "ay": 7.3591695,
          "ayref": "y",
          "opacity": 0.5,
          "showarrow": true,
          "x": 7.2993679,
          "xref": "x",
          "y": 6.8697329,
          "yref": "y"
         },
         {
          "arrowcolor": "gray",
          "arrowhead": 4,
          "arrowsize": 1,
          "arrowwidth": 1.5,
          "ax": 7.2993679,
          "axref": "x",
          "ay": 6.8697329,
          "ayref": "y",
          "opacity": 0.5,
          "showarrow": true,
          "x": 7.2927537,
          "xref": "x",
          "y": 6.5816154,
          "yref": "y"
         },
         {
          "arrowcolor": "gray",
          "arrowhead": 4,
          "arrowsize": 1,
          "arrowwidth": 1.5,
          "ax": 7.2927537,
          "axref": "x",
          "ay": 6.5816154,
          "ayref": "y",
          "opacity": 0.5,
          "showarrow": true,
          "x": 7.5436797,
          "xref": "x",
          "y": 5.8827896,
          "yref": "y"
         },
         {
          "arrowcolor": "gray",
          "arrowhead": 4,
          "arrowsize": 1,
          "arrowwidth": 1.5,
          "ax": 7.5436797,
          "axref": "x",
          "ay": 5.8827896,
          "ayref": "y",
          "opacity": 0.5,
          "showarrow": true,
          "x": 7.1963129,
          "xref": "x",
          "y": 5.5575933,
          "yref": "y"
         },
         {
          "arrowcolor": "gray",
          "arrowhead": 4,
          "arrowsize": 1,
          "arrowwidth": 1.5,
          "ax": 7.1963129,
          "axref": "x",
          "ay": 5.5575933,
          "ayref": "y",
          "opacity": 0.5,
          "showarrow": true,
          "x": 7.0256681,
          "xref": "x",
          "y": 5.7670794,
          "yref": "y"
         },
         {
          "arrowcolor": "gray",
          "arrowhead": 4,
          "arrowsize": 1,
          "arrowwidth": 1.5,
          "ax": 7.0256681,
          "axref": "x",
          "ay": 5.7670794,
          "ayref": "y",
          "opacity": 0.5,
          "showarrow": true,
          "x": 7.0829911,
          "xref": "x",
          "y": 5.4926434,
          "yref": "y"
         },
         {
          "arrowcolor": "gray",
          "arrowhead": 4,
          "arrowsize": 1,
          "arrowwidth": 1.5,
          "ax": 4.7233624,
          "axref": "x",
          "ay": 5.2311525,
          "ayref": "y",
          "opacity": 0.5,
          "showarrow": true,
          "x": 4.5457649,
          "xref": "x",
          "y": 5.8049974,
          "yref": "y"
         },
         {
          "arrowcolor": "gray",
          "arrowhead": 4,
          "arrowsize": 1,
          "arrowwidth": 1.5,
          "ax": 4.5457649,
          "axref": "x",
          "ay": 5.8049974,
          "ayref": "y",
          "opacity": 0.5,
          "showarrow": true,
          "x": 4.8844786,
          "xref": "x",
          "y": 5.7611585,
          "yref": "y"
         },
         {
          "arrowcolor": "gray",
          "arrowhead": 4,
          "arrowsize": 1,
          "arrowwidth": 1.5,
          "ax": 4.8844786,
          "axref": "x",
          "ay": 5.7611585,
          "ayref": "y",
          "opacity": 0.5,
          "showarrow": true,
          "x": 4.3879027,
          "xref": "x",
          "y": 4.8452997,
          "yref": "y"
         },
         {
          "arrowcolor": "gray",
          "arrowhead": 4,
          "arrowsize": 1,
          "arrowwidth": 1.5,
          "ax": 4.3879027,
          "axref": "x",
          "ay": 4.8452997,
          "ayref": "y",
          "opacity": 0.5,
          "showarrow": true,
          "x": 5.036098,
          "xref": "x",
          "y": 5.5832629,
          "yref": "y"
         },
         {
          "arrowcolor": "gray",
          "arrowhead": 4,
          "arrowsize": 1,
          "arrowwidth": 1.5,
          "ax": 5.036098,
          "axref": "x",
          "ay": 5.5832629,
          "ayref": "y",
          "opacity": 0.5,
          "showarrow": true,
          "x": 5.2129688,
          "xref": "x",
          "y": 5.8792729,
          "yref": "y"
         },
         {
          "arrowcolor": "gray",
          "arrowhead": 4,
          "arrowsize": 1,
          "arrowwidth": 1.5,
          "ax": 5.2129688,
          "axref": "x",
          "ay": 5.8792729,
          "ayref": "y",
          "opacity": 0.5,
          "showarrow": true,
          "x": 5.0007505,
          "xref": "x",
          "y": 5.6793437,
          "yref": "y"
         },
         {
          "arrowcolor": "gray",
          "arrowhead": 4,
          "arrowsize": 1,
          "arrowwidth": 1.5,
          "ax": 3.4109206,
          "axref": "x",
          "ay": 1.8615012,
          "ayref": "y",
          "opacity": 0.5,
          "showarrow": true,
          "x": 2.7408936,
          "xref": "x",
          "y": 2.3775518,
          "yref": "y"
         },
         {
          "arrowcolor": "gray",
          "arrowhead": 4,
          "arrowsize": 1,
          "arrowwidth": 1.5,
          "ax": 2.7408936,
          "axref": "x",
          "ay": 2.3775518,
          "ayref": "y",
          "opacity": 0.5,
          "showarrow": true,
          "x": 2.351167,
          "xref": "x",
          "y": 2.5393674,
          "yref": "y"
         },
         {
          "arrowcolor": "gray",
          "arrowhead": 4,
          "arrowsize": 1,
          "arrowwidth": 1.5,
          "ax": 2.351167,
          "axref": "x",
          "ay": 2.5393674,
          "ayref": "y",
          "opacity": 0.5,
          "showarrow": true,
          "x": 2.5017946,
          "xref": "x",
          "y": 2.6525123,
          "yref": "y"
         },
         {
          "arrowcolor": "gray",
          "arrowhead": 4,
          "arrowsize": 1,
          "arrowwidth": 1.5,
          "ax": 2.5017946,
          "axref": "x",
          "ay": 2.6525123,
          "ayref": "y",
          "opacity": 0.5,
          "showarrow": true,
          "x": 3.4035609,
          "xref": "x",
          "y": 2.8255546,
          "yref": "y"
         },
         {
          "arrowcolor": "gray",
          "arrowhead": 4,
          "arrowsize": 1,
          "arrowwidth": 1.5,
          "ax": 3.4035609,
          "axref": "x",
          "ay": 2.8255546,
          "ayref": "y",
          "opacity": 0.5,
          "showarrow": true,
          "x": 3.7489135,
          "xref": "x",
          "y": 3.1109731,
          "yref": "y"
         },
         {
          "arrowcolor": "gray",
          "arrowhead": 4,
          "arrowsize": 1,
          "arrowwidth": 1.5,
          "ax": 3.7489135,
          "axref": "x",
          "ay": 3.1109731,
          "ayref": "y",
          "opacity": 0.5,
          "showarrow": true,
          "x": 3.1136112,
          "xref": "x",
          "y": 2.5168355,
          "yref": "y"
         },
         {
          "arrowcolor": "gray",
          "arrowhead": 4,
          "arrowsize": 1,
          "arrowwidth": 1.5,
          "ax": 4.7356052,
          "axref": "x",
          "ay": 1.2078249,
          "ayref": "y",
          "opacity": 0.5,
          "showarrow": true,
          "x": 4.2250199,
          "xref": "x",
          "y": 2.1082251,
          "yref": "y"
         },
         {
          "arrowcolor": "gray",
          "arrowhead": 4,
          "arrowsize": 1,
          "arrowwidth": 1.5,
          "ax": 4.2250199,
          "axref": "x",
          "ay": 2.1082251,
          "ayref": "y",
          "opacity": 0.5,
          "showarrow": true,
          "x": 3.6963096,
          "xref": "x",
          "y": 2.4304202,
          "yref": "y"
         },
         {
          "arrowcolor": "gray",
          "arrowhead": 4,
          "arrowsize": 1,
          "arrowwidth": 1.5,
          "ax": 3.6963096,
          "axref": "x",
          "ay": 2.4304202,
          "ayref": "y",
          "opacity": 0.5,
          "showarrow": true,
          "x": 5.1412535,
          "xref": "x",
          "y": 2.4961436,
          "yref": "y"
         },
         {
          "arrowcolor": "gray",
          "arrowhead": 4,
          "arrowsize": 1,
          "arrowwidth": 1.5,
          "ax": 5.1412535,
          "axref": "x",
          "ay": 2.4961436,
          "ayref": "y",
          "opacity": 0.5,
          "showarrow": true,
          "x": 5.121294,
          "xref": "x",
          "y": 2.3578529,
          "yref": "y"
         },
         {
          "arrowcolor": "gray",
          "arrowhead": 4,
          "arrowsize": 1,
          "arrowwidth": 1.5,
          "ax": 5.121294,
          "axref": "x",
          "ay": 2.3578529,
          "ayref": "y",
          "opacity": 0.5,
          "showarrow": true,
          "x": 4.6649504,
          "xref": "x",
          "y": 2.2126827,
          "yref": "y"
         },
         {
          "arrowcolor": "gray",
          "arrowhead": 4,
          "arrowsize": 1,
          "arrowwidth": 1.5,
          "ax": 4.6649504,
          "axref": "x",
          "ay": 2.2126827,
          "ayref": "y",
          "opacity": 0.5,
          "showarrow": true,
          "x": 4.5618129,
          "xref": "x",
          "y": 2.2576342,
          "yref": "y"
         }
        ],
        "height": 500,
        "legend": {
         "title": {
          "text": "Freedom Status"
         }
        },
        "template": {
         "data": {
          "bar": [
           {
            "error_x": {
             "color": "#2a3f5f"
            },
            "error_y": {
             "color": "#2a3f5f"
            },
            "marker": {
             "line": {
              "color": "white",
              "width": 0.5
             },
             "pattern": {
              "fillmode": "overlay",
              "size": 10,
              "solidity": 0.2
             }
            },
            "type": "bar"
           }
          ],
          "barpolar": [
           {
            "marker": {
             "line": {
              "color": "white",
              "width": 0.5
             },
             "pattern": {
              "fillmode": "overlay",
              "size": 10,
              "solidity": 0.2
             }
            },
            "type": "barpolar"
           }
          ],
          "carpet": [
           {
            "aaxis": {
             "endlinecolor": "#2a3f5f",
             "gridcolor": "#C8D4E3",
             "linecolor": "#C8D4E3",
             "minorgridcolor": "#C8D4E3",
             "startlinecolor": "#2a3f5f"
            },
            "baxis": {
             "endlinecolor": "#2a3f5f",
             "gridcolor": "#C8D4E3",
             "linecolor": "#C8D4E3",
             "minorgridcolor": "#C8D4E3",
             "startlinecolor": "#2a3f5f"
            },
            "type": "carpet"
           }
          ],
          "choropleth": [
           {
            "colorbar": {
             "outlinewidth": 0,
             "ticks": ""
            },
            "type": "choropleth"
           }
          ],
          "contour": [
           {
            "colorbar": {
             "outlinewidth": 0,
             "ticks": ""
            },
            "colorscale": [
             [
              0,
              "#0d0887"
             ],
             [
              0.1111111111111111,
              "#46039f"
             ],
             [
              0.2222222222222222,
              "#7201a8"
             ],
             [
              0.3333333333333333,
              "#9c179e"
             ],
             [
              0.4444444444444444,
              "#bd3786"
             ],
             [
              0.5555555555555556,
              "#d8576b"
             ],
             [
              0.6666666666666666,
              "#ed7953"
             ],
             [
              0.7777777777777778,
              "#fb9f3a"
             ],
             [
              0.8888888888888888,
              "#fdca26"
             ],
             [
              1,
              "#f0f921"
             ]
            ],
            "type": "contour"
           }
          ],
          "contourcarpet": [
           {
            "colorbar": {
             "outlinewidth": 0,
             "ticks": ""
            },
            "type": "contourcarpet"
           }
          ],
          "heatmap": [
           {
            "colorbar": {
             "outlinewidth": 0,
             "ticks": ""
            },
            "colorscale": [
             [
              0,
              "#0d0887"
             ],
             [
              0.1111111111111111,
              "#46039f"
             ],
             [
              0.2222222222222222,
              "#7201a8"
             ],
             [
              0.3333333333333333,
              "#9c179e"
             ],
             [
              0.4444444444444444,
              "#bd3786"
             ],
             [
              0.5555555555555556,
              "#d8576b"
             ],
             [
              0.6666666666666666,
              "#ed7953"
             ],
             [
              0.7777777777777778,
              "#fb9f3a"
             ],
             [
              0.8888888888888888,
              "#fdca26"
             ],
             [
              1,
              "#f0f921"
             ]
            ],
            "type": "heatmap"
           }
          ],
          "histogram": [
           {
            "marker": {
             "pattern": {
              "fillmode": "overlay",
              "size": 10,
              "solidity": 0.2
             }
            },
            "type": "histogram"
           }
          ],
          "histogram2d": [
           {
            "colorbar": {
             "outlinewidth": 0,
             "ticks": ""
            },
            "colorscale": [
             [
              0,
              "#0d0887"
             ],
             [
              0.1111111111111111,
              "#46039f"
             ],
             [
              0.2222222222222222,
              "#7201a8"
             ],
             [
              0.3333333333333333,
              "#9c179e"
             ],
             [
              0.4444444444444444,
              "#bd3786"
             ],
             [
              0.5555555555555556,
              "#d8576b"
             ],
             [
              0.6666666666666666,
              "#ed7953"
             ],
             [
              0.7777777777777778,
              "#fb9f3a"
             ],
             [
              0.8888888888888888,
              "#fdca26"
             ],
             [
              1,
              "#f0f921"
             ]
            ],
            "type": "histogram2d"
           }
          ],
          "histogram2dcontour": [
           {
            "colorbar": {
             "outlinewidth": 0,
             "ticks": ""
            },
            "colorscale": [
             [
              0,
              "#0d0887"
             ],
             [
              0.1111111111111111,
              "#46039f"
             ],
             [
              0.2222222222222222,
              "#7201a8"
             ],
             [
              0.3333333333333333,
              "#9c179e"
             ],
             [
              0.4444444444444444,
              "#bd3786"
             ],
             [
              0.5555555555555556,
              "#d8576b"
             ],
             [
              0.6666666666666666,
              "#ed7953"
             ],
             [
              0.7777777777777778,
              "#fb9f3a"
             ],
             [
              0.8888888888888888,
              "#fdca26"
             ],
             [
              1,
              "#f0f921"
             ]
            ],
            "type": "histogram2dcontour"
           }
          ],
          "mesh3d": [
           {
            "colorbar": {
             "outlinewidth": 0,
             "ticks": ""
            },
            "type": "mesh3d"
           }
          ],
          "parcoords": [
           {
            "line": {
             "colorbar": {
              "outlinewidth": 0,
              "ticks": ""
             }
            },
            "type": "parcoords"
           }
          ],
          "pie": [
           {
            "automargin": true,
            "type": "pie"
           }
          ],
          "scatter": [
           {
            "fillpattern": {
             "fillmode": "overlay",
             "size": 10,
             "solidity": 0.2
            },
            "type": "scatter"
           }
          ],
          "scatter3d": [
           {
            "line": {
             "colorbar": {
              "outlinewidth": 0,
              "ticks": ""
             }
            },
            "marker": {
             "colorbar": {
              "outlinewidth": 0,
              "ticks": ""
             }
            },
            "type": "scatter3d"
           }
          ],
          "scattercarpet": [
           {
            "marker": {
             "colorbar": {
              "outlinewidth": 0,
              "ticks": ""
             }
            },
            "type": "scattercarpet"
           }
          ],
          "scattergeo": [
           {
            "marker": {
             "colorbar": {
              "outlinewidth": 0,
              "ticks": ""
             }
            },
            "type": "scattergeo"
           }
          ],
          "scattergl": [
           {
            "marker": {
             "colorbar": {
              "outlinewidth": 0,
              "ticks": ""
             }
            },
            "type": "scattergl"
           }
          ],
          "scattermap": [
           {
            "marker": {
             "colorbar": {
              "outlinewidth": 0,
              "ticks": ""
             }
            },
            "type": "scattermap"
           }
          ],
          "scattermapbox": [
           {
            "marker": {
             "colorbar": {
              "outlinewidth": 0,
              "ticks": ""
             }
            },
            "type": "scattermapbox"
           }
          ],
          "scatterpolar": [
           {
            "marker": {
             "colorbar": {
              "outlinewidth": 0,
              "ticks": ""
             }
            },
            "type": "scatterpolar"
           }
          ],
          "scatterpolargl": [
           {
            "marker": {
             "colorbar": {
              "outlinewidth": 0,
              "ticks": ""
             }
            },
            "type": "scatterpolargl"
           }
          ],
          "scatterternary": [
           {
            "marker": {
             "colorbar": {
              "outlinewidth": 0,
              "ticks": ""
             }
            },
            "type": "scatterternary"
           }
          ],
          "surface": [
           {
            "colorbar": {
             "outlinewidth": 0,
             "ticks": ""
            },
            "colorscale": [
             [
              0,
              "#0d0887"
             ],
             [
              0.1111111111111111,
              "#46039f"
             ],
             [
              0.2222222222222222,
              "#7201a8"
             ],
             [
              0.3333333333333333,
              "#9c179e"
             ],
             [
              0.4444444444444444,
              "#bd3786"
             ],
             [
              0.5555555555555556,
              "#d8576b"
             ],
             [
              0.6666666666666666,
              "#ed7953"
             ],
             [
              0.7777777777777778,
              "#fb9f3a"
             ],
             [
              0.8888888888888888,
              "#fdca26"
             ],
             [
              1,
              "#f0f921"
             ]
            ],
            "type": "surface"
           }
          ],
          "table": [
           {
            "cells": {
             "fill": {
              "color": "#EBF0F8"
             },
             "line": {
              "color": "white"
             }
            },
            "header": {
             "fill": {
              "color": "#C8D4E3"
             },
             "line": {
              "color": "white"
             }
            },
            "type": "table"
           }
          ]
         },
         "layout": {
          "annotationdefaults": {
           "arrowcolor": "#2a3f5f",
           "arrowhead": 0,
           "arrowwidth": 1
          },
          "autotypenumbers": "strict",
          "coloraxis": {
           "colorbar": {
            "outlinewidth": 0,
            "ticks": ""
           }
          },
          "colorscale": {
           "diverging": [
            [
             0,
             "#8e0152"
            ],
            [
             0.1,
             "#c51b7d"
            ],
            [
             0.2,
             "#de77ae"
            ],
            [
             0.3,
             "#f1b6da"
            ],
            [
             0.4,
             "#fde0ef"
            ],
            [
             0.5,
             "#f7f7f7"
            ],
            [
             0.6,
             "#e6f5d0"
            ],
            [
             0.7,
             "#b8e186"
            ],
            [
             0.8,
             "#7fbc41"
            ],
            [
             0.9,
             "#4d9221"
            ],
            [
             1,
             "#276419"
            ]
           ],
           "sequential": [
            [
             0,
             "#0d0887"
            ],
            [
             0.1111111111111111,
             "#46039f"
            ],
            [
             0.2222222222222222,
             "#7201a8"
            ],
            [
             0.3333333333333333,
             "#9c179e"
            ],
            [
             0.4444444444444444,
             "#bd3786"
            ],
            [
             0.5555555555555556,
             "#d8576b"
            ],
            [
             0.6666666666666666,
             "#ed7953"
            ],
            [
             0.7777777777777778,
             "#fb9f3a"
            ],
            [
             0.8888888888888888,
             "#fdca26"
            ],
            [
             1,
             "#f0f921"
            ]
           ],
           "sequentialminus": [
            [
             0,
             "#0d0887"
            ],
            [
             0.1111111111111111,
             "#46039f"
            ],
            [
             0.2222222222222222,
             "#7201a8"
            ],
            [
             0.3333333333333333,
             "#9c179e"
            ],
            [
             0.4444444444444444,
             "#bd3786"
            ],
            [
             0.5555555555555556,
             "#d8576b"
            ],
            [
             0.6666666666666666,
             "#ed7953"
            ],
            [
             0.7777777777777778,
             "#fb9f3a"
            ],
            [
             0.8888888888888888,
             "#fdca26"
            ],
            [
             1,
             "#f0f921"
            ]
           ]
          },
          "colorway": [
           "#636efa",
           "#EF553B",
           "#00cc96",
           "#ab63fa",
           "#FFA15A",
           "#19d3f3",
           "#FF6692",
           "#B6E880",
           "#FF97FF",
           "#FECB52"
          ],
          "font": {
           "color": "#2a3f5f"
          },
          "geo": {
           "bgcolor": "white",
           "lakecolor": "white",
           "landcolor": "white",
           "showlakes": true,
           "showland": true,
           "subunitcolor": "#C8D4E3"
          },
          "hoverlabel": {
           "align": "left"
          },
          "hovermode": "closest",
          "mapbox": {
           "style": "light"
          },
          "paper_bgcolor": "white",
          "plot_bgcolor": "white",
          "polar": {
           "angularaxis": {
            "gridcolor": "#EBF0F8",
            "linecolor": "#EBF0F8",
            "ticks": ""
           },
           "bgcolor": "white",
           "radialaxis": {
            "gridcolor": "#EBF0F8",
            "linecolor": "#EBF0F8",
            "ticks": ""
           }
          },
          "scene": {
           "xaxis": {
            "backgroundcolor": "white",
            "gridcolor": "#DFE8F3",
            "gridwidth": 2,
            "linecolor": "#EBF0F8",
            "showbackground": true,
            "ticks": "",
            "zerolinecolor": "#EBF0F8"
           },
           "yaxis": {
            "backgroundcolor": "white",
            "gridcolor": "#DFE8F3",
            "gridwidth": 2,
            "linecolor": "#EBF0F8",
            "showbackground": true,
            "ticks": "",
            "zerolinecolor": "#EBF0F8"
           },
           "zaxis": {
            "backgroundcolor": "white",
            "gridcolor": "#DFE8F3",
            "gridwidth": 2,
            "linecolor": "#EBF0F8",
            "showbackground": true,
            "ticks": "",
            "zerolinecolor": "#EBF0F8"
           }
          },
          "shapedefaults": {
           "line": {
            "color": "#2a3f5f"
           }
          },
          "ternary": {
           "aaxis": {
            "gridcolor": "#DFE8F3",
            "linecolor": "#A2B1C6",
            "ticks": ""
           },
           "baxis": {
            "gridcolor": "#DFE8F3",
            "linecolor": "#A2B1C6",
            "ticks": ""
           },
           "bgcolor": "white",
           "caxis": {
            "gridcolor": "#DFE8F3",
            "linecolor": "#A2B1C6",
            "ticks": ""
           }
          },
          "title": {
           "x": 0.05
          },
          "xaxis": {
           "automargin": true,
           "gridcolor": "#EBF0F8",
           "linecolor": "#EBF0F8",
           "ticks": "",
           "title": {
            "standoff": 15
           },
           "zerolinecolor": "#EBF0F8",
           "zerolinewidth": 2
          },
          "yaxis": {
           "automargin": true,
           "gridcolor": "#EBF0F8",
           "linecolor": "#EBF0F8",
           "ticks": "",
           "title": {
            "standoff": 15
           },
           "zerolinecolor": "#EBF0F8",
           "zerolinewidth": 2
          }
         }
        },
        "title": {
         "text": "Human Rights Change Over Time (Arrows = Yearly Transitions)"
        },
        "width": 850,
        "xaxis": {
         "title": {
          "text": "Physical Integrity Mean"
         }
        },
        "yaxis": {
         "title": {
          "text": "Empowerment Mean"
         }
        }
       }
      }
     },
     "metadata": {},
     "output_type": "display_data"
    }
   ],
   "source": [
    "# Load and clean data\n",
    "df1 = pd.read_csv('csv files/cpr.csv')\n",
    "df = df1[['country', 'year', 'physint_mean', 'empower_mean']].dropna()\n",
    "df = df.sort_values(['country', 'year'])\n",
    "\n",
    "# Standardize for clustering\n",
    "scaler = StandardScaler()\n",
    "X_scaled = scaler.fit_transform(df[['physint_mean', 'empower_mean']])\n",
    "\n",
    "# Run KMeans clustering\n",
    "kmeans = KMeans(n_clusters=3, random_state=42, n_init=10)\n",
    "df['cluster'] = kmeans.fit_predict(X_scaled)\n",
    "\n",
    "# Assign labels to clusters\n",
    "cluster_avg = df.groupby('cluster')[['physint_mean', 'empower_mean']].mean().sum(axis=1)\n",
    "sorted_clusters = cluster_avg.sort_values().index.tolist()\n",
    "label_map = {sorted_clusters[0]: 'Less Free', sorted_clusters[1]: 'Partially Free', sorted_clusters[2]: 'Free'}\n",
    "df['freedom_status'] = df['cluster'].map(label_map)\n",
    "\n",
    "# Setup color map\n",
    "status_colors = {'Free': 'green', 'Partially Free': 'orange', 'Less Free': 'red'}\n",
    "\n",
    "# Initialize figure\n",
    "fig = go.Figure()\n",
    "\n",
    "# Plot points with color-coded status\n",
    "for status in df['freedom_status'].unique():\n",
    "    subset = df[df['freedom_status'] == status]\n",
    "    fig.add_trace(go.Scatter(\n",
    "        x=subset['physint_mean'],\n",
    "        y=subset['empower_mean'],\n",
    "        mode='markers',\n",
    "        name=status,\n",
    "        marker=dict(color=status_colors[status], size=8, opacity=0.7),\n",
    "        hovertext=subset['country'] + \" (\" + subset['year'].astype(str) + \")\",\n",
    "        hoverinfo='text'\n",
    "    ))\n",
    "\n",
    "# Add directional arrows (line segments with arrowheads)\n",
    "for country in df['country'].unique():\n",
    "    country_data = df[df['country'] == country].sort_values('year')\n",
    "    for i in range(len(country_data) - 1):\n",
    "        row_start = country_data.iloc[i]\n",
    "        row_end = country_data.iloc[i + 1]\n",
    "        color = 'gray'  # You can replace with logic to color-code arrows\n",
    "\n",
    "        fig.add_annotation(\n",
    "            x=row_end['physint_mean'],\n",
    "            y=row_end['empower_mean'],\n",
    "            ax=row_start['physint_mean'],\n",
    "            ay=row_start['empower_mean'],\n",
    "            xref='x', yref='y',\n",
    "            axref='x', ayref='y',\n",
    "            showarrow=True,\n",
    "            arrowhead=4,\n",
    "            arrowsize=1,\n",
    "            arrowwidth=1.5,\n",
    "            opacity=0.5,\n",
    "            arrowcolor=color\n",
    "        )\n",
    "\n",
    "# Layout settings\n",
    "fig.update_layout(\n",
    "    title='Human Rights Change Over Time (Arrows = Yearly Transitions)',\n",
    "    xaxis_title='Physical Integrity Mean',\n",
    "    yaxis_title='Empowerment Mean',\n",
    "    legend_title='Freedom Status',\n",
    "    width=850,\n",
    "    height=500,\n",
    "    template='plotly_white'\n",
    ")\n",
    "\n",
    "fig.show()\n"
   ]
  },
  {
   "cell_type": "code",
   "execution_count": null,
   "metadata": {},
   "outputs": [
    {
     "data": {
      "application/vnd.plotly.v1+json": {
       "config": {
        "plotlyServerURL": "https://plot.ly"
       },
       "data": [
        {
         "customdata": [
          [
           "Angola",
           2018
          ],
          [
           "Angola",
           2019
          ],
          [
           "Angola",
           2020
          ],
          [
           "Angola",
           2021
          ],
          [
           "Angola",
           2022
          ],
          [
           "Angola",
           2023
          ],
          [
           "Australia",
           2018
          ],
          [
           "Australia",
           2019
          ],
          [
           "Australia",
           2020
          ],
          [
           "Australia",
           2021
          ],
          [
           "Australia",
           2022
          ],
          [
           "Australia",
           2023
          ],
          [
           "Bangladesh",
           2022
          ],
          [
           "Bangladesh",
           2023
          ],
          [
           "Brazil",
           2018
          ],
          [
           "Brazil",
           2019
          ],
          [
           "Brazil",
           2020
          ],
          [
           "Brazil",
           2021
          ],
          [
           "Brazil",
           2022
          ],
          [
           "Brazil",
           2023
          ],
          [
           "China",
           2021
          ],
          [
           "China",
           2022
          ],
          [
           "China",
           2023
          ],
          [
           "Cook Islands",
           2019
          ],
          [
           "Cook Islands",
           2020
          ],
          [
           "Cook Islands",
           2021
          ],
          [
           "Cook Islands",
           2022
          ],
          [
           "DRC",
           2019
          ],
          [
           "DRC",
           2020
          ],
          [
           "DRC",
           2021
          ],
          [
           "DRC",
           2022
          ],
          [
           "DRC",
           2023
          ],
          [
           "FSM",
           2020
          ],
          [
           "Fiji",
           2018
          ],
          [
           "Fiji",
           2019
          ],
          [
           "Fiji",
           2020
          ],
          [
           "Fiji",
           2021
          ],
          [
           "Fiji",
           2022
          ],
          [
           "French Polynesia",
           2020
          ],
          [
           "French Polynesia",
           2021
          ],
          [
           "Guam",
           2019
          ],
          [
           "Guam",
           2020
          ],
          [
           "Hong Kong",
           2020
          ],
          [
           "Hong Kong",
           2021
          ],
          [
           "Hong Kong",
           2022
          ],
          [
           "Hong Kong",
           2023
          ],
          [
           "India",
           2021
          ],
          [
           "India",
           2022
          ],
          [
           "India",
           2023
          ],
          [
           "Jordan",
           2018
          ],
          [
           "Jordan",
           2019
          ],
          [
           "Jordan",
           2020
          ],
          [
           "Jordan",
           2021
          ],
          [
           "Jordan",
           2022
          ],
          [
           "Kazakhstan",
           2018
          ],
          [
           "Kazakhstan",
           2019
          ],
          [
           "Kazakhstan",
           2020
          ],
          [
           "Kazakhstan",
           2021
          ],
          [
           "Kazakhstan",
           2022
          ],
          [
           "Kazakhstan",
           2023
          ],
          [
           "Kiribati",
           2020
          ],
          [
           "Kiribati",
           2021
          ],
          [
           "Kyrgyzstan",
           2018
          ],
          [
           "Kyrgyzstan",
           2019
          ],
          [
           "Kyrgyzstan",
           2020
          ],
          [
           "Kyrgyzstan",
           2021
          ],
          [
           "Kyrgyzstan",
           2022
          ],
          [
           "Kyrgyzstan",
           2023
          ],
          [
           "Liberia",
           2018
          ],
          [
           "Liberia",
           2019
          ],
          [
           "Liberia",
           2020
          ],
          [
           "Liberia",
           2021
          ],
          [
           "Liberia",
           2022
          ],
          [
           "Liberia",
           2023
          ],
          [
           "Malaysia",
           2020
          ],
          [
           "Malaysia",
           2021
          ],
          [
           "Malaysia",
           2022
          ],
          [
           "Malaysia",
           2023
          ],
          [
           "Maldives",
           2022
          ],
          [
           "Maldives",
           2023
          ],
          [
           "Mexico",
           2018
          ],
          [
           "Mexico",
           2019
          ],
          [
           "Mexico",
           2020
          ],
          [
           "Mexico",
           2021
          ],
          [
           "Mexico",
           2022
          ],
          [
           "Mexico",
           2023
          ],
          [
           "Mozambique",
           2018
          ],
          [
           "Mozambique",
           2019
          ],
          [
           "Mozambique",
           2020
          ],
          [
           "Mozambique",
           2021
          ],
          [
           "Mozambique",
           2022
          ],
          [
           "Mozambique",
           2023
          ],
          [
           "Nauru",
           2019
          ],
          [
           "Nepal",
           2018
          ],
          [
           "Nepal",
           2019
          ],
          [
           "Nepal",
           2020
          ],
          [
           "Nepal",
           2021
          ],
          [
           "Nepal",
           2022
          ],
          [
           "Nepal",
           2023
          ],
          [
           "New Caledonia",
           2019
          ],
          [
           "New Caledonia",
           2020
          ],
          [
           "New Caledonia",
           2021
          ],
          [
           "New Caledonia",
           2022
          ],
          [
           "New Zealand",
           2018
          ],
          [
           "New Zealand",
           2019
          ],
          [
           "New Zealand",
           2020
          ],
          [
           "New Zealand",
           2021
          ],
          [
           "New Zealand",
           2022
          ],
          [
           "New Zealand",
           2023
          ],
          [
           "Niue",
           2019
          ],
          [
           "Niue",
           2020
          ],
          [
           "Northern Mariana Islands",
           2020
          ],
          [
           "PNG",
           2019
          ],
          [
           "PNG",
           2020
          ],
          [
           "PNG",
           2021
          ],
          [
           "PNG",
           2022
          ],
          [
           "PNG",
           2023
          ],
          [
           "Samoa",
           2019
          ],
          [
           "Samoa",
           2020
          ],
          [
           "Samoa",
           2021
          ],
          [
           "Samoa",
           2022
          ],
          [
           "Saudi Arabia",
           2018
          ],
          [
           "Saudi Arabia",
           2019
          ],
          [
           "Saudi Arabia",
           2020
          ],
          [
           "Saudi Arabia",
           2021
          ],
          [
           "Saudi Arabia",
           2022
          ],
          [
           "Saudi Arabia",
           2023
          ],
          [
           "Singapore",
           2023
          ],
          [
           "Solomon Islands",
           2021
          ],
          [
           "South Korea",
           2018
          ],
          [
           "South Korea",
           2019
          ],
          [
           "South Korea",
           2020
          ],
          [
           "South Korea",
           2021
          ],
          [
           "South Korea",
           2022
          ],
          [
           "South Korea",
           2023
          ],
          [
           "Sri Lanka",
           2023
          ],
          [
           "Taiwan",
           2020
          ],
          [
           "Taiwan",
           2021
          ],
          [
           "Taiwan",
           2022
          ],
          [
           "Taiwan",
           2023
          ],
          [
           "Thailand",
           2022
          ],
          [
           "Thailand",
           2023
          ],
          [
           "Tonga",
           2019
          ],
          [
           "Tonga",
           2020
          ],
          [
           "Tonga",
           2021
          ],
          [
           "Tonga",
           2022
          ],
          [
           "Tuvalu",
           2021
          ],
          [
           "United Kingdom",
           2018
          ],
          [
           "United Kingdom",
           2019
          ],
          [
           "United Kingdom",
           2020
          ],
          [
           "United Kingdom",
           2021
          ],
          [
           "United Kingdom",
           2022
          ],
          [
           "United Kingdom",
           2023
          ],
          [
           "United States",
           2018
          ],
          [
           "United States",
           2019
          ],
          [
           "United States",
           2020
          ],
          [
           "United States",
           2021
          ],
          [
           "United States",
           2022
          ],
          [
           "United States",
           2023
          ],
          [
           "Venezuela",
           2018
          ],
          [
           "Venezuela",
           2019
          ],
          [
           "Venezuela",
           2020
          ],
          [
           "Venezuela",
           2021
          ],
          [
           "Venezuela",
           2022
          ],
          [
           "Venezuela",
           2023
          ],
          [
           "Vietnam",
           2018
          ],
          [
           "Vietnam",
           2019
          ],
          [
           "Vietnam",
           2020
          ],
          [
           "Vietnam",
           2021
          ],
          [
           "Vietnam",
           2022
          ],
          [
           "Vietnam",
           2023
          ]
         ],
         "hovertemplate": "Change in Physical Integrity=%{x}<br>Change in Empowerment=%{y}<br>country=%{customdata[0]}<br>year=%{customdata[1]}<extra></extra>",
         "legendgroup": "",
         "marker": {
          "color": "#636efa",
          "symbol": "circle"
         },
         "mode": "markers",
         "name": "",
         "orientation": "v",
         "showlegend": false,
         "type": "scatter",
         "x": {
          "bdata": "UAvsMZES5z/oGj4z0lzkvxTldz8TxvC/qCafwyFA1L9ojkAXaFLbP87HtaFi/AZAgNyVAndFtb9wWRnoNVHZvyimsPeH0uM/YHzzdt+Mzz/QCUbKuw/Xv3C7Cb5petk/KMZDKWtl5D+QeyagLnfZPwBJLZRMTru/EJCyj1+Jyr9I5/wUxwHcP7ztQnOdRuM/APD0lOaghb8wQYrw5XTZv+BG5pE/GLQ/4HX3pSMlxL/gT57DxgbDv+DyXhDsU+I/AAKbc/BMsD8AjhDU3wGyP0D3p/nPP8U/yjrSz4re9D+ABtSbUfOtv4CJDAYyltg/wH4tVKP8wb9sEnKUck31v+BcL/JXrew/IAJHAg225T8Q5MLcSR/SPyCrjsEvmtC/gNuQNdn1vb8A0Nld+11zv6Aie84nvN2/gKHP7F/+wD8AP+4RIPmtvzDMnfQZq+6/AMw0q4jkhT8A1uWUgJiEP0D4vIfw1Mm/IEHmFC510b8wwhTl0rjiP4S4vIPpReq/wOBh2jf3wL9AqVYV0PrHP0DVmGssvMq/YHvjWqPUyb+gEzHbBE7jP/hYC/1dqeA/wHg4JjBCub/ACoT4G8jrv6AwvO2drNI/ADSH/8+8rz9g8JzSZsHpv0BUdeolgfs/8Aoi9xk85T8A5xCCn4KxvwCA/x8nTFg/QPCMEeT7xj+wpqH8ky7kvwDBEx9E15K/QH6Yc98gsr+YucDlsabmvzDfsCPEi+8/BNw9ioQA8r/gmD0amCbHv4AdJzvsdN4/gNd/QuLDob+I5vD/mXfiPwD05PW7C88/ACSxSSMLwj8AL81jgzvCv5jjSAyn8e6/gK06YXhb0b8gNLvurYjgvzC9xFimX8y/aG11lN7S4j/0QpX19kLsPzCcgqGzccg/0Ptgz42fxL8QR+sDJPXFP4ASIiqexMw/+F+M7Vrn0r+g5vVxftTNv8A/pUqUvcs/aB0iyQcY0D/g2kpUFFTGPwAARLBg0bM/oJrAvufRw78wq5/thw7ev8DviuB/K8o/+OGMBpXd7T9gyv7U06LFv0DMqEO4E7Y/QEOTH0zl1b/AedZ/5yjGvwAemsP/Z8U/ACr0C8BQwr8Atu9Rf72CvyA5gq9DkMY/AKR1r+6zrb/AU34IYLnTv4D7YqU4/bG/AH3p7c9FzD9A1FXL5ybdPwAOW8TB75i/sLofAe0Y6D9gr3d/vFfAP3CgG/VrhuM/QEpjD0gduL8AiC09murTvwA+sOO/QIC/OIoYG18g7D+A7bWg98bBP8AhfN5DeNe/GKM883KY6b/QwUTNodbSv+DOOwREd8S/cH8uGjIe0j+MZq+IqxToPyD99nXgXOc/yIvxBj1A0b8Av4P68fKvPzQu0nquZfI/2Lc4z32e4z/4KgoFtlToP8CIPsSrUdm/AEPAa+HDpr8AvLWnP1a5v6C1ygLc4tK/MIaU+g1u1j9QLEvPT8zUv8DeQaK/hro/AFY01v7Olj/gHUe98f/Xv4BW3dkNkdo/QJShKqYS7T+AJhNcUe+6PyA+sOO/AOs/APyiqUMTjT8gSf+BKE7Ev4DaJsv/mrw/wHwjumddtz8A/AbLfRd7v5DU7ewrD9A/0NVt9UE71r9AwZ1VsNfFvwACnrRwWa0/YPksz4O7xr8AQg06fK3VP0DVnkjmx9+/GHjdEQS+5D+ABc/Os6PGP4BtDiH4Kcu/1PuNdtxw5b/QZljWR/HYvxD/7+PDR8M/TFHk/0Tb7D8gq6XKQRrWP8haMn1lVOS/6C+q+7ZW4L8A3vHcMevgvwjgsH59Hvc/AGL6XkNwlL8wSm/JuzTdv4C/fR04Z7q/",
          "dtype": "f8"
         },
         "xaxis": "x",
         "y": {
          "bdata": "Astbv6qE/T/gT2s/vqnWv2gj6HmBQ/i/gFHu4w1V0j+gdH16x4S1v8RYARmVr+Y/UARg8vVr2b8ABOW2fY96P8DcggB088O/AMjQsYNKyT+AfUVt0biqv2D/Mb55u9m/cBTthV1vzb/ozU1AuCfcv+APVghQ+NG/gFcE/1uJ4r+A2is95HfNP5A24zREldq/4MMrpFdezr80N/C0Rq4EQLBhPDn547i/cOoDyTuHvD9cvXlgtlPSPwD41PvXA8W/gKYaB6i6zL/gPheyXxzSP6Ado+E5gNy/YdLOH4kdBEDAb1S4L7HMP0DjePR1T+K/sA2Y0dmT079AihHTz+W/v7AzlvrDoOK//GN883Yf6T+AUPY7uUurP6DpH+l4cdU/0HKVODzO2T9gnXpJCPvWvwCvGSoQh8+/CNl5G5sd5T8A8f+Z9+61v1CEeTR6Wty/ZmQ1ApZB9L/IXt7SIDvUvzCyCdVyjNE/IO5FD9fF078QQSVTqunKPxAUDELU2NS/iErqBDQR278AHPIqxlSpP2DrOxris8u/8Kc4DrxayL+w8S0H1SHrP2A+MfzxqOk/hiAPlhRs9z/Ag5lbxvLGP1gW4BaHDtY/4Fm77ULz2T/AHahTHt3NvzDtvVNcsNU/ANQDMK9trz8AWGJUCJqxPzBIn/sXbe4/qHen8cEh6L+AePOvQE+qv1AKdg1EYNA/ejMPBdgs9L/w+WGE8Gjqv3iwD/y5UgfA0mhhBa7RAMAA031K37WVP6gyMQLP4u8/mF7lGrD16T8A0HLqFHXkPxok6T8QZf6/qKMW72w01D/AOZUMANXSP9DvVvGhH9k/AOySJ/9Jgr+ggsno293Kv+TiXk8qsPI/WAfU9gqm4T+QIN/vYcDUv0DGjEuwk7+/gIfm8P+Zzj/gVy/Q/7zEvxCF9wssNtK/nNZ+fFPi4b9KssS5PMzwP1DuJ741C96/YAVC/A2k0D8YjRB5Jo/hvyBqygSyDda/wC16Aryg6L8gr9QO2gbWv2A2RqEbUMM/YOBePv731z9oFx3aEVjmP6Cvo7s1etC/SNRm9z/b5T8AUr77PnexPwAZGB6goM2/uOkI4Gax5r8YAy/p3rngvwDblOEusaC/wOafKvBfw7+ARyEkZlHbv9CciUT8Htw/AOQAsPDkob8Azs/Dv77NP2DMO/MX3+O/0HBe97H98L+wJHPRNbjTP2B1LtaBvdK/UM1R7A3j2r8QJNgTuFDTv4D1fw7z5eA/4AbGCzO+4z8AzBAidKvWvyinwBPEyuu/TgLlAAtKAUBQkyqbg7HLP9BUwaikTsQ/QGAYVSu4tD9wdaUK62u0Pzh0MFFzqMW/NMQM6OB00j8A7RQGwNO5PyD6WjxhTvs/AGCRBIZRdT/AuZ0iLM/fv2D14KQfw8S/wBiA/Fs46j9AfBHIgEe5v+BRvvs+9/W/4GMLnMe8zr+AqNQ2D3G1vwCM6q2BrXI/AFlIZS+Asz9A6Y4PxMPGPwgG19zRf9k/oLdF9MZk6D+oyMYodEPhP4AMvKR7Z9M/wIX+rnTjwz+wY8hWPBrTv2Cqwep+BOM/sMmd4+1S378g8PlhhHDSv7A7k+zHXOa/4O5RJATQ1L8guTvGcNDKP2AVNgNckNG/mD7P+u9c4j8A0pVjDXKmvygfOB23Tu2/KNk0AGWd5z9QflLt0/HSPwD6wa9Hl8m/AplCjHyD4D9wxv2iX7bEP4CNNW0Q97w/II2pBUAmxj+YGMv0S0TSP6BdKtssA+O/vvqJFBTQ7D/gnFsy2J7UPyD5lK0/07A/IKTreIKzwb+wSK3m75TCv0DyzwziA6c/",
          "dtype": "f8"
         },
         "yaxis": "y"
        }
       ],
       "layout": {
        "height": 600,
        "legend": {
         "tracegroupgap": 0
        },
        "template": {
         "data": {
          "bar": [
           {
            "error_x": {
             "color": "#2a3f5f"
            },
            "error_y": {
             "color": "#2a3f5f"
            },
            "marker": {
             "line": {
              "color": "white",
              "width": 0.5
             },
             "pattern": {
              "fillmode": "overlay",
              "size": 10,
              "solidity": 0.2
             }
            },
            "type": "bar"
           }
          ],
          "barpolar": [
           {
            "marker": {
             "line": {
              "color": "white",
              "width": 0.5
             },
             "pattern": {
              "fillmode": "overlay",
              "size": 10,
              "solidity": 0.2
             }
            },
            "type": "barpolar"
           }
          ],
          "carpet": [
           {
            "aaxis": {
             "endlinecolor": "#2a3f5f",
             "gridcolor": "#C8D4E3",
             "linecolor": "#C8D4E3",
             "minorgridcolor": "#C8D4E3",
             "startlinecolor": "#2a3f5f"
            },
            "baxis": {
             "endlinecolor": "#2a3f5f",
             "gridcolor": "#C8D4E3",
             "linecolor": "#C8D4E3",
             "minorgridcolor": "#C8D4E3",
             "startlinecolor": "#2a3f5f"
            },
            "type": "carpet"
           }
          ],
          "choropleth": [
           {
            "colorbar": {
             "outlinewidth": 0,
             "ticks": ""
            },
            "type": "choropleth"
           }
          ],
          "contour": [
           {
            "colorbar": {
             "outlinewidth": 0,
             "ticks": ""
            },
            "colorscale": [
             [
              0,
              "#0d0887"
             ],
             [
              0.1111111111111111,
              "#46039f"
             ],
             [
              0.2222222222222222,
              "#7201a8"
             ],
             [
              0.3333333333333333,
              "#9c179e"
             ],
             [
              0.4444444444444444,
              "#bd3786"
             ],
             [
              0.5555555555555556,
              "#d8576b"
             ],
             [
              0.6666666666666666,
              "#ed7953"
             ],
             [
              0.7777777777777778,
              "#fb9f3a"
             ],
             [
              0.8888888888888888,
              "#fdca26"
             ],
             [
              1,
              "#f0f921"
             ]
            ],
            "type": "contour"
           }
          ],
          "contourcarpet": [
           {
            "colorbar": {
             "outlinewidth": 0,
             "ticks": ""
            },
            "type": "contourcarpet"
           }
          ],
          "heatmap": [
           {
            "colorbar": {
             "outlinewidth": 0,
             "ticks": ""
            },
            "colorscale": [
             [
              0,
              "#0d0887"
             ],
             [
              0.1111111111111111,
              "#46039f"
             ],
             [
              0.2222222222222222,
              "#7201a8"
             ],
             [
              0.3333333333333333,
              "#9c179e"
             ],
             [
              0.4444444444444444,
              "#bd3786"
             ],
             [
              0.5555555555555556,
              "#d8576b"
             ],
             [
              0.6666666666666666,
              "#ed7953"
             ],
             [
              0.7777777777777778,
              "#fb9f3a"
             ],
             [
              0.8888888888888888,
              "#fdca26"
             ],
             [
              1,
              "#f0f921"
             ]
            ],
            "type": "heatmap"
           }
          ],
          "histogram": [
           {
            "marker": {
             "pattern": {
              "fillmode": "overlay",
              "size": 10,
              "solidity": 0.2
             }
            },
            "type": "histogram"
           }
          ],
          "histogram2d": [
           {
            "colorbar": {
             "outlinewidth": 0,
             "ticks": ""
            },
            "colorscale": [
             [
              0,
              "#0d0887"
             ],
             [
              0.1111111111111111,
              "#46039f"
             ],
             [
              0.2222222222222222,
              "#7201a8"
             ],
             [
              0.3333333333333333,
              "#9c179e"
             ],
             [
              0.4444444444444444,
              "#bd3786"
             ],
             [
              0.5555555555555556,
              "#d8576b"
             ],
             [
              0.6666666666666666,
              "#ed7953"
             ],
             [
              0.7777777777777778,
              "#fb9f3a"
             ],
             [
              0.8888888888888888,
              "#fdca26"
             ],
             [
              1,
              "#f0f921"
             ]
            ],
            "type": "histogram2d"
           }
          ],
          "histogram2dcontour": [
           {
            "colorbar": {
             "outlinewidth": 0,
             "ticks": ""
            },
            "colorscale": [
             [
              0,
              "#0d0887"
             ],
             [
              0.1111111111111111,
              "#46039f"
             ],
             [
              0.2222222222222222,
              "#7201a8"
             ],
             [
              0.3333333333333333,
              "#9c179e"
             ],
             [
              0.4444444444444444,
              "#bd3786"
             ],
             [
              0.5555555555555556,
              "#d8576b"
             ],
             [
              0.6666666666666666,
              "#ed7953"
             ],
             [
              0.7777777777777778,
              "#fb9f3a"
             ],
             [
              0.8888888888888888,
              "#fdca26"
             ],
             [
              1,
              "#f0f921"
             ]
            ],
            "type": "histogram2dcontour"
           }
          ],
          "mesh3d": [
           {
            "colorbar": {
             "outlinewidth": 0,
             "ticks": ""
            },
            "type": "mesh3d"
           }
          ],
          "parcoords": [
           {
            "line": {
             "colorbar": {
              "outlinewidth": 0,
              "ticks": ""
             }
            },
            "type": "parcoords"
           }
          ],
          "pie": [
           {
            "automargin": true,
            "type": "pie"
           }
          ],
          "scatter": [
           {
            "fillpattern": {
             "fillmode": "overlay",
             "size": 10,
             "solidity": 0.2
            },
            "type": "scatter"
           }
          ],
          "scatter3d": [
           {
            "line": {
             "colorbar": {
              "outlinewidth": 0,
              "ticks": ""
             }
            },
            "marker": {
             "colorbar": {
              "outlinewidth": 0,
              "ticks": ""
             }
            },
            "type": "scatter3d"
           }
          ],
          "scattercarpet": [
           {
            "marker": {
             "colorbar": {
              "outlinewidth": 0,
              "ticks": ""
             }
            },
            "type": "scattercarpet"
           }
          ],
          "scattergeo": [
           {
            "marker": {
             "colorbar": {
              "outlinewidth": 0,
              "ticks": ""
             }
            },
            "type": "scattergeo"
           }
          ],
          "scattergl": [
           {
            "marker": {
             "colorbar": {
              "outlinewidth": 0,
              "ticks": ""
             }
            },
            "type": "scattergl"
           }
          ],
          "scattermap": [
           {
            "marker": {
             "colorbar": {
              "outlinewidth": 0,
              "ticks": ""
             }
            },
            "type": "scattermap"
           }
          ],
          "scattermapbox": [
           {
            "marker": {
             "colorbar": {
              "outlinewidth": 0,
              "ticks": ""
             }
            },
            "type": "scattermapbox"
           }
          ],
          "scatterpolar": [
           {
            "marker": {
             "colorbar": {
              "outlinewidth": 0,
              "ticks": ""
             }
            },
            "type": "scatterpolar"
           }
          ],
          "scatterpolargl": [
           {
            "marker": {
             "colorbar": {
              "outlinewidth": 0,
              "ticks": ""
             }
            },
            "type": "scatterpolargl"
           }
          ],
          "scatterternary": [
           {
            "marker": {
             "colorbar": {
              "outlinewidth": 0,
              "ticks": ""
             }
            },
            "type": "scatterternary"
           }
          ],
          "surface": [
           {
            "colorbar": {
             "outlinewidth": 0,
             "ticks": ""
            },
            "colorscale": [
             [
              0,
              "#0d0887"
             ],
             [
              0.1111111111111111,
              "#46039f"
             ],
             [
              0.2222222222222222,
              "#7201a8"
             ],
             [
              0.3333333333333333,
              "#9c179e"
             ],
             [
              0.4444444444444444,
              "#bd3786"
             ],
             [
              0.5555555555555556,
              "#d8576b"
             ],
             [
              0.6666666666666666,
              "#ed7953"
             ],
             [
              0.7777777777777778,
              "#fb9f3a"
             ],
             [
              0.8888888888888888,
              "#fdca26"
             ],
             [
              1,
              "#f0f921"
             ]
            ],
            "type": "surface"
           }
          ],
          "table": [
           {
            "cells": {
             "fill": {
              "color": "#EBF0F8"
             },
             "line": {
              "color": "white"
             }
            },
            "header": {
             "fill": {
              "color": "#C8D4E3"
             },
             "line": {
              "color": "white"
             }
            },
            "type": "table"
           }
          ]
         },
         "layout": {
          "annotationdefaults": {
           "arrowcolor": "#2a3f5f",
           "arrowhead": 0,
           "arrowwidth": 1
          },
          "autotypenumbers": "strict",
          "coloraxis": {
           "colorbar": {
            "outlinewidth": 0,
            "ticks": ""
           }
          },
          "colorscale": {
           "diverging": [
            [
             0,
             "#8e0152"
            ],
            [
             0.1,
             "#c51b7d"
            ],
            [
             0.2,
             "#de77ae"
            ],
            [
             0.3,
             "#f1b6da"
            ],
            [
             0.4,
             "#fde0ef"
            ],
            [
             0.5,
             "#f7f7f7"
            ],
            [
             0.6,
             "#e6f5d0"
            ],
            [
             0.7,
             "#b8e186"
            ],
            [
             0.8,
             "#7fbc41"
            ],
            [
             0.9,
             "#4d9221"
            ],
            [
             1,
             "#276419"
            ]
           ],
           "sequential": [
            [
             0,
             "#0d0887"
            ],
            [
             0.1111111111111111,
             "#46039f"
            ],
            [
             0.2222222222222222,
             "#7201a8"
            ],
            [
             0.3333333333333333,
             "#9c179e"
            ],
            [
             0.4444444444444444,
             "#bd3786"
            ],
            [
             0.5555555555555556,
             "#d8576b"
            ],
            [
             0.6666666666666666,
             "#ed7953"
            ],
            [
             0.7777777777777778,
             "#fb9f3a"
            ],
            [
             0.8888888888888888,
             "#fdca26"
            ],
            [
             1,
             "#f0f921"
            ]
           ],
           "sequentialminus": [
            [
             0,
             "#0d0887"
            ],
            [
             0.1111111111111111,
             "#46039f"
            ],
            [
             0.2222222222222222,
             "#7201a8"
            ],
            [
             0.3333333333333333,
             "#9c179e"
            ],
            [
             0.4444444444444444,
             "#bd3786"
            ],
            [
             0.5555555555555556,
             "#d8576b"
            ],
            [
             0.6666666666666666,
             "#ed7953"
            ],
            [
             0.7777777777777778,
             "#fb9f3a"
            ],
            [
             0.8888888888888888,
             "#fdca26"
            ],
            [
             1,
             "#f0f921"
            ]
           ]
          },
          "colorway": [
           "#636efa",
           "#EF553B",
           "#00cc96",
           "#ab63fa",
           "#FFA15A",
           "#19d3f3",
           "#FF6692",
           "#B6E880",
           "#FF97FF",
           "#FECB52"
          ],
          "font": {
           "color": "#2a3f5f"
          },
          "geo": {
           "bgcolor": "white",
           "lakecolor": "white",
           "landcolor": "white",
           "showlakes": true,
           "showland": true,
           "subunitcolor": "#C8D4E3"
          },
          "hoverlabel": {
           "align": "left"
          },
          "hovermode": "closest",
          "mapbox": {
           "style": "light"
          },
          "paper_bgcolor": "white",
          "plot_bgcolor": "white",
          "polar": {
           "angularaxis": {
            "gridcolor": "#EBF0F8",
            "linecolor": "#EBF0F8",
            "ticks": ""
           },
           "bgcolor": "white",
           "radialaxis": {
            "gridcolor": "#EBF0F8",
            "linecolor": "#EBF0F8",
            "ticks": ""
           }
          },
          "scene": {
           "xaxis": {
            "backgroundcolor": "white",
            "gridcolor": "#DFE8F3",
            "gridwidth": 2,
            "linecolor": "#EBF0F8",
            "showbackground": true,
            "ticks": "",
            "zerolinecolor": "#EBF0F8"
           },
           "yaxis": {
            "backgroundcolor": "white",
            "gridcolor": "#DFE8F3",
            "gridwidth": 2,
            "linecolor": "#EBF0F8",
            "showbackground": true,
            "ticks": "",
            "zerolinecolor": "#EBF0F8"
           },
           "zaxis": {
            "backgroundcolor": "white",
            "gridcolor": "#DFE8F3",
            "gridwidth": 2,
            "linecolor": "#EBF0F8",
            "showbackground": true,
            "ticks": "",
            "zerolinecolor": "#EBF0F8"
           }
          },
          "shapedefaults": {
           "line": {
            "color": "#2a3f5f"
           }
          },
          "ternary": {
           "aaxis": {
            "gridcolor": "#DFE8F3",
            "linecolor": "#A2B1C6",
            "ticks": ""
           },
           "baxis": {
            "gridcolor": "#DFE8F3",
            "linecolor": "#A2B1C6",
            "ticks": ""
           },
           "bgcolor": "white",
           "caxis": {
            "gridcolor": "#DFE8F3",
            "linecolor": "#A2B1C6",
            "ticks": ""
           }
          },
          "title": {
           "x": 0.05
          },
          "xaxis": {
           "automargin": true,
           "gridcolor": "#EBF0F8",
           "linecolor": "#EBF0F8",
           "ticks": "",
           "title": {
            "standoff": 15
           },
           "zerolinecolor": "#EBF0F8",
           "zerolinewidth": 2
          },
          "yaxis": {
           "automargin": true,
           "gridcolor": "#EBF0F8",
           "linecolor": "#EBF0F8",
           "ticks": "",
           "title": {
            "standoff": 15
           },
           "zerolinecolor": "#EBF0F8",
           "zerolinewidth": 2
          }
         }
        },
        "title": {
         "text": "Scatter Plot of Yearly Changes: Physical Integrity vs Empowerment"
        },
        "width": 850,
        "xaxis": {
         "anchor": "y",
         "domain": [
          0,
          1
         ],
         "title": {
          "text": "Change in Physical Integrity"
         },
         "zeroline": true,
         "zerolinecolor": "black",
         "zerolinewidth": 2
        },
        "yaxis": {
         "anchor": "x",
         "domain": [
          0,
          1
         ],
         "title": {
          "text": "Change in Empowerment"
         },
         "zeroline": true,
         "zerolinecolor": "black",
         "zerolinewidth": 2
        }
       }
      }
     },
     "metadata": {},
     "output_type": "display_data"
    }
   ],
   "source": [
    "# Load and clean data\n",
    "df1 = pd.read_csv('csv files/cpr.csv')\n",
    "df = df1[['country', 'year', 'physint_mean', 'empower_mean']].dropna()\n",
    "df = df.sort_values(['country', 'year'])\n",
    "\n",
    "# Calculate year-over-year changes\n",
    "df['physint_change'] = df.groupby('country')['physint_mean'].diff()\n",
    "df['empower_change'] = df.groupby('country')['empower_mean'].diff()\n",
    "\n",
    "# Drop NaNs (first year has no previous year to compare)\n",
    "df_change = df.dropna(subset=['physint_change', 'empower_change'])\n",
    "\n",
    "# Plot scatter plot\n",
    "fig = px.scatter(\n",
    "    df_change,\n",
    "    x='physint_change',\n",
    "    y='empower_change',\n",
    "    hover_data=['country', 'year'],\n",
    "    title='Scatter Plot of Yearly Changes: Physical Integrity vs Empowerment',\n",
    "    labels={\n",
    "        'physint_change': 'Change in Physical Integrity',\n",
    "        'empower_change': 'Change in Empowerment'\n",
    "    },\n",
    "    width=850,\n",
    "    height=600\n",
    ")\n",
    "\n",
    "fig.update_layout(\n",
    "    template='plotly_white',\n",
    "    xaxis=dict(zeroline=True, zerolinewidth=2, zerolinecolor='black'),\n",
    "    yaxis=dict(zeroline=True, zerolinewidth=2, zerolinecolor='black')\n",
    ")\n",
    "\n",
    "fig.show()\n"
   ]
  },
  {
   "cell_type": "code",
   "execution_count": null,
   "metadata": {},
   "outputs": [
    {
     "data": {
      "application/vnd.plotly.v1+json": {
       "config": {
        "plotlyServerURL": "https://plot.ly"
       },
       "data": [
        {
         "hovertemplate": "Index=Physical Integrity Change<br>Year=%{x}<br>Mean Yearly Change=%{y}<extra></extra>",
         "legendgroup": "Physical Integrity Change",
         "line": {
          "color": "blue",
          "dash": "solid"
         },
         "marker": {
          "symbol": "circle"
         },
         "mode": "lines+markers",
         "name": "Physical Integrity Change",
         "orientation": "v",
         "showlegend": true,
         "type": "scatter",
         "x": {
          "bdata": "4gfjB+QH5QfmB+cH",
          "dtype": "i2"
         },
         "xaxis": "x",
         "y": {
          "bdata": "azHyGd27sD/k8lWv8q53P27FFbyNcrk/hOLkam+wyj+INukR/uCtv7c0CDKAs60/",
          "dtype": "f8"
         },
         "yaxis": "y"
        },
        {
         "hovertemplate": "Index=Empowerment Change<br>Year=%{x}<br>Mean Yearly Change=%{y}<extra></extra>",
         "legendgroup": "Empowerment Change",
         "line": {
          "color": "orange",
          "dash": "solid"
         },
         "marker": {
          "symbol": "circle"
         },
         "mode": "lines+markers",
         "name": "Empowerment Change",
         "orientation": "v",
         "showlegend": true,
         "type": "scatter",
         "x": {
          "bdata": "4gfjB+QH5QfmB+cH",
          "dtype": "i2"
         },
         "xaxis": "x",
         "y": {
          "bdata": "VU4OaVUDxD/aq7Wui+RWv21hlD2Ux8+/EJrsi48PxD+aLkH8srqwP5JDOn2/1Y8/",
          "dtype": "f8"
         },
         "yaxis": "y"
        },
        {
         "hovertemplate": "Index=Total Combined Change<br>Year=%{x}<br>Mean Yearly Change=%{y}<extra></extra>",
         "legendgroup": "Total Combined Change",
         "line": {
          "color": "green",
          "dash": "solid"
         },
         "marker": {
          "symbol": "circle"
         },
         "mode": "lines+markers",
         "name": "Total Combined Change",
         "orientation": "v",
         "showlegend": true,
         "type": "scatter",
         "x": {
          "bdata": "4gfjB+QH5QfmB+cH",
          "dtype": "i2"
         },
         "xaxis": "x",
         "y": {
          "bdata": "C2cH9kNhzD/th6jDz/VxP7R+iV9NDsO/Sr5oe/9f1z9gNck0P6N8P85iqwh41LI/",
          "dtype": "f8"
         },
         "yaxis": "y"
        }
       ],
       "layout": {
        "height": 600,
        "legend": {
         "title": {
          "text": "Index Type"
         },
         "tracegroupgap": 0
        },
        "template": {
         "data": {
          "bar": [
           {
            "error_x": {
             "color": "#2a3f5f"
            },
            "error_y": {
             "color": "#2a3f5f"
            },
            "marker": {
             "line": {
              "color": "white",
              "width": 0.5
             },
             "pattern": {
              "fillmode": "overlay",
              "size": 10,
              "solidity": 0.2
             }
            },
            "type": "bar"
           }
          ],
          "barpolar": [
           {
            "marker": {
             "line": {
              "color": "white",
              "width": 0.5
             },
             "pattern": {
              "fillmode": "overlay",
              "size": 10,
              "solidity": 0.2
             }
            },
            "type": "barpolar"
           }
          ],
          "carpet": [
           {
            "aaxis": {
             "endlinecolor": "#2a3f5f",
             "gridcolor": "#C8D4E3",
             "linecolor": "#C8D4E3",
             "minorgridcolor": "#C8D4E3",
             "startlinecolor": "#2a3f5f"
            },
            "baxis": {
             "endlinecolor": "#2a3f5f",
             "gridcolor": "#C8D4E3",
             "linecolor": "#C8D4E3",
             "minorgridcolor": "#C8D4E3",
             "startlinecolor": "#2a3f5f"
            },
            "type": "carpet"
           }
          ],
          "choropleth": [
           {
            "colorbar": {
             "outlinewidth": 0,
             "ticks": ""
            },
            "type": "choropleth"
           }
          ],
          "contour": [
           {
            "colorbar": {
             "outlinewidth": 0,
             "ticks": ""
            },
            "colorscale": [
             [
              0,
              "#0d0887"
             ],
             [
              0.1111111111111111,
              "#46039f"
             ],
             [
              0.2222222222222222,
              "#7201a8"
             ],
             [
              0.3333333333333333,
              "#9c179e"
             ],
             [
              0.4444444444444444,
              "#bd3786"
             ],
             [
              0.5555555555555556,
              "#d8576b"
             ],
             [
              0.6666666666666666,
              "#ed7953"
             ],
             [
              0.7777777777777778,
              "#fb9f3a"
             ],
             [
              0.8888888888888888,
              "#fdca26"
             ],
             [
              1,
              "#f0f921"
             ]
            ],
            "type": "contour"
           }
          ],
          "contourcarpet": [
           {
            "colorbar": {
             "outlinewidth": 0,
             "ticks": ""
            },
            "type": "contourcarpet"
           }
          ],
          "heatmap": [
           {
            "colorbar": {
             "outlinewidth": 0,
             "ticks": ""
            },
            "colorscale": [
             [
              0,
              "#0d0887"
             ],
             [
              0.1111111111111111,
              "#46039f"
             ],
             [
              0.2222222222222222,
              "#7201a8"
             ],
             [
              0.3333333333333333,
              "#9c179e"
             ],
             [
              0.4444444444444444,
              "#bd3786"
             ],
             [
              0.5555555555555556,
              "#d8576b"
             ],
             [
              0.6666666666666666,
              "#ed7953"
             ],
             [
              0.7777777777777778,
              "#fb9f3a"
             ],
             [
              0.8888888888888888,
              "#fdca26"
             ],
             [
              1,
              "#f0f921"
             ]
            ],
            "type": "heatmap"
           }
          ],
          "histogram": [
           {
            "marker": {
             "pattern": {
              "fillmode": "overlay",
              "size": 10,
              "solidity": 0.2
             }
            },
            "type": "histogram"
           }
          ],
          "histogram2d": [
           {
            "colorbar": {
             "outlinewidth": 0,
             "ticks": ""
            },
            "colorscale": [
             [
              0,
              "#0d0887"
             ],
             [
              0.1111111111111111,
              "#46039f"
             ],
             [
              0.2222222222222222,
              "#7201a8"
             ],
             [
              0.3333333333333333,
              "#9c179e"
             ],
             [
              0.4444444444444444,
              "#bd3786"
             ],
             [
              0.5555555555555556,
              "#d8576b"
             ],
             [
              0.6666666666666666,
              "#ed7953"
             ],
             [
              0.7777777777777778,
              "#fb9f3a"
             ],
             [
              0.8888888888888888,
              "#fdca26"
             ],
             [
              1,
              "#f0f921"
             ]
            ],
            "type": "histogram2d"
           }
          ],
          "histogram2dcontour": [
           {
            "colorbar": {
             "outlinewidth": 0,
             "ticks": ""
            },
            "colorscale": [
             [
              0,
              "#0d0887"
             ],
             [
              0.1111111111111111,
              "#46039f"
             ],
             [
              0.2222222222222222,
              "#7201a8"
             ],
             [
              0.3333333333333333,
              "#9c179e"
             ],
             [
              0.4444444444444444,
              "#bd3786"
             ],
             [
              0.5555555555555556,
              "#d8576b"
             ],
             [
              0.6666666666666666,
              "#ed7953"
             ],
             [
              0.7777777777777778,
              "#fb9f3a"
             ],
             [
              0.8888888888888888,
              "#fdca26"
             ],
             [
              1,
              "#f0f921"
             ]
            ],
            "type": "histogram2dcontour"
           }
          ],
          "mesh3d": [
           {
            "colorbar": {
             "outlinewidth": 0,
             "ticks": ""
            },
            "type": "mesh3d"
           }
          ],
          "parcoords": [
           {
            "line": {
             "colorbar": {
              "outlinewidth": 0,
              "ticks": ""
             }
            },
            "type": "parcoords"
           }
          ],
          "pie": [
           {
            "automargin": true,
            "type": "pie"
           }
          ],
          "scatter": [
           {
            "fillpattern": {
             "fillmode": "overlay",
             "size": 10,
             "solidity": 0.2
            },
            "type": "scatter"
           }
          ],
          "scatter3d": [
           {
            "line": {
             "colorbar": {
              "outlinewidth": 0,
              "ticks": ""
             }
            },
            "marker": {
             "colorbar": {
              "outlinewidth": 0,
              "ticks": ""
             }
            },
            "type": "scatter3d"
           }
          ],
          "scattercarpet": [
           {
            "marker": {
             "colorbar": {
              "outlinewidth": 0,
              "ticks": ""
             }
            },
            "type": "scattercarpet"
           }
          ],
          "scattergeo": [
           {
            "marker": {
             "colorbar": {
              "outlinewidth": 0,
              "ticks": ""
             }
            },
            "type": "scattergeo"
           }
          ],
          "scattergl": [
           {
            "marker": {
             "colorbar": {
              "outlinewidth": 0,
              "ticks": ""
             }
            },
            "type": "scattergl"
           }
          ],
          "scattermap": [
           {
            "marker": {
             "colorbar": {
              "outlinewidth": 0,
              "ticks": ""
             }
            },
            "type": "scattermap"
           }
          ],
          "scattermapbox": [
           {
            "marker": {
             "colorbar": {
              "outlinewidth": 0,
              "ticks": ""
             }
            },
            "type": "scattermapbox"
           }
          ],
          "scatterpolar": [
           {
            "marker": {
             "colorbar": {
              "outlinewidth": 0,
              "ticks": ""
             }
            },
            "type": "scatterpolar"
           }
          ],
          "scatterpolargl": [
           {
            "marker": {
             "colorbar": {
              "outlinewidth": 0,
              "ticks": ""
             }
            },
            "type": "scatterpolargl"
           }
          ],
          "scatterternary": [
           {
            "marker": {
             "colorbar": {
              "outlinewidth": 0,
              "ticks": ""
             }
            },
            "type": "scatterternary"
           }
          ],
          "surface": [
           {
            "colorbar": {
             "outlinewidth": 0,
             "ticks": ""
            },
            "colorscale": [
             [
              0,
              "#0d0887"
             ],
             [
              0.1111111111111111,
              "#46039f"
             ],
             [
              0.2222222222222222,
              "#7201a8"
             ],
             [
              0.3333333333333333,
              "#9c179e"
             ],
             [
              0.4444444444444444,
              "#bd3786"
             ],
             [
              0.5555555555555556,
              "#d8576b"
             ],
             [
              0.6666666666666666,
              "#ed7953"
             ],
             [
              0.7777777777777778,
              "#fb9f3a"
             ],
             [
              0.8888888888888888,
              "#fdca26"
             ],
             [
              1,
              "#f0f921"
             ]
            ],
            "type": "surface"
           }
          ],
          "table": [
           {
            "cells": {
             "fill": {
              "color": "#EBF0F8"
             },
             "line": {
              "color": "white"
             }
            },
            "header": {
             "fill": {
              "color": "#C8D4E3"
             },
             "line": {
              "color": "white"
             }
            },
            "type": "table"
           }
          ]
         },
         "layout": {
          "annotationdefaults": {
           "arrowcolor": "#2a3f5f",
           "arrowhead": 0,
           "arrowwidth": 1
          },
          "autotypenumbers": "strict",
          "coloraxis": {
           "colorbar": {
            "outlinewidth": 0,
            "ticks": ""
           }
          },
          "colorscale": {
           "diverging": [
            [
             0,
             "#8e0152"
            ],
            [
             0.1,
             "#c51b7d"
            ],
            [
             0.2,
             "#de77ae"
            ],
            [
             0.3,
             "#f1b6da"
            ],
            [
             0.4,
             "#fde0ef"
            ],
            [
             0.5,
             "#f7f7f7"
            ],
            [
             0.6,
             "#e6f5d0"
            ],
            [
             0.7,
             "#b8e186"
            ],
            [
             0.8,
             "#7fbc41"
            ],
            [
             0.9,
             "#4d9221"
            ],
            [
             1,
             "#276419"
            ]
           ],
           "sequential": [
            [
             0,
             "#0d0887"
            ],
            [
             0.1111111111111111,
             "#46039f"
            ],
            [
             0.2222222222222222,
             "#7201a8"
            ],
            [
             0.3333333333333333,
             "#9c179e"
            ],
            [
             0.4444444444444444,
             "#bd3786"
            ],
            [
             0.5555555555555556,
             "#d8576b"
            ],
            [
             0.6666666666666666,
             "#ed7953"
            ],
            [
             0.7777777777777778,
             "#fb9f3a"
            ],
            [
             0.8888888888888888,
             "#fdca26"
            ],
            [
             1,
             "#f0f921"
            ]
           ],
           "sequentialminus": [
            [
             0,
             "#0d0887"
            ],
            [
             0.1111111111111111,
             "#46039f"
            ],
            [
             0.2222222222222222,
             "#7201a8"
            ],
            [
             0.3333333333333333,
             "#9c179e"
            ],
            [
             0.4444444444444444,
             "#bd3786"
            ],
            [
             0.5555555555555556,
             "#d8576b"
            ],
            [
             0.6666666666666666,
             "#ed7953"
            ],
            [
             0.7777777777777778,
             "#fb9f3a"
            ],
            [
             0.8888888888888888,
             "#fdca26"
            ],
            [
             1,
             "#f0f921"
            ]
           ]
          },
          "colorway": [
           "#636efa",
           "#EF553B",
           "#00cc96",
           "#ab63fa",
           "#FFA15A",
           "#19d3f3",
           "#FF6692",
           "#B6E880",
           "#FF97FF",
           "#FECB52"
          ],
          "font": {
           "color": "#2a3f5f"
          },
          "geo": {
           "bgcolor": "white",
           "lakecolor": "white",
           "landcolor": "white",
           "showlakes": true,
           "showland": true,
           "subunitcolor": "#C8D4E3"
          },
          "hoverlabel": {
           "align": "left"
          },
          "hovermode": "closest",
          "mapbox": {
           "style": "light"
          },
          "paper_bgcolor": "white",
          "plot_bgcolor": "white",
          "polar": {
           "angularaxis": {
            "gridcolor": "#EBF0F8",
            "linecolor": "#EBF0F8",
            "ticks": ""
           },
           "bgcolor": "white",
           "radialaxis": {
            "gridcolor": "#EBF0F8",
            "linecolor": "#EBF0F8",
            "ticks": ""
           }
          },
          "scene": {
           "xaxis": {
            "backgroundcolor": "white",
            "gridcolor": "#DFE8F3",
            "gridwidth": 2,
            "linecolor": "#EBF0F8",
            "showbackground": true,
            "ticks": "",
            "zerolinecolor": "#EBF0F8"
           },
           "yaxis": {
            "backgroundcolor": "white",
            "gridcolor": "#DFE8F3",
            "gridwidth": 2,
            "linecolor": "#EBF0F8",
            "showbackground": true,
            "ticks": "",
            "zerolinecolor": "#EBF0F8"
           },
           "zaxis": {
            "backgroundcolor": "white",
            "gridcolor": "#DFE8F3",
            "gridwidth": 2,
            "linecolor": "#EBF0F8",
            "showbackground": true,
            "ticks": "",
            "zerolinecolor": "#EBF0F8"
           }
          },
          "shapedefaults": {
           "line": {
            "color": "#2a3f5f"
           }
          },
          "ternary": {
           "aaxis": {
            "gridcolor": "#DFE8F3",
            "linecolor": "#A2B1C6",
            "ticks": ""
           },
           "baxis": {
            "gridcolor": "#DFE8F3",
            "linecolor": "#A2B1C6",
            "ticks": ""
           },
           "bgcolor": "white",
           "caxis": {
            "gridcolor": "#DFE8F3",
            "linecolor": "#A2B1C6",
            "ticks": ""
           }
          },
          "title": {
           "x": 0.05
          },
          "xaxis": {
           "automargin": true,
           "gridcolor": "#EBF0F8",
           "linecolor": "#EBF0F8",
           "ticks": "",
           "title": {
            "standoff": 15
           },
           "zerolinecolor": "#EBF0F8",
           "zerolinewidth": 2
          },
          "yaxis": {
           "automargin": true,
           "gridcolor": "#EBF0F8",
           "linecolor": "#EBF0F8",
           "ticks": "",
           "title": {
            "standoff": 15
           },
           "zerolinecolor": "#EBF0F8",
           "zerolinewidth": 2
          }
         }
        },
        "title": {
         "text": "Average Global Year-to-Year Changes in Human Rights Scores"
        },
        "width": 950,
        "xaxis": {
         "anchor": "y",
         "domain": [
          0,
          1
         ],
         "dtick": 1,
         "title": {
          "text": "Year"
         }
        },
        "yaxis": {
         "anchor": "x",
         "domain": [
          0,
          1
         ],
         "tickformat": ".2f",
         "title": {
          "text": "Mean Yearly Change"
         }
        }
       }
      }
     },
     "metadata": {},
     "output_type": "display_data"
    }
   ],
   "source": [
    "# Load and clean data\n",
    "df1 = pd.read_csv('csv files/cpr.csv')\n",
    "df = df1[['country', 'year', 'physint_mean', 'empower_mean']].dropna()\n",
    "df = df.sort_values(['country', 'year'])\n",
    "\n",
    "# Calculate year-over-year changes\n",
    "df['physint_change'] = df.groupby('country')['physint_mean'].diff()\n",
    "df['empower_change'] = df.groupby('country')['empower_mean'].diff()\n",
    "df['total_change'] = df['physint_change'] + df['empower_change']\n",
    "\n",
    "# Drop first-year rows (no previous year to compare)\n",
    "df_change = df.dropna(subset=['total_change'])\n",
    "\n",
    "# Group by year and calculate average change across all countries\n",
    "yearly_avg = df_change.groupby('year')[['physint_change', 'empower_change', 'total_change']].mean().reset_index()\n",
    "\n",
    "# Reshape to long format for plotting\n",
    "long_avg = yearly_avg.melt(\n",
    "    id_vars='year',\n",
    "    value_vars=['physint_change', 'empower_change', 'total_change'],\n",
    "    var_name='Index',\n",
    "    value_name='Average Change'\n",
    ")\n",
    "\n",
    "# Rename for nicer labels\n",
    "long_avg['Index'] = long_avg['Index'].map({\n",
    "    'physint_change': 'Physical Integrity Change',\n",
    "    'empower_change': 'Empowerment Change',\n",
    "    'total_change': 'Total Combined Change'\n",
    "})\n",
    "\n",
    "# Create composite line chart\n",
    "fig = px.line(\n",
    "    long_avg,\n",
    "    x='year',\n",
    "    y='Average Change',\n",
    "    color='Index',\n",
    "    title='Average Global Year-to-Year Changes in Human Rights Scores',\n",
    "    markers=True,\n",
    "    labels={'year': 'Year', 'Average Change': 'Mean Yearly Change'},\n",
    "    color_discrete_map={\n",
    "        'Physical Integrity Change': 'blue',\n",
    "        'Empowerment Change': 'orange',\n",
    "        'Total Combined Change': 'green'\n",
    "    },\n",
    "    height=600,\n",
    "    width=950\n",
    ")\n",
    "\n",
    "fig.update_layout(\n",
    "    legend_title='Index Type',\n",
    "    xaxis=dict(dtick=1),\n",
    "    yaxis=dict(tickformat=\".2f\"),\n",
    "    template='plotly_white'\n",
    ")\n",
    "\n",
    "fig.show()\n"
   ]
  },
  {
   "cell_type": "code",
   "execution_count": null,
   "metadata": {},
   "outputs": [
    {
     "data": {
      "application/vnd.plotly.v1+json": {
       "config": {
        "plotlyServerURL": "https://plot.ly"
       },
       "data": [
        {
         "hovertemplate": "country=Angola<br>Year=%{x}<br>Human Rights Score=%{y}<extra></extra>",
         "legendgroup": "Angola",
         "line": {
          "color": "#636efa",
          "dash": "solid"
         },
         "marker": {
          "symbol": "circle"
         },
         "mode": "lines+markers",
         "name": "Angola",
         "orientation": "v",
         "showlegend": true,
         "type": "scatter",
         "x": {
          "bdata": "4QfiB+MH5AflB+YH5wc=",
          "dtype": "i2"
         },
         "xaxis": "x",
         "y": {
          "bdata": "XChPD8CMHEBEzrFyHmgjQBaSgl0DbSFADSKtjKGXGEC6FLJO8HgYQM4nPLID2BlAZ5sb0xMWJEA=",
          "dtype": "f8"
         },
         "yaxis": "y"
        },
        {
         "hovertemplate": "country=Brazil<br>Year=%{x}<br>Human Rights Score=%{y}<extra></extra>",
         "legendgroup": "Brazil",
         "line": {
          "color": "#EF553B",
          "dash": "solid"
         },
         "marker": {
          "symbol": "circle"
         },
         "mode": "lines+markers",
         "name": "Brazil",
         "orientation": "v",
         "showlegend": true,
         "type": "scatter",
         "x": {
          "bdata": "4QfiB+MH5AflB+YH5wc=",
          "dtype": "i2"
         },
         "xaxis": "x",
         "y": {
          "bdata": "O3MPCd+zIUAqaKTvf+0gQOOw6mKJtR5AFu8Re7KwIEA9BJ8wchAhQPIXaZiQkSBAtdMgFnvxJEA=",
          "dtype": "f8"
         },
         "yaxis": "y"
        },
        {
         "hovertemplate": "country=DRC<br>Year=%{x}<br>Human Rights Score=%{y}<extra></extra>",
         "legendgroup": "DRC",
         "line": {
          "color": "#00cc96",
          "dash": "solid"
         },
         "marker": {
          "symbol": "circle"
         },
         "mode": "lines+markers",
         "name": "DRC",
         "orientation": "v",
         "showlegend": true,
         "type": "scatter",
         "x": {
          "bdata": "4gfjB+QH5QfmB+cH",
          "dtype": "i2"
         },
         "xaxis": "x",
         "y": {
          "bdata": "3bJD/MN2F0Bg1Q+glV4jQBhTVQ1nsyNAMCk+PiFTI0DIsmDij24iQMyaWOArCh9A",
          "dtype": "f8"
         },
         "yaxis": "y"
        },
        {
         "hovertemplate": "country=Fiji<br>Year=%{x}<br>Human Rights Score=%{y}<extra></extra>",
         "legendgroup": "Fiji",
         "line": {
          "color": "#ab63fa",
          "dash": "solid"
         },
         "marker": {
          "symbol": "circle"
         },
         "mode": "lines+markers",
         "name": "Fiji",
         "orientation": "v",
         "showlegend": true,
         "type": "scatter",
         "x": {
          "bdata": "4QfiB+MH5AflB+YH",
          "dtype": "i2"
         },
         "xaxis": "x",
         "y": {
          "bdata": "JH8w8NxvI0CGtYwvNV0mQPbCrjd7CSdA6kzrgDUwJ0DK1kSwu8InQKVGja53CCdA",
          "dtype": "f8"
         },
         "yaxis": "y"
        },
        {
         "hovertemplate": "country=Jordan<br>Year=%{x}<br>Human Rights Score=%{y}<extra></extra>",
         "legendgroup": "Jordan",
         "line": {
          "color": "#FFA15A",
          "dash": "solid"
         },
         "marker": {
          "symbol": "circle"
         },
         "mode": "lines+markers",
         "name": "Jordan",
         "orientation": "v",
         "showlegend": true,
         "type": "scatter",
         "x": {
          "bdata": "4QfiB+MH5AflB+YH",
          "dtype": "i2"
         },
         "xaxis": "x",
         "y": {
          "bdata": "vK2ZIfreI0B9+hkoOlgkQHqnAu55fiNA7TZecLy1IkBCJ4QOupwlQLjwFw7fQShA",
          "dtype": "f8"
         },
         "yaxis": "y"
        },
        {
         "hovertemplate": "country=Kazakhstan<br>Year=%{x}<br>Human Rights Score=%{y}<extra></extra>",
         "legendgroup": "Kazakhstan",
         "line": {
          "color": "#19d3f3",
          "dash": "solid"
         },
         "marker": {
          "symbol": "circle"
         },
         "mode": "lines+markers",
         "name": "Kazakhstan",
         "orientation": "v",
         "showlegend": true,
         "type": "scatter",
         "x": {
          "bdata": "4QfiB+MH5AflB+YH5wc=",
          "dtype": "i2"
         },
         "xaxis": "x",
         "y": {
          "bdata": "YOzWlUNpHEBP6WD9n+8gQGQdjq7SHR9A6vBrf8LUIEDtUtlmGcQhQODGwQAdYR9AYn1NIDbOI0A=",
          "dtype": "f8"
         },
         "yaxis": "y"
        },
        {
         "hovertemplate": "country=Mexico<br>Year=%{x}<br>Human Rights Score=%{y}<extra></extra>",
         "legendgroup": "Mexico",
         "line": {
          "color": "#FF6692",
          "dash": "solid"
         },
         "marker": {
          "symbol": "circle"
         },
         "mode": "lines+markers",
         "name": "Mexico",
         "orientation": "v",
         "showlegend": true,
         "type": "scatter",
         "x": {
          "bdata": "4QfiB+MH5AflB+YH5wc=",
          "dtype": "i2"
         },
         "xaxis": "x",
         "y": {
          "bdata": "kM2fgDfOF0BgYLHhRJcbQHxHjQkxEyBApqJnaV0xIUCLk1bX/FMhQLqp3J/meyFAdpmrMMeAIUA=",
          "dtype": "f8"
         },
         "yaxis": "y"
        },
        {
         "hovertemplate": "country=Saudi Arabia<br>Year=%{x}<br>Human Rights Score=%{y}<extra></extra>",
         "legendgroup": "Saudi Arabia",
         "line": {
          "color": "#B6E880",
          "dash": "solid"
         },
         "marker": {
          "symbol": "circle"
         },
         "mode": "lines+markers",
         "name": "Saudi Arabia",
         "orientation": "v",
         "showlegend": true,
         "type": "scatter",
         "x": {
          "bdata": "4QfiB+MH5AflB+YH5wc=",
          "dtype": "i2"
         },
         "xaxis": "x",
         "y": {
          "bdata": "yrIWVXXlDkDEwyBVuUUOQCQcaV8vQw5AiterfluWEEAxWuyboOoTQDO2IRD5KBZAumkzTkM8FkA=",
          "dtype": "f8"
         },
         "yaxis": "y"
        },
        {
         "hovertemplate": "country=Solomon Islands<br>Year=%{x}<br>Human Rights Score=%{y}<extra></extra>",
         "legendgroup": "Solomon Islands",
         "line": {
          "color": "#FF97FF",
          "dash": "solid"
         },
         "marker": {
          "symbol": "circle"
         },
         "mode": "lines+markers",
         "name": "Solomon Islands",
         "orientation": "v",
         "showlegend": true,
         "type": "scatter",
         "x": {
          "bdata": "5AflBw==",
          "dtype": "i2"
         },
         "xaxis": "x",
         "y": {
          "bdata": "qFKzB1pRJECz95j+2wcqQA==",
          "dtype": "f8"
         },
         "yaxis": "y"
        },
        {
         "hovertemplate": "country=Thailand<br>Year=%{x}<br>Human Rights Score=%{y}<extra></extra>",
         "legendgroup": "Thailand",
         "line": {
          "color": "#FECB52",
          "dash": "solid"
         },
         "marker": {
          "symbol": "circle"
         },
         "mode": "lines+markers",
         "name": "Thailand",
         "orientation": "v",
         "showlegend": true,
         "type": "scatter",
         "x": {
          "bdata": "5QfmB+cH",
          "dtype": "i2"
         },
         "xaxis": "x",
         "y": {
          "bdata": "ZQv3gC8rIkBJrqx+tssjQAcjm1AtIydA",
          "dtype": "f8"
         },
         "yaxis": "y"
        }
       ],
       "layout": {
        "height": 500,
        "legend": {
         "title": {
          "text": "country"
         },
         "tracegroupgap": 0
        },
        "template": {
         "data": {
          "bar": [
           {
            "error_x": {
             "color": "#2a3f5f"
            },
            "error_y": {
             "color": "#2a3f5f"
            },
            "marker": {
             "line": {
              "color": "#E5ECF6",
              "width": 0.5
             },
             "pattern": {
              "fillmode": "overlay",
              "size": 10,
              "solidity": 0.2
             }
            },
            "type": "bar"
           }
          ],
          "barpolar": [
           {
            "marker": {
             "line": {
              "color": "#E5ECF6",
              "width": 0.5
             },
             "pattern": {
              "fillmode": "overlay",
              "size": 10,
              "solidity": 0.2
             }
            },
            "type": "barpolar"
           }
          ],
          "carpet": [
           {
            "aaxis": {
             "endlinecolor": "#2a3f5f",
             "gridcolor": "white",
             "linecolor": "white",
             "minorgridcolor": "white",
             "startlinecolor": "#2a3f5f"
            },
            "baxis": {
             "endlinecolor": "#2a3f5f",
             "gridcolor": "white",
             "linecolor": "white",
             "minorgridcolor": "white",
             "startlinecolor": "#2a3f5f"
            },
            "type": "carpet"
           }
          ],
          "choropleth": [
           {
            "colorbar": {
             "outlinewidth": 0,
             "ticks": ""
            },
            "type": "choropleth"
           }
          ],
          "contour": [
           {
            "colorbar": {
             "outlinewidth": 0,
             "ticks": ""
            },
            "colorscale": [
             [
              0,
              "#0d0887"
             ],
             [
              0.1111111111111111,
              "#46039f"
             ],
             [
              0.2222222222222222,
              "#7201a8"
             ],
             [
              0.3333333333333333,
              "#9c179e"
             ],
             [
              0.4444444444444444,
              "#bd3786"
             ],
             [
              0.5555555555555556,
              "#d8576b"
             ],
             [
              0.6666666666666666,
              "#ed7953"
             ],
             [
              0.7777777777777778,
              "#fb9f3a"
             ],
             [
              0.8888888888888888,
              "#fdca26"
             ],
             [
              1,
              "#f0f921"
             ]
            ],
            "type": "contour"
           }
          ],
          "contourcarpet": [
           {
            "colorbar": {
             "outlinewidth": 0,
             "ticks": ""
            },
            "type": "contourcarpet"
           }
          ],
          "heatmap": [
           {
            "colorbar": {
             "outlinewidth": 0,
             "ticks": ""
            },
            "colorscale": [
             [
              0,
              "#0d0887"
             ],
             [
              0.1111111111111111,
              "#46039f"
             ],
             [
              0.2222222222222222,
              "#7201a8"
             ],
             [
              0.3333333333333333,
              "#9c179e"
             ],
             [
              0.4444444444444444,
              "#bd3786"
             ],
             [
              0.5555555555555556,
              "#d8576b"
             ],
             [
              0.6666666666666666,
              "#ed7953"
             ],
             [
              0.7777777777777778,
              "#fb9f3a"
             ],
             [
              0.8888888888888888,
              "#fdca26"
             ],
             [
              1,
              "#f0f921"
             ]
            ],
            "type": "heatmap"
           }
          ],
          "histogram": [
           {
            "marker": {
             "pattern": {
              "fillmode": "overlay",
              "size": 10,
              "solidity": 0.2
             }
            },
            "type": "histogram"
           }
          ],
          "histogram2d": [
           {
            "colorbar": {
             "outlinewidth": 0,
             "ticks": ""
            },
            "colorscale": [
             [
              0,
              "#0d0887"
             ],
             [
              0.1111111111111111,
              "#46039f"
             ],
             [
              0.2222222222222222,
              "#7201a8"
             ],
             [
              0.3333333333333333,
              "#9c179e"
             ],
             [
              0.4444444444444444,
              "#bd3786"
             ],
             [
              0.5555555555555556,
              "#d8576b"
             ],
             [
              0.6666666666666666,
              "#ed7953"
             ],
             [
              0.7777777777777778,
              "#fb9f3a"
             ],
             [
              0.8888888888888888,
              "#fdca26"
             ],
             [
              1,
              "#f0f921"
             ]
            ],
            "type": "histogram2d"
           }
          ],
          "histogram2dcontour": [
           {
            "colorbar": {
             "outlinewidth": 0,
             "ticks": ""
            },
            "colorscale": [
             [
              0,
              "#0d0887"
             ],
             [
              0.1111111111111111,
              "#46039f"
             ],
             [
              0.2222222222222222,
              "#7201a8"
             ],
             [
              0.3333333333333333,
              "#9c179e"
             ],
             [
              0.4444444444444444,
              "#bd3786"
             ],
             [
              0.5555555555555556,
              "#d8576b"
             ],
             [
              0.6666666666666666,
              "#ed7953"
             ],
             [
              0.7777777777777778,
              "#fb9f3a"
             ],
             [
              0.8888888888888888,
              "#fdca26"
             ],
             [
              1,
              "#f0f921"
             ]
            ],
            "type": "histogram2dcontour"
           }
          ],
          "mesh3d": [
           {
            "colorbar": {
             "outlinewidth": 0,
             "ticks": ""
            },
            "type": "mesh3d"
           }
          ],
          "parcoords": [
           {
            "line": {
             "colorbar": {
              "outlinewidth": 0,
              "ticks": ""
             }
            },
            "type": "parcoords"
           }
          ],
          "pie": [
           {
            "automargin": true,
            "type": "pie"
           }
          ],
          "scatter": [
           {
            "fillpattern": {
             "fillmode": "overlay",
             "size": 10,
             "solidity": 0.2
            },
            "type": "scatter"
           }
          ],
          "scatter3d": [
           {
            "line": {
             "colorbar": {
              "outlinewidth": 0,
              "ticks": ""
             }
            },
            "marker": {
             "colorbar": {
              "outlinewidth": 0,
              "ticks": ""
             }
            },
            "type": "scatter3d"
           }
          ],
          "scattercarpet": [
           {
            "marker": {
             "colorbar": {
              "outlinewidth": 0,
              "ticks": ""
             }
            },
            "type": "scattercarpet"
           }
          ],
          "scattergeo": [
           {
            "marker": {
             "colorbar": {
              "outlinewidth": 0,
              "ticks": ""
             }
            },
            "type": "scattergeo"
           }
          ],
          "scattergl": [
           {
            "marker": {
             "colorbar": {
              "outlinewidth": 0,
              "ticks": ""
             }
            },
            "type": "scattergl"
           }
          ],
          "scattermap": [
           {
            "marker": {
             "colorbar": {
              "outlinewidth": 0,
              "ticks": ""
             }
            },
            "type": "scattermap"
           }
          ],
          "scattermapbox": [
           {
            "marker": {
             "colorbar": {
              "outlinewidth": 0,
              "ticks": ""
             }
            },
            "type": "scattermapbox"
           }
          ],
          "scatterpolar": [
           {
            "marker": {
             "colorbar": {
              "outlinewidth": 0,
              "ticks": ""
             }
            },
            "type": "scatterpolar"
           }
          ],
          "scatterpolargl": [
           {
            "marker": {
             "colorbar": {
              "outlinewidth": 0,
              "ticks": ""
             }
            },
            "type": "scatterpolargl"
           }
          ],
          "scatterternary": [
           {
            "marker": {
             "colorbar": {
              "outlinewidth": 0,
              "ticks": ""
             }
            },
            "type": "scatterternary"
           }
          ],
          "surface": [
           {
            "colorbar": {
             "outlinewidth": 0,
             "ticks": ""
            },
            "colorscale": [
             [
              0,
              "#0d0887"
             ],
             [
              0.1111111111111111,
              "#46039f"
             ],
             [
              0.2222222222222222,
              "#7201a8"
             ],
             [
              0.3333333333333333,
              "#9c179e"
             ],
             [
              0.4444444444444444,
              "#bd3786"
             ],
             [
              0.5555555555555556,
              "#d8576b"
             ],
             [
              0.6666666666666666,
              "#ed7953"
             ],
             [
              0.7777777777777778,
              "#fb9f3a"
             ],
             [
              0.8888888888888888,
              "#fdca26"
             ],
             [
              1,
              "#f0f921"
             ]
            ],
            "type": "surface"
           }
          ],
          "table": [
           {
            "cells": {
             "fill": {
              "color": "#EBF0F8"
             },
             "line": {
              "color": "white"
             }
            },
            "header": {
             "fill": {
              "color": "#C8D4E3"
             },
             "line": {
              "color": "white"
             }
            },
            "type": "table"
           }
          ]
         },
         "layout": {
          "annotationdefaults": {
           "arrowcolor": "#2a3f5f",
           "arrowhead": 0,
           "arrowwidth": 1
          },
          "autotypenumbers": "strict",
          "coloraxis": {
           "colorbar": {
            "outlinewidth": 0,
            "ticks": ""
           }
          },
          "colorscale": {
           "diverging": [
            [
             0,
             "#8e0152"
            ],
            [
             0.1,
             "#c51b7d"
            ],
            [
             0.2,
             "#de77ae"
            ],
            [
             0.3,
             "#f1b6da"
            ],
            [
             0.4,
             "#fde0ef"
            ],
            [
             0.5,
             "#f7f7f7"
            ],
            [
             0.6,
             "#e6f5d0"
            ],
            [
             0.7,
             "#b8e186"
            ],
            [
             0.8,
             "#7fbc41"
            ],
            [
             0.9,
             "#4d9221"
            ],
            [
             1,
             "#276419"
            ]
           ],
           "sequential": [
            [
             0,
             "#0d0887"
            ],
            [
             0.1111111111111111,
             "#46039f"
            ],
            [
             0.2222222222222222,
             "#7201a8"
            ],
            [
             0.3333333333333333,
             "#9c179e"
            ],
            [
             0.4444444444444444,
             "#bd3786"
            ],
            [
             0.5555555555555556,
             "#d8576b"
            ],
            [
             0.6666666666666666,
             "#ed7953"
            ],
            [
             0.7777777777777778,
             "#fb9f3a"
            ],
            [
             0.8888888888888888,
             "#fdca26"
            ],
            [
             1,
             "#f0f921"
            ]
           ],
           "sequentialminus": [
            [
             0,
             "#0d0887"
            ],
            [
             0.1111111111111111,
             "#46039f"
            ],
            [
             0.2222222222222222,
             "#7201a8"
            ],
            [
             0.3333333333333333,
             "#9c179e"
            ],
            [
             0.4444444444444444,
             "#bd3786"
            ],
            [
             0.5555555555555556,
             "#d8576b"
            ],
            [
             0.6666666666666666,
             "#ed7953"
            ],
            [
             0.7777777777777778,
             "#fb9f3a"
            ],
            [
             0.8888888888888888,
             "#fdca26"
            ],
            [
             1,
             "#f0f921"
            ]
           ]
          },
          "colorway": [
           "#636efa",
           "#EF553B",
           "#00cc96",
           "#ab63fa",
           "#FFA15A",
           "#19d3f3",
           "#FF6692",
           "#B6E880",
           "#FF97FF",
           "#FECB52"
          ],
          "font": {
           "color": "#2a3f5f"
          },
          "geo": {
           "bgcolor": "white",
           "lakecolor": "white",
           "landcolor": "#E5ECF6",
           "showlakes": true,
           "showland": true,
           "subunitcolor": "white"
          },
          "hoverlabel": {
           "align": "left"
          },
          "hovermode": "closest",
          "mapbox": {
           "style": "light"
          },
          "paper_bgcolor": "white",
          "plot_bgcolor": "#E5ECF6",
          "polar": {
           "angularaxis": {
            "gridcolor": "white",
            "linecolor": "white",
            "ticks": ""
           },
           "bgcolor": "#E5ECF6",
           "radialaxis": {
            "gridcolor": "white",
            "linecolor": "white",
            "ticks": ""
           }
          },
          "scene": {
           "xaxis": {
            "backgroundcolor": "#E5ECF6",
            "gridcolor": "white",
            "gridwidth": 2,
            "linecolor": "white",
            "showbackground": true,
            "ticks": "",
            "zerolinecolor": "white"
           },
           "yaxis": {
            "backgroundcolor": "#E5ECF6",
            "gridcolor": "white",
            "gridwidth": 2,
            "linecolor": "white",
            "showbackground": true,
            "ticks": "",
            "zerolinecolor": "white"
           },
           "zaxis": {
            "backgroundcolor": "#E5ECF6",
            "gridcolor": "white",
            "gridwidth": 2,
            "linecolor": "white",
            "showbackground": true,
            "ticks": "",
            "zerolinecolor": "white"
           }
          },
          "shapedefaults": {
           "line": {
            "color": "#2a3f5f"
           }
          },
          "ternary": {
           "aaxis": {
            "gridcolor": "white",
            "linecolor": "white",
            "ticks": ""
           },
           "baxis": {
            "gridcolor": "white",
            "linecolor": "white",
            "ticks": ""
           },
           "bgcolor": "#E5ECF6",
           "caxis": {
            "gridcolor": "white",
            "linecolor": "white",
            "ticks": ""
           }
          },
          "title": {
           "x": 0.05
          },
          "xaxis": {
           "automargin": true,
           "gridcolor": "white",
           "linecolor": "white",
           "ticks": "",
           "title": {
            "standoff": 15
           },
           "zerolinecolor": "white",
           "zerolinewidth": 2
          },
          "yaxis": {
           "automargin": true,
           "gridcolor": "white",
           "linecolor": "white",
           "ticks": "",
           "title": {
            "standoff": 15
           },
           "zerolinecolor": "white",
           "zerolinewidth": 2
          }
         }
        },
        "title": {
         "text": "Top 10 Most Improved Countries (Full Period)"
        },
        "width": 950,
        "xaxis": {
         "anchor": "y",
         "domain": [
          0,
          1
         ],
         "title": {
          "text": "Year"
         }
        },
        "yaxis": {
         "anchor": "x",
         "domain": [
          0,
          1
         ],
         "title": {
          "text": "Human Rights Score"
         }
        }
       }
      }
     },
     "metadata": {},
     "output_type": "display_data"
    },
    {
     "data": {
      "application/vnd.plotly.v1+json": {
       "config": {
        "plotlyServerURL": "https://plot.ly"
       },
       "data": [
        {
         "hovertemplate": "country=Guam<br>Year=%{x}<br>Human Rights Score=%{y}<extra></extra>",
         "legendgroup": "Guam",
         "line": {
          "color": "#636efa",
          "dash": "solid"
         },
         "marker": {
          "symbol": "circle"
         },
         "mode": "lines+markers",
         "name": "Guam",
         "orientation": "v",
         "showlegend": true,
         "type": "scatter",
         "x": {
          "bdata": "4gfjB+QH",
          "dtype": "i2"
         },
         "xaxis": "x",
         "y": {
          "bdata": "VKrpH+nML0AyvKMQEoMvQE0Ttp+MtSxA",
          "dtype": "f8"
         },
         "yaxis": "y"
        },
        {
         "hovertemplate": "country=Hong Kong<br>Year=%{x}<br>Human Rights Score=%{y}<extra></extra>",
         "legendgroup": "Hong Kong",
         "line": {
          "color": "#EF553B",
          "dash": "solid"
         },
         "marker": {
          "symbol": "circle"
         },
         "mode": "lines+markers",
         "name": "Hong Kong",
         "orientation": "v",
         "showlegend": true,
         "type": "scatter",
         "x": {
          "bdata": "4wfkB+UH5gfnBw==",
          "dtype": "i2"
         },
         "xaxis": "x",
         "y": {
          "bdata": "mnSlrzEJJUBAlYkReIYiQL/bFyvF6SFAcDWh/9QOIkD203/W/OQgQA==",
          "dtype": "f8"
         },
         "yaxis": "y"
        },
        {
         "hovertemplate": "country=India<br>Year=%{x}<br>Human Rights Score=%{y}<extra></extra>",
         "legendgroup": "India",
         "line": {
          "color": "#00cc96",
          "dash": "solid"
         },
         "marker": {
          "symbol": "circle"
         },
         "mode": "lines+markers",
         "name": "India",
         "orientation": "v",
         "showlegend": true,
         "type": "scatter",
         "x": {
          "bdata": "5AflB+YH5wc=",
          "dtype": "i2"
         },
         "xaxis": "x",
         "y": {
          "bdata": "3yjDAqmeH0CXdf9YiGYhQNySZj3GNh5ALt9EPvn9G0A=",
          "dtype": "f8"
         },
         "yaxis": "y"
        },
        {
         "hovertemplate": "country=Kyrgyzstan<br>Year=%{x}<br>Human Rights Score=%{y}<extra></extra>",
         "legendgroup": "Kyrgyzstan",
         "line": {
          "color": "#ab63fa",
          "dash": "solid"
         },
         "marker": {
          "symbol": "circle"
         },
         "mode": "lines+markers",
         "name": "Kyrgyzstan",
         "orientation": "v",
         "showlegend": true,
         "type": "scatter",
         "x": {
          "bdata": "4QfiB+MH5AflB+YH5wc=",
          "dtype": "i2"
         },
         "xaxis": "x",
         "y": {
          "bdata": "Z95gXjaIJ0Dm0lM/ym8pQCyPf7CdSShASYEFMGXsJkC7p2Gu+2UnQE+Q2O4evCRAF2U2yCSrIUA=",
          "dtype": "f8"
         },
         "yaxis": "y"
        },
        {
         "hovertemplate": "country=Liberia<br>Year=%{x}<br>Human Rights Score=%{y}<extra></extra>",
         "legendgroup": "Liberia",
         "line": {
          "color": "#FFA15A",
          "dash": "solid"
         },
         "marker": {
          "symbol": "circle"
         },
         "mode": "lines+markers",
         "name": "Liberia",
         "orientation": "v",
         "showlegend": true,
         "type": "scatter",
         "x": {
          "bdata": "4QfiB+MH5AflB+YH5wc=",
          "dtype": "i2"
         },
         "xaxis": "x",
         "y": {
          "bdata": "O5rZnaQHLkAQvBBhsisqQFumcE42tyNA4e6s3XZlI0D4OqkvS1cmQAoRFU/i5CdAcky7Pa1TKkA=",
          "dtype": "f8"
         },
         "yaxis": "y"
        },
        {
         "hovertemplate": "country=Malaysia<br>Year=%{x}<br>Human Rights Score=%{y}<extra></extra>",
         "legendgroup": "Malaysia",
         "line": {
          "color": "#19d3f3",
          "dash": "solid"
         },
         "marker": {
          "symbol": "circle"
         },
         "mode": "lines+markers",
         "name": "Malaysia",
         "orientation": "v",
         "showlegend": true,
         "type": "scatter",
         "x": {
          "bdata": "4wfkB+UH5gfnBw==",
          "dtype": "i2"
         },
         "xaxis": "x",
         "y": {
          "bdata": "xfsWQnNqKEASa/EpABolQL/kkB7QAyZA0VlmEYpRJkAWgyywbCslQA==",
          "dtype": "f8"
         },
         "yaxis": "y"
        },
        {
         "hovertemplate": "country=Maldives<br>Year=%{x}<br>Human Rights Score=%{y}<extra></extra>",
         "legendgroup": "Maldives",
         "line": {
          "color": "#FF6692",
          "dash": "solid"
         },
         "marker": {
          "symbol": "circle"
         },
         "mode": "lines+markers",
         "name": "Maldives",
         "orientation": "v",
         "showlegend": true,
         "type": "scatter",
         "x": {
          "bdata": "5QfmB+cH",
          "dtype": "i2"
         },
         "xaxis": "x",
         "y": {
          "bdata": "e7SC8LLoJ0BU+q6tRFknQAghIF9C5SVA",
          "dtype": "f8"
         },
         "yaxis": "y"
        },
        {
         "hovertemplate": "country=New Zealand<br>Year=%{x}<br>Human Rights Score=%{y}<extra></extra>",
         "legendgroup": "New Zealand",
         "line": {
          "color": "#B6E880",
          "dash": "solid"
         },
         "marker": {
          "symbol": "circle"
         },
         "mode": "lines+markers",
         "name": "New Zealand",
         "orientation": "v",
         "showlegend": true,
         "type": "scatter",
         "x": {
          "bdata": "4QfiB+MH5AflB+YH5wc=",
          "dtype": "i2"
         },
         "xaxis": "x",
         "y": {
          "bdata": "+GrstxsFMEDQaXEh6vkuQNrdTQF6Qy9AmujzUUbYLkDA644g8F8tQLByaJHtHC5AwBdw4B98LkA=",
          "dtype": "f8"
         },
         "yaxis": "y"
        },
        {
         "hovertemplate": "country=South Korea<br>Year=%{x}<br>Human Rights Score=%{y}<extra></extra>",
         "legendgroup": "South Korea",
         "line": {
          "color": "#FF97FF",
          "dash": "solid"
         },
         "marker": {
          "symbol": "circle"
         },
         "mode": "lines+markers",
         "name": "South Korea",
         "orientation": "v",
         "showlegend": true,
         "type": "scatter",
         "x": {
          "bdata": "4QfiB+MH5AflB+YH5wc=",
          "dtype": "i2"
         },
         "xaxis": "x",
         "y": {
          "bdata": "wq7cwT7MLEBszJDP0AguQE2BzM6ijy5AMgkX8ghyLUB6SnPQyv4uQAq8k0+PmS5AIZwFkJBDK0A=",
          "dtype": "f8"
         },
         "yaxis": "y"
        },
        {
         "hovertemplate": "country=United Kingdom<br>Year=%{x}<br>Human Rights Score=%{y}<extra></extra>",
         "legendgroup": "United Kingdom",
         "line": {
          "color": "#FECB52",
          "dash": "solid"
         },
         "marker": {
          "symbol": "circle"
         },
         "mode": "lines+markers",
         "name": "United Kingdom",
         "orientation": "v",
         "showlegend": true,
         "type": "scatter",
         "x": {
          "bdata": "4QfiB+MH5AflB+YH5wc=",
          "dtype": "i2"
         },
         "xaxis": "x",
         "y": {
          "bdata": "xhv0AHEiLUBydEthlFYsQBJEgk6tvytA/H4gL1raKkDWgFL+/4EpQLb4FADjlSlADOavkLkmKUA=",
          "dtype": "f8"
         },
         "yaxis": "y"
        }
       ],
       "layout": {
        "height": 500,
        "legend": {
         "title": {
          "text": "country"
         },
         "tracegroupgap": 0
        },
        "template": {
         "data": {
          "bar": [
           {
            "error_x": {
             "color": "#2a3f5f"
            },
            "error_y": {
             "color": "#2a3f5f"
            },
            "marker": {
             "line": {
              "color": "#E5ECF6",
              "width": 0.5
             },
             "pattern": {
              "fillmode": "overlay",
              "size": 10,
              "solidity": 0.2
             }
            },
            "type": "bar"
           }
          ],
          "barpolar": [
           {
            "marker": {
             "line": {
              "color": "#E5ECF6",
              "width": 0.5
             },
             "pattern": {
              "fillmode": "overlay",
              "size": 10,
              "solidity": 0.2
             }
            },
            "type": "barpolar"
           }
          ],
          "carpet": [
           {
            "aaxis": {
             "endlinecolor": "#2a3f5f",
             "gridcolor": "white",
             "linecolor": "white",
             "minorgridcolor": "white",
             "startlinecolor": "#2a3f5f"
            },
            "baxis": {
             "endlinecolor": "#2a3f5f",
             "gridcolor": "white",
             "linecolor": "white",
             "minorgridcolor": "white",
             "startlinecolor": "#2a3f5f"
            },
            "type": "carpet"
           }
          ],
          "choropleth": [
           {
            "colorbar": {
             "outlinewidth": 0,
             "ticks": ""
            },
            "type": "choropleth"
           }
          ],
          "contour": [
           {
            "colorbar": {
             "outlinewidth": 0,
             "ticks": ""
            },
            "colorscale": [
             [
              0,
              "#0d0887"
             ],
             [
              0.1111111111111111,
              "#46039f"
             ],
             [
              0.2222222222222222,
              "#7201a8"
             ],
             [
              0.3333333333333333,
              "#9c179e"
             ],
             [
              0.4444444444444444,
              "#bd3786"
             ],
             [
              0.5555555555555556,
              "#d8576b"
             ],
             [
              0.6666666666666666,
              "#ed7953"
             ],
             [
              0.7777777777777778,
              "#fb9f3a"
             ],
             [
              0.8888888888888888,
              "#fdca26"
             ],
             [
              1,
              "#f0f921"
             ]
            ],
            "type": "contour"
           }
          ],
          "contourcarpet": [
           {
            "colorbar": {
             "outlinewidth": 0,
             "ticks": ""
            },
            "type": "contourcarpet"
           }
          ],
          "heatmap": [
           {
            "colorbar": {
             "outlinewidth": 0,
             "ticks": ""
            },
            "colorscale": [
             [
              0,
              "#0d0887"
             ],
             [
              0.1111111111111111,
              "#46039f"
             ],
             [
              0.2222222222222222,
              "#7201a8"
             ],
             [
              0.3333333333333333,
              "#9c179e"
             ],
             [
              0.4444444444444444,
              "#bd3786"
             ],
             [
              0.5555555555555556,
              "#d8576b"
             ],
             [
              0.6666666666666666,
              "#ed7953"
             ],
             [
              0.7777777777777778,
              "#fb9f3a"
             ],
             [
              0.8888888888888888,
              "#fdca26"
             ],
             [
              1,
              "#f0f921"
             ]
            ],
            "type": "heatmap"
           }
          ],
          "histogram": [
           {
            "marker": {
             "pattern": {
              "fillmode": "overlay",
              "size": 10,
              "solidity": 0.2
             }
            },
            "type": "histogram"
           }
          ],
          "histogram2d": [
           {
            "colorbar": {
             "outlinewidth": 0,
             "ticks": ""
            },
            "colorscale": [
             [
              0,
              "#0d0887"
             ],
             [
              0.1111111111111111,
              "#46039f"
             ],
             [
              0.2222222222222222,
              "#7201a8"
             ],
             [
              0.3333333333333333,
              "#9c179e"
             ],
             [
              0.4444444444444444,
              "#bd3786"
             ],
             [
              0.5555555555555556,
              "#d8576b"
             ],
             [
              0.6666666666666666,
              "#ed7953"
             ],
             [
              0.7777777777777778,
              "#fb9f3a"
             ],
             [
              0.8888888888888888,
              "#fdca26"
             ],
             [
              1,
              "#f0f921"
             ]
            ],
            "type": "histogram2d"
           }
          ],
          "histogram2dcontour": [
           {
            "colorbar": {
             "outlinewidth": 0,
             "ticks": ""
            },
            "colorscale": [
             [
              0,
              "#0d0887"
             ],
             [
              0.1111111111111111,
              "#46039f"
             ],
             [
              0.2222222222222222,
              "#7201a8"
             ],
             [
              0.3333333333333333,
              "#9c179e"
             ],
             [
              0.4444444444444444,
              "#bd3786"
             ],
             [
              0.5555555555555556,
              "#d8576b"
             ],
             [
              0.6666666666666666,
              "#ed7953"
             ],
             [
              0.7777777777777778,
              "#fb9f3a"
             ],
             [
              0.8888888888888888,
              "#fdca26"
             ],
             [
              1,
              "#f0f921"
             ]
            ],
            "type": "histogram2dcontour"
           }
          ],
          "mesh3d": [
           {
            "colorbar": {
             "outlinewidth": 0,
             "ticks": ""
            },
            "type": "mesh3d"
           }
          ],
          "parcoords": [
           {
            "line": {
             "colorbar": {
              "outlinewidth": 0,
              "ticks": ""
             }
            },
            "type": "parcoords"
           }
          ],
          "pie": [
           {
            "automargin": true,
            "type": "pie"
           }
          ],
          "scatter": [
           {
            "fillpattern": {
             "fillmode": "overlay",
             "size": 10,
             "solidity": 0.2
            },
            "type": "scatter"
           }
          ],
          "scatter3d": [
           {
            "line": {
             "colorbar": {
              "outlinewidth": 0,
              "ticks": ""
             }
            },
            "marker": {
             "colorbar": {
              "outlinewidth": 0,
              "ticks": ""
             }
            },
            "type": "scatter3d"
           }
          ],
          "scattercarpet": [
           {
            "marker": {
             "colorbar": {
              "outlinewidth": 0,
              "ticks": ""
             }
            },
            "type": "scattercarpet"
           }
          ],
          "scattergeo": [
           {
            "marker": {
             "colorbar": {
              "outlinewidth": 0,
              "ticks": ""
             }
            },
            "type": "scattergeo"
           }
          ],
          "scattergl": [
           {
            "marker": {
             "colorbar": {
              "outlinewidth": 0,
              "ticks": ""
             }
            },
            "type": "scattergl"
           }
          ],
          "scattermap": [
           {
            "marker": {
             "colorbar": {
              "outlinewidth": 0,
              "ticks": ""
             }
            },
            "type": "scattermap"
           }
          ],
          "scattermapbox": [
           {
            "marker": {
             "colorbar": {
              "outlinewidth": 0,
              "ticks": ""
             }
            },
            "type": "scattermapbox"
           }
          ],
          "scatterpolar": [
           {
            "marker": {
             "colorbar": {
              "outlinewidth": 0,
              "ticks": ""
             }
            },
            "type": "scatterpolar"
           }
          ],
          "scatterpolargl": [
           {
            "marker": {
             "colorbar": {
              "outlinewidth": 0,
              "ticks": ""
             }
            },
            "type": "scatterpolargl"
           }
          ],
          "scatterternary": [
           {
            "marker": {
             "colorbar": {
              "outlinewidth": 0,
              "ticks": ""
             }
            },
            "type": "scatterternary"
           }
          ],
          "surface": [
           {
            "colorbar": {
             "outlinewidth": 0,
             "ticks": ""
            },
            "colorscale": [
             [
              0,
              "#0d0887"
             ],
             [
              0.1111111111111111,
              "#46039f"
             ],
             [
              0.2222222222222222,
              "#7201a8"
             ],
             [
              0.3333333333333333,
              "#9c179e"
             ],
             [
              0.4444444444444444,
              "#bd3786"
             ],
             [
              0.5555555555555556,
              "#d8576b"
             ],
             [
              0.6666666666666666,
              "#ed7953"
             ],
             [
              0.7777777777777778,
              "#fb9f3a"
             ],
             [
              0.8888888888888888,
              "#fdca26"
             ],
             [
              1,
              "#f0f921"
             ]
            ],
            "type": "surface"
           }
          ],
          "table": [
           {
            "cells": {
             "fill": {
              "color": "#EBF0F8"
             },
             "line": {
              "color": "white"
             }
            },
            "header": {
             "fill": {
              "color": "#C8D4E3"
             },
             "line": {
              "color": "white"
             }
            },
            "type": "table"
           }
          ]
         },
         "layout": {
          "annotationdefaults": {
           "arrowcolor": "#2a3f5f",
           "arrowhead": 0,
           "arrowwidth": 1
          },
          "autotypenumbers": "strict",
          "coloraxis": {
           "colorbar": {
            "outlinewidth": 0,
            "ticks": ""
           }
          },
          "colorscale": {
           "diverging": [
            [
             0,
             "#8e0152"
            ],
            [
             0.1,
             "#c51b7d"
            ],
            [
             0.2,
             "#de77ae"
            ],
            [
             0.3,
             "#f1b6da"
            ],
            [
             0.4,
             "#fde0ef"
            ],
            [
             0.5,
             "#f7f7f7"
            ],
            [
             0.6,
             "#e6f5d0"
            ],
            [
             0.7,
             "#b8e186"
            ],
            [
             0.8,
             "#7fbc41"
            ],
            [
             0.9,
             "#4d9221"
            ],
            [
             1,
             "#276419"
            ]
           ],
           "sequential": [
            [
             0,
             "#0d0887"
            ],
            [
             0.1111111111111111,
             "#46039f"
            ],
            [
             0.2222222222222222,
             "#7201a8"
            ],
            [
             0.3333333333333333,
             "#9c179e"
            ],
            [
             0.4444444444444444,
             "#bd3786"
            ],
            [
             0.5555555555555556,
             "#d8576b"
            ],
            [
             0.6666666666666666,
             "#ed7953"
            ],
            [
             0.7777777777777778,
             "#fb9f3a"
            ],
            [
             0.8888888888888888,
             "#fdca26"
            ],
            [
             1,
             "#f0f921"
            ]
           ],
           "sequentialminus": [
            [
             0,
             "#0d0887"
            ],
            [
             0.1111111111111111,
             "#46039f"
            ],
            [
             0.2222222222222222,
             "#7201a8"
            ],
            [
             0.3333333333333333,
             "#9c179e"
            ],
            [
             0.4444444444444444,
             "#bd3786"
            ],
            [
             0.5555555555555556,
             "#d8576b"
            ],
            [
             0.6666666666666666,
             "#ed7953"
            ],
            [
             0.7777777777777778,
             "#fb9f3a"
            ],
            [
             0.8888888888888888,
             "#fdca26"
            ],
            [
             1,
             "#f0f921"
            ]
           ]
          },
          "colorway": [
           "#636efa",
           "#EF553B",
           "#00cc96",
           "#ab63fa",
           "#FFA15A",
           "#19d3f3",
           "#FF6692",
           "#B6E880",
           "#FF97FF",
           "#FECB52"
          ],
          "font": {
           "color": "#2a3f5f"
          },
          "geo": {
           "bgcolor": "white",
           "lakecolor": "white",
           "landcolor": "#E5ECF6",
           "showlakes": true,
           "showland": true,
           "subunitcolor": "white"
          },
          "hoverlabel": {
           "align": "left"
          },
          "hovermode": "closest",
          "mapbox": {
           "style": "light"
          },
          "paper_bgcolor": "white",
          "plot_bgcolor": "#E5ECF6",
          "polar": {
           "angularaxis": {
            "gridcolor": "white",
            "linecolor": "white",
            "ticks": ""
           },
           "bgcolor": "#E5ECF6",
           "radialaxis": {
            "gridcolor": "white",
            "linecolor": "white",
            "ticks": ""
           }
          },
          "scene": {
           "xaxis": {
            "backgroundcolor": "#E5ECF6",
            "gridcolor": "white",
            "gridwidth": 2,
            "linecolor": "white",
            "showbackground": true,
            "ticks": "",
            "zerolinecolor": "white"
           },
           "yaxis": {
            "backgroundcolor": "#E5ECF6",
            "gridcolor": "white",
            "gridwidth": 2,
            "linecolor": "white",
            "showbackground": true,
            "ticks": "",
            "zerolinecolor": "white"
           },
           "zaxis": {
            "backgroundcolor": "#E5ECF6",
            "gridcolor": "white",
            "gridwidth": 2,
            "linecolor": "white",
            "showbackground": true,
            "ticks": "",
            "zerolinecolor": "white"
           }
          },
          "shapedefaults": {
           "line": {
            "color": "#2a3f5f"
           }
          },
          "ternary": {
           "aaxis": {
            "gridcolor": "white",
            "linecolor": "white",
            "ticks": ""
           },
           "baxis": {
            "gridcolor": "white",
            "linecolor": "white",
            "ticks": ""
           },
           "bgcolor": "#E5ECF6",
           "caxis": {
            "gridcolor": "white",
            "linecolor": "white",
            "ticks": ""
           }
          },
          "title": {
           "x": 0.05
          },
          "xaxis": {
           "automargin": true,
           "gridcolor": "white",
           "linecolor": "white",
           "ticks": "",
           "title": {
            "standoff": 15
           },
           "zerolinecolor": "white",
           "zerolinewidth": 2
          },
          "yaxis": {
           "automargin": true,
           "gridcolor": "white",
           "linecolor": "white",
           "ticks": "",
           "title": {
            "standoff": 15
           },
           "zerolinecolor": "white",
           "zerolinewidth": 2
          }
         }
        },
        "title": {
         "text": "Bottom 10 Most Declined Countries (Full Period)"
        },
        "width": 950,
        "xaxis": {
         "anchor": "y",
         "domain": [
          0,
          1
         ],
         "title": {
          "text": "Year"
         }
        },
        "yaxis": {
         "anchor": "x",
         "domain": [
          0,
          1
         ],
         "title": {
          "text": "Human Rights Score"
         }
        }
       }
      }
     },
     "metadata": {},
     "output_type": "display_data"
    }
   ],
   "source": [
    "# Load and prepare data\n",
    "df1 = pd.read_csv('csv files/cpr.csv')\n",
    "df = df1[['country', 'year', 'physint_mean', 'empower_mean']].dropna()\n",
    "df = df.sort_values(['country', 'year'])\n",
    "\n",
    "# Composite score\n",
    "df['total_score'] = df['physint_mean'] + df['empower_mean']\n",
    "\n",
    "# Compute farthest-year difference\n",
    "change_records = []\n",
    "\n",
    "for country in df['country'].unique():\n",
    "    country_df = df[df['country'] == country]\n",
    "    first_year = country_df['year'].min()\n",
    "    last_year = country_df['year'].max()\n",
    "    first_score = country_df[country_df['year'] == first_year]['total_score'].values[0]\n",
    "    last_score = country_df[country_df['year'] == last_year]['total_score'].values[0]\n",
    "    change_records.append({\n",
    "        'country': country,\n",
    "        'start_year': first_year,\n",
    "        'end_year': last_year,\n",
    "        'start_score': first_score,\n",
    "        'end_score': last_score,\n",
    "        'score_change': last_score - first_score\n",
    "    })\n",
    "\n",
    "change_df = pd.DataFrame(change_records)\n",
    "\n",
    "# Top 10 improvers and bottom 10 decliners\n",
    "top_10 = change_df.sort_values('score_change', ascending=False).head(10)['country'].tolist()\n",
    "bottom_10 = change_df.sort_values('score_change').head(10)['country'].tolist()\n",
    "\n",
    "# Subset original data\n",
    "df_top = df[df['country'].isin(top_10)]\n",
    "df_bottom = df[df['country'].isin(bottom_10)]\n",
    "\n",
    "# Plot: Top 10 Improvers\n",
    "fig_top = px.line(\n",
    "    df_top,\n",
    "    x='year',\n",
    "    y='total_score',\n",
    "    color='country',\n",
    "    title='Top 10 Most Improved Countries (Full Period)',\n",
    "    markers=True,\n",
    "    labels={'total_score': 'Human Rights Score', 'year': 'Year'},\n",
    "    height=500,\n",
    "    width=950\n",
    ")\n",
    "\n",
    "# Plot: Bottom 10 Decliners\n",
    "fig_bottom = px.line(\n",
    "    df_bottom,\n",
    "    x='year',\n",
    "    y='total_score',\n",
    "    color='country',\n",
    "    title='Bottom 10 Most Declined Countries (Full Period)',\n",
    "    markers=True,\n",
    "    labels={'total_score': 'Human Rights Score', 'year': 'Year'},\n",
    "    height=500,\n",
    "    width=950\n",
    ")\n",
    "\n",
    "# Show graphs\n",
    "fig_top.show()\n",
    "fig_bottom.show()"
   ]
  },
  {
   "cell_type": "markdown",
   "metadata": {},
   "source": [
    "# Research Question 2\n",
    "\n",
    "To what extent do LGBTQIA+ protections reflect broader civil and political rights in a country, and how do these relationships differ by region, income level, and over time.\n",
    "\n",
    "To answer this research question, we'll examine:\n",
    "\n",
    "1. How civil/political rights indicators (like freedom of expression, assembly, and political participation) might serve as proxies for LGBTQIA+ rights protections\n",
    "2. Regional patterns in these rights\n",
    "3. Changes over time\n",
    "4. Relationships between different rights indicators"
   ]
  },
  {
   "cell_type": "markdown",
   "metadata": {},
   "source": [
    "# Research Question 3\n",
    "\n",
    "Are improvements in gender equality in education rights—measured by the gap between male and female education scores—occurring consistently across countries, or do persistent disparities remain over time? Is the world collectively progressing toward gender parity in education rights, or do global trends reveal uneven progress and enduring inequalities? How does the trajectory of gender equality in education rights in Asia compare to that of Europe?"
   ]
  },
  {
   "cell_type": "code",
   "execution_count": 45,
   "metadata": {},
   "outputs": [],
   "source": [
    "file_path = 'csv files/esr_sex_disaggregated.csv'\n",
    "df = pd.read_csv(file_path)\n",
    "\n",
    "# Combine HiY and LMY education scores (use whichever is available)\n",
    "df['Female_Edu_Score'] = df['LMY_Education_Female_IAScore'].combine_first(df['HiY_Education_Female_IAScore'])\n",
    "df['Male_Edu_Score'] = df['LMY_Education_Male_IAScore'].combine_first(df['HiY_Education_Male_IAScore'])\n",
    "\n",
    "# Drop rows with missing education scores\n",
    "df = df.dropna(subset=['Female_Edu_Score', 'Male_Edu_Score'])\n",
    "\n",
    "# Calculate Gender Gap\n",
    "df['Gender_Gap'] = df['Male_Edu_Score'] - df['Female_Edu_Score']"
   ]
  },
  {
   "cell_type": "code",
   "execution_count": 65,
   "metadata": {},
   "outputs": [
    {
     "data": {
      "image/png": "[encoded data removed]",
      "text/plain": [
       "<Figure size 1200x2300 with 1 Axes>"
      ]
     },
     "metadata": {},
     "output_type": "display_data"
    }
   ],
   "source": [
    "# Country-Level Barplot for the Most Recent Year\n",
    "latest_year = df['Year'].max()\n",
    "latest_data = df[df['Year'] == latest_year]\n",
    "latest_data_sorted = latest_data.sort_values('Gender_Gap')\n",
    "\n",
    "plt.figure(figsize=(12,23))\n",
    "plt.barh(latest_data_sorted['Country'], latest_data_sorted['Gender_Gap'])\n",
    "plt.title(f'Gender Gap by Country in {latest_year}')\n",
    "plt.xlabel('Male - Female Education Score Gap')\n",
    "plt.ylabel('Country')\n",
    "plt.tight_layout()\n",
    "plt.show()"
   ]
  },
  {
   "cell_type": "markdown",
   "metadata": {},
   "source": [
    "This bar plot shows the average global gender gap in education rights year by year. A declining trend would suggest global progress toward gender parity, while fluctuations would indicate uneven improvements.\n"
   ]
  },
  {
   "cell_type": "code",
   "execution_count": 47,
   "metadata": {},
   "outputs": [
    {
     "data": {
      "image/png": "[encoded data removed]",
      "text/plain": [
       "<Figure size 1000x600 with 1 Axes>"
      ]
     },
     "metadata": {},
     "output_type": "display_data"
    }
   ],
   "source": [
    "# Global Trend: Average Gender Gap Over Time\n",
    "global_trend = df.groupby('Year')['Gender_Gap'].mean()\n",
    "plt.figure(figsize=(10,6))\n",
    "plt.plot(global_trend.index, global_trend.values, marker='o')\n",
    "plt.title('Global Average Gender Gap in Education Rights Over Time')\n",
    "plt.xlabel('Year')\n",
    "plt.ylabel('Average Male - Female Education Score Gap')\n",
    "plt.grid(True)\n",
    "plt.show()"
   ]
  },
  {
   "cell_type": "markdown",
   "metadata": {},
   "source": [
    "This line plot shows the global average gender gap in education rights over time. The overall downward trend reflects a gradual worldwide movement toward gender parity, although fluctuations suggest uneven progress year to year.\n"
   ]
  },
  {
   "cell_type": "code",
   "execution_count": 53,
   "metadata": {},
   "outputs": [
    {
     "data": {
      "image/png": "[encoded data removed]",
      "text/plain": [
       "<Figure size 1800x800 with 1 Axes>"
      ]
     },
     "metadata": {},
     "output_type": "display_data"
    }
   ],
   "source": [
    "#Boxplots of Gender Gaps Over Years\n",
    "years = sorted(df['Year'].unique())\n",
    "plt.figure(figsize=(18, 8))\n",
    "data_to_plot = [df[df['Year'] == year]['Gender_Gap'] for year in years]\n",
    "plt.boxplot(data_to_plot, tick_labels=years, patch_artist=True)\n",
    "plt.title('Distribution of Gender Gaps Over Years')\n",
    "plt.xlabel('Year')\n",
    "plt.ylabel('Male - Female Education Score Gap')\n",
    "plt.grid(True)\n",
    "plt.show()"
   ]
  },
  {
   "cell_type": "markdown",
   "metadata": {},
   "source": [
    "This boxplot shows the distribution of gender gaps across all countries for each year, highlighting persistent disparities even as global averages improve.\n"
   ]
  },
  {
   "cell_type": "code",
   "execution_count": 54,
   "metadata": {},
   "outputs": [
    {
     "data": {
      "image/png": "[encoded data removed]",
      "text/plain": [
       "<Figure size 1000x600 with 1 Axes>"
      ]
     },
     "metadata": {},
     "output_type": "display_data"
    }
   ],
   "source": [
    "# Regional Trend: Asia vs Europe\n",
    "# Define Regions\n",
    "asia_countries = [\n",
    "    'Afghanistan', 'Armenia', 'Azerbaijan', 'Bahrain', 'Bangladesh', 'Bhutan', 'Brunei Darussalam', \n",
    "    'Cambodia', 'China', 'Cyprus', 'Georgia', 'India', 'Indonesia', 'Iran', 'Iraq', 'Israel', 'Japan', \n",
    "    'Jordan', 'Kazakhstan', 'Kuwait', 'Kyrgyzstan', 'Laos', 'Lebanon', 'Malaysia', 'Maldives', 'Mongolia', \n",
    "    'Myanmar', 'Nepal', 'North Korea', 'Oman', 'Pakistan', 'Palestine', 'Philippines', 'Qatar', 'Saudi Arabia', \n",
    "    'Singapore', 'South Korea', 'Sri Lanka', 'Syria', 'Tajikistan', 'Thailand', 'Timor-Leste', 'Turkey', \n",
    "    'Turkmenistan', 'United Arab Emirates', 'Uzbekistan', 'Vietnam', 'Yemen'\n",
    "]\n",
    "\n",
    "europe_countries = [\n",
    "    'Albania', 'Andorra', 'Armenia', 'Austria', 'Azerbaijan', 'Belarus', 'Belgium', 'Bosnia and Herzegovina',\n",
    "    'Bulgaria', 'Croatia', 'Cyprus', 'Czech Republic', 'Denmark', 'Estonia', 'Finland', 'France', 'Georgia',\n",
    "    'Germany', 'Greece', 'Hungary', 'Iceland', 'Ireland', 'Italy', 'Kazakhstan', 'Kosovo', 'Latvia', 'Liechtenstein',\n",
    "    'Lithuania', 'Luxembourg', 'Malta', 'Moldova', 'Monaco', 'Montenegro', 'Netherlands', 'North Macedonia',\n",
    "    'Norway', 'Poland', 'Portugal', 'Romania', 'Russia', 'San Marino', 'Serbia', 'Slovakia', 'Slovenia', 'Spain',\n",
    "    'Sweden', 'Switzerland', 'Turkey', 'Ukraine', 'United Kingdom', 'Vatican City'\n",
    "]\n",
    "df['Region'] = df['Country'].apply(\n",
    "    lambda x: 'Asia' if x in asia_countries else ('Europe' if x in europe_countries else 'Other')\n",
    ")\n",
    "\n",
    "regional_df = df[df['Region'].isin(['Asia', 'Europe'])]\n",
    "regional_gap = regional_df.groupby(['Region', 'Year'])['Gender_Gap'].mean().unstack('Region')\n",
    "\n",
    "plt.figure(figsize=(10,6))\n",
    "for region in ['Asia', 'Europe']:\n",
    "    plt.plot(regional_gap.index, regional_gap[region], marker='o', label=region)\n",
    "plt.title('Gender Gap in Education Rights: Asia vs Europe')\n",
    "plt.xlabel('Year')\n",
    "plt.ylabel('Average Male - Female Education Score Gap')\n",
    "plt.legend()\n",
    "plt.grid(True)\n",
    "plt.show()\n"
   ]
  },
  {
   "cell_type": "markdown",
   "metadata": {},
   "source": [
    "This line plot compares the average gender gap between Asia and Europe over time. Europe consistently exhibits smaller gender gaps compared to Asia, although both regions show gradual improvements.\n"
   ]
  },
  {
   "cell_type": "code",
   "execution_count": 55,
   "metadata": {},
   "outputs": [
    {
     "data": {
      "image/png": "[encoded data removed]",
      "text/plain": [
       "<Figure size 1200x800 with 1 Axes>"
      ]
     },
     "metadata": {},
     "output_type": "display_data"
    },
    {
     "data": {
      "image/png": "[encoded data removed]",
      "text/plain": [
       "<Figure size 1000x600 with 1 Axes>"
      ]
     },
     "metadata": {},
     "output_type": "display_data"
    }
   ],
   "source": [
    "# Extract Latest Year Data\n",
    "latest_year = df['Year'].max()\n",
    "latest_data = df[df['Year'] == latest_year]\n",
    "\n",
    "# Create Bar Plot for Asia\n",
    "asia_data = latest_data[latest_data['Region'] == 'Asia'].sort_values('Gender_Gap')\n",
    "plt.figure(figsize=(12,8))\n",
    "plt.barh(asia_data['Country'], asia_data['Gender_Gap'], color='green', edgecolor='black')\n",
    "plt.title(f'Gender Gap in Education Rights - Asia ({latest_year})')\n",
    "plt.xlabel('Gender Gap (Male - Female)')\n",
    "plt.ylabel('Country')\n",
    "plt.grid(True)\n",
    "plt.tight_layout()\n",
    "plt.show()\n",
    "\n",
    "# Create Bar Plot for Europe\n",
    "europe_data = latest_data[latest_data['Region'] == 'Europe'].sort_values('Gender_Gap')\n",
    "plt.figure(figsize=(10,6))\n",
    "plt.barh(europe_data['Country'], europe_data['Gender_Gap'], color='blue', edgecolor='black')\n",
    "plt.title(f'Gender Gap in Education Rights - Europe ({latest_year})')\n",
    "plt.xlabel('Gender Gap (Male - Female)')\n",
    "plt.ylabel('Country')\n",
    "plt.grid(True)\n",
    "plt.tight_layout()\n",
    "plt.show()"
   ]
  },
  {
   "cell_type": "markdown",
   "metadata": {},
   "source": [
    "- The first bar plot displays gender gaps at the country level within Asia, revealing significant variation and persistent inequalities.\n",
    "\n",
    "- The second bar plot displays gender gaps at the country level within Europe, showing that while gaps are generally smaller, disparities between countries remain."
   ]
  },
  {
   "cell_type": "code",
   "execution_count": 56,
   "metadata": {},
   "outputs": [
    {
     "name": "stdout",
     "output_type": "stream",
     "text": [
      "Top 5 Countries with Greatest Improvement Toward Gender Parity:\n",
      "Country\n",
      "Qatar      -17.996987\n",
      "Estonia     -7.561618\n",
      "Iceland     -7.359352\n",
      "Spain       -5.977873\n",
      "Slovenia    -5.727040\n",
      "Name: Gender_Gap, dtype: float64\n",
      "\n",
      "Top 5 Countries with Worsening Gender Gap:\n",
      "Country\n",
      "Netherlands    2.032493\n",
      "Taiwan         2.477595\n",
      "Finland        2.500075\n",
      "Switzerland    4.488733\n",
      "Turkiye        4.537724\n",
      "Name: Gender_Gap, dtype: float64\n"
     ]
    }
   ],
   "source": [
    "# Identify Countries with Largest Improvements\n",
    "early_year = df['Year'].min()\n",
    "late_year = df['Year'].max()\n",
    "\n",
    "gap_start = df[df['Year'] == early_year][['Country', 'Gender_Gap']].set_index('Country')\n",
    "gap_end = df[df['Year'] == late_year][['Country', 'Gender_Gap']].set_index('Country')\n",
    "\n",
    "gap_change = (gap_start['Gender_Gap'] - gap_end['Gender_Gap']).dropna()\n",
    "gap_change_sorted = gap_change.sort_values()\n",
    "\n",
    "# Top 5 countries improving most\n",
    "print(\"Top 5 Countries with Greatest Improvement Toward Gender Parity:\")\n",
    "print(gap_change_sorted.head(5))\n",
    "\n",
    "# Top 5 countries worsening most\n",
    "print(\"\\nTop 5 Countries with Worsening Gender Gap:\")\n",
    "print(gap_change_sorted.tail(5))"
   ]
  },
  {
   "cell_type": "markdown",
   "metadata": {},
   "source": [
    "## Results\n",
    "\n",
    "1. The global trend in gender equality in education rights shows slight improvement trend over time, as depicted in the bar plot of average gender gaps by year. Despite general progress, the year-to-year fluctuations suggest that movement toward parity has not been entirely smooth. A single-line plot of the global gender gap over time confirms a gradual but inconsistent trend toward greater equality.\n",
    "\n",
    "2. Comparing Asia and Europe more closely through a two-line plot, Europe consistently maintains smaller gender gaps relative to Asia, although both regions exhibit gradual progress over the past fifteen years. A global boxplot analysis of gender gaps over time further emphasizes that while the world average improves, there remains substantial variation in gender gap outcomes among countries each year, reflecting persistent global disparities.\n",
    "\n",
    "3. Finally, a breakdown at the country level shows persistent disparities within both Asia and Europe. Bar plots of gender gaps by country reveal that although Europe generally outperforms Asia, significant country-level gaps remain within each region. This layered analysis indicates that while the world is moving toward gender parity in education rights, progress is uneven across regions and countries, and substantial inequalities still need to be addressed."
   ]
  }
 ],
 "metadata": {
  "kernelspec": {
   "display_name": "qtm151",
   "language": "python",
   "name": "python3"
  },
  "language_info": {
   "codemirror_mode": {
    "name": "ipython",
    "version": 3
   },
   "file_extension": ".py",
   "mimetype": "text/x-python",
   "name": "python",
   "nbconvert_exporter": "python",
   "pygments_lexer": "ipython3",
   "version": "3.12.8"
  }
 },
 "nbformat": 4,
 "nbformat_minor": 2
}
